{
 "cells": [
  {
   "cell_type": "markdown",
   "id": "de9d9737616514b8",
   "metadata": {
    "collapsed": false
   },
   "source": [
    "## Az eredményeket mentsd a src/weekly modul-ba weekly_test_4.py néven"
   ]
  },
  {
   "cell_type": "markdown",
   "id": "a9789db8f0fbd7ec",
   "metadata": {
    "collapsed": false
   },
   "source": [
    "#### Használható modulok: pandas, typing, matplotlib, random, src.distributions, src.weekly"
   ]
  },
  {
   "cell_type": "code",
   "execution_count": null,
   "id": "dfea6e648868022e",
   "metadata": {
    "collapsed": false
   },
   "outputs": [],
   "source": [
    "import pandas\n",
    "import pandas as pd\n",
    "from typing import List, Dict\n",
    "import matplotlib\n",
    "import matplotlib.pyplot as plt "
   ]
  },
  {
   "cell_type": "code",
   "execution_count": null,
   "id": "9d26aec7b4e97407",
   "metadata": {
    "collapsed": false
   },
   "outputs": [],
   "source": [
    "\"\"\"\n",
    "1., Olvasd be a data mappa Euro_2012_stats_TEAM.csv nevű fájlját egy dataframe-be. A betöltött adatokat az euro12 alatt tárolja. A következő feladatokban a kiinduló fájlt ne írd felül.\n",
    "\"\"\""
   ]
  },
  {
   "cell_type": "code",
   "execution_count": 10,
   "id": "f1945d927f8109c4",
   "metadata": {
    "collapsed": false,
    "ExecuteTime": {
     "end_time": "2023-10-11T17:37:11.546250Z",
     "start_time": "2023-10-11T17:37:11.494957Z"
    }
   },
   "outputs": [],
   "source": [
    "euro12 = pd.read_csv('../data/Euro_2012_stats_TEAM.csv')\n",
    "\n",
    "\n"
   ]
  },
  {
   "cell_type": "code",
   "execution_count": 7,
   "id": "b79c977da040d844",
   "metadata": {
    "collapsed": false,
    "ExecuteTime": {
     "end_time": "2023-10-11T17:31:30.823288Z",
     "start_time": "2023-10-11T17:31:30.695964Z"
    }
   },
   "outputs": [
    {
     "data": {
      "text/plain": "'\\n2., Készíts egy függvényt, ami megmondja, hogy hány csapat indult az Európa Bajnokságon\\n\\nfüggvény név: number_of_participants\\nbemenet: input_df\\nkimeneti típus: int\\n'"
     },
     "execution_count": 7,
     "metadata": {},
     "output_type": "execute_result"
    }
   ],
   "source": [
    "\"\"\"\n",
    "2., Készíts egy függvényt, ami megmondja, hogy hány csapat indult az Európa Bajnokságon\n",
    "\n",
    "függvény név: number_of_participants\n",
    "bemenet: input_df\n",
    "kimeneti típus: int\n",
    "\"\"\""
   ]
  },
  {
   "cell_type": "markdown",
   "id": "c304a64416ee9b65",
   "metadata": {
    "collapsed": false
   },
   "source": []
  },
  {
   "cell_type": "code",
   "execution_count": 11,
   "id": "505baa2089524304",
   "metadata": {
    "collapsed": false,
    "ExecuteTime": {
     "end_time": "2023-10-11T17:37:18.121098Z",
     "start_time": "2023-10-11T17:37:17.986576Z"
    }
   },
   "outputs": [
    {
     "name": "stdout",
     "output_type": "stream",
     "text": [
      "Az Európa-bajnokságon indult csapatok száma: 16\n"
     ]
    }
   ],
   "source": [
    "def number_of_participants(input_df):\n",
    "    return len(input_df)\n",
    "\n",
    "participants = number_of_participants(euro12)\n",
    "print(\"Az Európa-bajnokságon indult csapatok száma:\", participants)\n"
   ]
  },
  {
   "cell_type": "code",
   "execution_count": null,
   "id": "9d190eb6f3a482b6",
   "metadata": {
    "collapsed": false
   },
   "outputs": [],
   "source": []
  },
  {
   "cell_type": "code",
   "execution_count": null,
   "id": "dd10fafbf699543d",
   "metadata": {
    "collapsed": false
   },
   "outputs": [],
   "source": [
    "\"\"\"\n",
    "3., Készíts egy függvényt, ami visszadja a csapatokat és az áltatuk lőtt gólokat.\n",
    "\n",
    "függvény név: goals\n",
    "bemenet: input_df\n",
    "kimeneti típus: pandas.core.frame.DataFrame\n",
    "\"\"\""
   ]
  },
  {
   "cell_type": "code",
   "execution_count": 12,
   "id": "a58cb336d2bac95d",
   "metadata": {
    "collapsed": false,
    "ExecuteTime": {
     "end_time": "2023-10-11T17:37:38.716287Z",
     "start_time": "2023-10-11T17:37:38.645394Z"
    }
   },
   "outputs": [
    {
     "name": "stdout",
     "output_type": "stream",
     "text": [
      "                   Team  Goals\n",
      "0               Croatia      4\n",
      "1        Czech Republic      4\n",
      "2               Denmark      4\n",
      "3               England      5\n",
      "4                France      3\n",
      "5               Germany     10\n",
      "6                Greece      5\n",
      "7                 Italy      6\n",
      "8           Netherlands      2\n",
      "9                Poland      2\n",
      "10             Portugal      6\n",
      "11  Republic of Ireland      1\n",
      "12               Russia      5\n",
      "13                Spain     12\n",
      "14               Sweden      5\n",
      "15              Ukraine      2\n"
     ]
    }
   ],
   "source": [
    "def goals(input_df):\n",
    "\n",
    "    goals_df = input_df[['Team', 'Goals']]\n",
    "    \n",
    "    return goals_df\n",
    "\n",
    "goals_data = goals(euro12)\n",
    "print(goals_data)\n"
   ]
  },
  {
   "cell_type": "code",
   "execution_count": null,
   "id": "47f914b529be356b",
   "metadata": {
    "collapsed": false
   },
   "outputs": [],
   "source": []
  },
  {
   "cell_type": "code",
   "execution_count": null,
   "id": "a35053917db8723e",
   "metadata": {
    "collapsed": false
   },
   "outputs": [],
   "source": [
    "\"\"\"\n",
    "4., Készíts egy függvényt, ami sorba rendezi az országokat a lőtt gólok száma alapján csökkenő sorrendben. Használd az előző  függvény eredményét.\n",
    "\n",
    "függvény név: sorted_by_goal\n",
    "bemenet: input_df\n",
    "kimeneti típus: pandas.core.frame.DataFrame\n",
    "\n",
    "\"\"\""
   ]
  },
  {
   "cell_type": "code",
   "execution_count": 13,
   "id": "5c764033a4ca200b",
   "metadata": {
    "collapsed": false,
    "ExecuteTime": {
     "end_time": "2023-10-11T17:37:53.728928Z",
     "start_time": "2023-10-11T17:37:53.611021Z"
    }
   },
   "outputs": [
    {
     "name": "stdout",
     "output_type": "stream",
     "text": [
      "                   Team  Goals\n",
      "13                Spain     12\n",
      "5               Germany     10\n",
      "7                 Italy      6\n",
      "10             Portugal      6\n",
      "3               England      5\n",
      "6                Greece      5\n",
      "12               Russia      5\n",
      "14               Sweden      5\n",
      "0               Croatia      4\n",
      "1        Czech Republic      4\n",
      "2               Denmark      4\n",
      "4                France      3\n",
      "8           Netherlands      2\n",
      "9                Poland      2\n",
      "15              Ukraine      2\n",
      "11  Republic of Ireland      1\n"
     ]
    }
   ],
   "source": [
    "def sorted_by_goal(input_df):\n",
    "    goals_df = goals(input_df)\n",
    "    \n",
    "    sorted_goals_df = goals_df.sort_values(by='Goals', ascending=False)\n",
    "    \n",
    "    return sorted_goals_df\n",
    "sorted_goals_data = sorted_by_goal(euro12)\n",
    "print(sorted_goals_data)\n"
   ]
  },
  {
   "cell_type": "code",
   "execution_count": null,
   "id": "a10e9e934b2a98b8",
   "metadata": {
    "collapsed": false
   },
   "outputs": [],
   "source": []
  },
  {
   "cell_type": "code",
   "execution_count": null,
   "id": "30fd1aa0c59afb47",
   "metadata": {
    "collapsed": false
   },
   "outputs": [],
   "source": [
    "\"\"\"\n",
    "5., Készíts egy függvényt, ami visszaadja az átlagos gól számot.\n",
    "\n",
    "függvény név: avg_goal\n",
    "bemenet: input_df\n",
    "kimeneti típus: float\n",
    "\n",
    "\"\"\""
   ]
  },
  {
   "cell_type": "code",
   "execution_count": 14,
   "id": "44865d1982f4fe17",
   "metadata": {
    "collapsed": false,
    "ExecuteTime": {
     "end_time": "2023-10-11T17:38:13.480743Z",
     "start_time": "2023-10-11T17:38:13.436205Z"
    }
   },
   "outputs": [
    {
     "name": "stdout",
     "output_type": "stream",
     "text": [
      "Az átlagos gól szám az Európa-bajnokságon: 4.75\n"
     ]
    }
   ],
   "source": [
    "def avg_goal(input_df):\n",
    "    avg = input_df['Goals'].mean()\n",
    "    \n",
    "    return avg\n",
    "average_goals = avg_goal(euro12)\n",
    "print(\"Az átlagos gól szám az Európa-bajnokságon:\", average_goals)\n"
   ]
  },
  {
   "cell_type": "code",
   "execution_count": null,
   "id": "8d4529f9fc423a7",
   "metadata": {
    "collapsed": false
   },
   "outputs": [],
   "source": []
  },
  {
   "cell_type": "code",
   "execution_count": 15,
   "id": "4637c401e0e6352c",
   "metadata": {
    "collapsed": false,
    "ExecuteTime": {
     "end_time": "2023-10-11T17:38:18.503084Z",
     "start_time": "2023-10-11T17:38:18.428238Z"
    }
   },
   "outputs": [
    {
     "data": {
      "text/plain": "'\\n6., Készíts egy függvényt, ami visszadja azokat az országokat akik 6 vagy több gólt rúgtak\\n\\nfüggvény név: countries_over_five\\nbement: input_df\\nkimeneti típus: pandas.core.frame.DataFrame\\n\\n'"
     },
     "execution_count": 15,
     "metadata": {},
     "output_type": "execute_result"
    }
   ],
   "source": [
    "\"\"\"\n",
    "6., Készíts egy függvényt, ami visszadja azokat az országokat akik 6 vagy több gólt rúgtak\n",
    "\n",
    "függvény név: countries_over_five\n",
    "bement: input_df\n",
    "kimeneti típus: pandas.core.frame.DataFrame\n",
    "\n",
    "\"\"\""
   ]
  },
  {
   "cell_type": "code",
   "execution_count": 16,
   "id": "f1dd81478909c86c",
   "metadata": {
    "collapsed": false,
    "ExecuteTime": {
     "end_time": "2023-10-11T17:38:22.740998Z",
     "start_time": "2023-10-11T17:38:22.695061Z"
    }
   },
   "outputs": [
    {
     "name": "stdout",
     "output_type": "stream",
     "text": [
      "        Team  Goals  Shots on target  Shots off target Shooting Accuracy  \\\n",
      "5    Germany     10               32                32             47.8%   \n",
      "7      Italy      6               34                45             43.0%   \n",
      "10  Portugal      6               22                42             34.3%   \n",
      "13     Spain     12               42                33             55.9%   \n",
      "\n",
      "   % Goals-to-shots  Total shots (inc. Blocked)  Hit Woodwork  Penalty goals  \\\n",
      "5             15.6%                          80             2              1   \n",
      "7              7.5%                         110             2              0   \n",
      "10             9.3%                          82             6              0   \n",
      "13            16.0%                         100             0              1   \n",
      "\n",
      "    Penalties not scored  ...  Saves made  Saves-to-shots ratio  Fouls Won  \\\n",
      "5                      0  ...          10                 62.6%         63   \n",
      "7                      0  ...          20                 74.1%        101   \n",
      "10                     0  ...          10                 71.5%         73   \n",
      "13                     0  ...          15                 93.8%        102   \n",
      "\n",
      "   Fouls Conceded  Offsides  Yellow Cards  Red Cards  Subs on  Subs off  \\\n",
      "5              49        12             4          0       15        15   \n",
      "7              89        16            16          0       18        18   \n",
      "10             90        10            12          0       14        14   \n",
      "13             83        19            11          0       17        17   \n",
      "\n",
      "    Players Used  \n",
      "5             17  \n",
      "7             19  \n",
      "10            16  \n",
      "13            18  \n",
      "\n",
      "[4 rows x 35 columns]\n"
     ]
    }
   ],
   "source": [
    "def countries_over_six(input_df):\n",
    "    selected_countries = input_df[input_df['Goals'] >= 6]\n",
    "    return selected_countries\n",
    "\n",
    "countries_over_six_goals = countries_over_six(euro12)\n",
    "print(countries_over_six_goals)\n"
   ]
  },
  {
   "cell_type": "code",
   "execution_count": null,
   "id": "5c1dc290a99cf46c",
   "metadata": {
    "collapsed": false
   },
   "outputs": [],
   "source": []
  },
  {
   "cell_type": "code",
   "execution_count": null,
   "id": "ff27a788246be43c",
   "metadata": {
    "collapsed": false
   },
   "outputs": [],
   "source": [
    "\"\"\"\n",
    "7., Készíts egy függvényt, ami visszaadja azon országok neveit, amelyek neve 'G'-vel kezdődik\n",
    "\n",
    "fv. neve: countries_starting_with_g\n",
    "bemenet: input_df\n",
    "kimeneti típus: pandas.core.frame.DataFrame\n",
    "\"\"\""
   ]
  },
  {
   "cell_type": "code",
   "execution_count": 17,
   "id": "2ebc475c23f0de6e",
   "metadata": {
    "collapsed": false,
    "ExecuteTime": {
     "end_time": "2023-10-11T17:38:51.438115Z",
     "start_time": "2023-10-11T17:38:51.354244Z"
    }
   },
   "outputs": [
    {
     "name": "stdout",
     "output_type": "stream",
     "text": [
      "      Team  Goals  Shots on target  Shots off target Shooting Accuracy  \\\n",
      "5  Germany     10               32                32             47.8%   \n",
      "6   Greece      5                8                18             30.7%   \n",
      "\n",
      "  % Goals-to-shots  Total shots (inc. Blocked)  Hit Woodwork  Penalty goals  \\\n",
      "5            15.6%                          80             2              1   \n",
      "6            19.2%                          32             1              1   \n",
      "\n",
      "   Penalties not scored  ...  Saves made  Saves-to-shots ratio  Fouls Won  \\\n",
      "5                     0  ...          10                 62.6%         63   \n",
      "6                     1  ...          13                 65.1%         67   \n",
      "\n",
      "  Fouls Conceded  Offsides  Yellow Cards  Red Cards  Subs on  Subs off  \\\n",
      "5             49        12             4          0       15        15   \n",
      "6             48        12             9          1       12        12   \n",
      "\n",
      "   Players Used  \n",
      "5            17  \n",
      "6            20  \n",
      "\n",
      "[2 rows x 35 columns]\n"
     ]
    }
   ],
   "source": [
    "def countries_starting_with_g(input_df):\n",
    "    selected_countries = input_df[input_df['Team'].str.startswith('G')]\n",
    "    \n",
    "    return selected_countries\n",
    "\n",
    "countries_starting_with_g_df = countries_starting_with_g(euro12)\n",
    "print(countries_starting_with_g_df)\n"
   ]
  },
  {
   "cell_type": "code",
   "execution_count": null,
   "id": "a4eef25889cb8347",
   "metadata": {
    "collapsed": false
   },
   "outputs": [],
   "source": []
  },
  {
   "cell_type": "code",
   "execution_count": null,
   "id": "2293e3b440a8ae85",
   "metadata": {
    "collapsed": false
   },
   "outputs": [],
   "source": [
    "\"\"\"\n",
    "8. Készíts egy függvényt, ami visszaadja az első 7 oszlopot. Használja a kiinduló adatokat\n",
    "\n",
    "fv. név: first_seven_columns\n",
    "bemenet: input_df\n",
    "return típus: pandas.core.frame.DataFrame\n",
    "\n",
    "\"\"\""
   ]
  },
  {
   "cell_type": "code",
   "execution_count": 18,
   "id": "a192f2eebf0bb24d",
   "metadata": {
    "collapsed": false,
    "ExecuteTime": {
     "end_time": "2023-10-11T17:39:56.870013Z",
     "start_time": "2023-10-11T17:39:56.802485Z"
    }
   },
   "outputs": [
    {
     "name": "stdout",
     "output_type": "stream",
     "text": [
      "                   Team  Goals  Shots on target  Shots off target  \\\n",
      "0               Croatia      4               13                12   \n",
      "1        Czech Republic      4               13                18   \n",
      "2               Denmark      4               10                10   \n",
      "3               England      5               11                18   \n",
      "4                France      3               22                24   \n",
      "5               Germany     10               32                32   \n",
      "6                Greece      5                8                18   \n",
      "7                 Italy      6               34                45   \n",
      "8           Netherlands      2               12                36   \n",
      "9                Poland      2               15                23   \n",
      "10             Portugal      6               22                42   \n",
      "11  Republic of Ireland      1                7                12   \n",
      "12               Russia      5                9                31   \n",
      "13                Spain     12               42                33   \n",
      "14               Sweden      5               17                19   \n",
      "15              Ukraine      2                7                26   \n",
      "\n",
      "   Shooting Accuracy % Goals-to-shots  Total shots (inc. Blocked)  \n",
      "0              51.9%            16.0%                          32  \n",
      "1              41.9%            12.9%                          39  \n",
      "2              50.0%            20.0%                          27  \n",
      "3              50.0%            17.2%                          40  \n",
      "4              37.9%             6.5%                          65  \n",
      "5              47.8%            15.6%                          80  \n",
      "6              30.7%            19.2%                          32  \n",
      "7              43.0%             7.5%                         110  \n",
      "8              25.0%             4.1%                          60  \n",
      "9              39.4%             5.2%                          48  \n",
      "10             34.3%             9.3%                          82  \n",
      "11             36.8%             5.2%                          28  \n",
      "12             22.5%            12.5%                          59  \n",
      "13             55.9%            16.0%                         100  \n",
      "14             47.2%            13.8%                          39  \n",
      "15             21.2%             6.0%                          38  \n"
     ]
    }
   ],
   "source": [
    "def first_seven_columns(input_df):\n",
    "    first_seven = input_df.iloc[:, :7]\n",
    "    \n",
    "    return first_seven\n",
    "\n",
    "first_seven_cols_df = first_seven_columns(euro12)\n",
    "print(first_seven_cols_df)\n"
   ]
  },
  {
   "cell_type": "code",
   "execution_count": null,
   "id": "dc174ca46e9dea9b",
   "metadata": {
    "collapsed": false
   },
   "outputs": [],
   "source": []
  },
  {
   "cell_type": "code",
   "execution_count": null,
   "id": "a9a68b16090a09f7",
   "metadata": {
    "collapsed": false
   },
   "outputs": [],
   "source": [
    "\"\"\"\n",
    "9. Készíts egy függvényt, ami visszaadja az összes oszlopot az utolsó 3-on kívül. Használja a kiinduló adatokat\n",
    "\n",
    "fv. név: every_column_except_last_three\n",
    "bemenet: input_df\n",
    "return típus: pandas.core.frame.DataFrame\n",
    "\n",
    "\"\"\""
   ]
  },
  {
   "cell_type": "code",
   "execution_count": 19,
   "id": "1d0754a3513e5eec",
   "metadata": {
    "collapsed": false,
    "ExecuteTime": {
     "end_time": "2023-10-11T17:42:11.590607Z",
     "start_time": "2023-10-11T17:42:11.470437Z"
    }
   },
   "outputs": [
    {
     "name": "stdout",
     "output_type": "stream",
     "text": [
      "                   Team  Goals  Shots on target  Shots off target  \\\n",
      "0               Croatia      4               13                12   \n",
      "1        Czech Republic      4               13                18   \n",
      "2               Denmark      4               10                10   \n",
      "3               England      5               11                18   \n",
      "4                France      3               22                24   \n",
      "5               Germany     10               32                32   \n",
      "6                Greece      5                8                18   \n",
      "7                 Italy      6               34                45   \n",
      "8           Netherlands      2               12                36   \n",
      "9                Poland      2               15                23   \n",
      "10             Portugal      6               22                42   \n",
      "11  Republic of Ireland      1                7                12   \n",
      "12               Russia      5                9                31   \n",
      "13                Spain     12               42                33   \n",
      "14               Sweden      5               17                19   \n",
      "15              Ukraine      2                7                26   \n",
      "\n",
      "   Shooting Accuracy % Goals-to-shots  Total shots (inc. Blocked)  \\\n",
      "0              51.9%            16.0%                          32   \n",
      "1              41.9%            12.9%                          39   \n",
      "2              50.0%            20.0%                          27   \n",
      "3              50.0%            17.2%                          40   \n",
      "4              37.9%             6.5%                          65   \n",
      "5              47.8%            15.6%                          80   \n",
      "6              30.7%            19.2%                          32   \n",
      "7              43.0%             7.5%                         110   \n",
      "8              25.0%             4.1%                          60   \n",
      "9              39.4%             5.2%                          48   \n",
      "10             34.3%             9.3%                          82   \n",
      "11             36.8%             5.2%                          28   \n",
      "12             22.5%            12.5%                          59   \n",
      "13             55.9%            16.0%                         100   \n",
      "14             47.2%            13.8%                          39   \n",
      "15             21.2%             6.0%                          38   \n",
      "\n",
      "    Hit Woodwork  Penalty goals  Penalties not scored  ...  Clean Sheets  \\\n",
      "0              0              0                     0  ...             0   \n",
      "1              0              0                     0  ...             1   \n",
      "2              1              0                     0  ...             1   \n",
      "3              0              0                     0  ...             2   \n",
      "4              1              0                     0  ...             1   \n",
      "5              2              1                     0  ...             1   \n",
      "6              1              1                     1  ...             1   \n",
      "7              2              0                     0  ...             2   \n",
      "8              2              0                     0  ...             0   \n",
      "9              0              0                     0  ...             0   \n",
      "10             6              0                     0  ...             2   \n",
      "11             0              0                     0  ...             0   \n",
      "12             2              0                     0  ...             0   \n",
      "13             0              1                     0  ...             5   \n",
      "14             3              0                     0  ...             1   \n",
      "15             0              0                     0  ...             0   \n",
      "\n",
      "    Blocks  Goals conceded Saves made  Saves-to-shots ratio  Fouls Won  \\\n",
      "0       10               3         13                 81.3%         41   \n",
      "1       10               6          9                 60.1%         53   \n",
      "2       10               5         10                 66.7%         25   \n",
      "3       29               3         22                 88.1%         43   \n",
      "4        7               5          6                 54.6%         36   \n",
      "5       11               6         10                 62.6%         63   \n",
      "6       23               7         13                 65.1%         67   \n",
      "7       18               7         20                 74.1%        101   \n",
      "8        9               5         12                 70.6%         35   \n",
      "9        8               3          6                 66.7%         48   \n",
      "10      11               4         10                 71.5%         73   \n",
      "11      23               9         17                 65.4%         43   \n",
      "12       8               3         10                 77.0%         34   \n",
      "13       8               1         15                 93.8%        102   \n",
      "14      12               5          8                 61.6%         35   \n",
      "15       4               4         13                 76.5%         48   \n",
      "\n",
      "    Fouls Conceded  Offsides  Yellow Cards  Red Cards  \n",
      "0               62         2             9          0  \n",
      "1               73         8             7          0  \n",
      "2               38         8             4          0  \n",
      "3               45         6             5          0  \n",
      "4               51         5             6          0  \n",
      "5               49        12             4          0  \n",
      "6               48        12             9          1  \n",
      "7               89        16            16          0  \n",
      "8               30         3             5          0  \n",
      "9               56         3             7          1  \n",
      "10              90        10            12          0  \n",
      "11              51        11             6          1  \n",
      "12              43         4             6          0  \n",
      "13              83        19            11          0  \n",
      "14              51         7             7          0  \n",
      "15              31         4             5          0  \n",
      "\n",
      "[16 rows x 32 columns]\n"
     ]
    }
   ],
   "source": [
    "def every_column_except_last_three(input_df):\n",
    "    columns_except_last_three = input_df.iloc[:, :-3]\n",
    "    \n",
    "    return columns_except_last_three\n",
    "\n",
    "columns_except_last_three_df = every_column_except_last_three(euro12)\n",
    "print(columns_except_last_three_df)\n"
   ]
  },
  {
   "cell_type": "code",
   "execution_count": null,
   "id": "64582e56a87a8160",
   "metadata": {
    "collapsed": false
   },
   "outputs": [],
   "source": []
  },
  {
   "cell_type": "code",
   "execution_count": null,
   "id": "376c202b0fe487aa",
   "metadata": {
    "collapsed": false
   },
   "outputs": [],
   "source": [
    "\"\"\"\n",
    "10. Készíts egy függvényt, amely tetszőleges oszlopokat és sorokat ad vissza a bemeneti adatokból. A sorokat és oszlopokat listák formájában adjuk be a függvénynek. A sorokat egy bemeneti oszlop alapján szűrjük\n",
    "\n",
    "fv. név: sliced_view\n",
    "bemenet: input_df, columns_to_keep, column_to_filter, rows_to_keep\n",
    "return type: pandas.core.frame.DataFrame\n",
    "\n",
    "\"\"\""
   ]
  },
  {
   "cell_type": "code",
   "execution_count": 32,
   "id": "3596668112e27e6",
   "metadata": {
    "collapsed": false,
    "ExecuteTime": {
     "end_time": "2023-10-11T18:02:23.552390Z",
     "start_time": "2023-10-11T18:02:23.453814Z"
    }
   },
   "outputs": [
    {
     "name": "stdout",
     "output_type": "stream",
     "text": [
      "    Goals_left      Team  Goals  Shots on target  Shots off target  \\\n",
      "5           10   Germany     10               32                32   \n",
      "10           6  Portugal      6               22                42   \n",
      "\n",
      "   Shooting Accuracy % Goals-to-shots  Total shots (inc. Blocked)  \\\n",
      "5              47.8%            15.6%                          80   \n",
      "10             34.3%             9.3%                          82   \n",
      "\n",
      "    Hit Woodwork  Penalty goals  ...  Saves-to-shots ratio  Fouls Won  \\\n",
      "5              2              1  ...                 62.6%         63   \n",
      "10             6              0  ...                 71.5%         73   \n",
      "\n",
      "    Fouls Conceded  Offsides Yellow Cards  Red Cards  Subs on  Subs off  \\\n",
      "5               49        12            4          0       15        15   \n",
      "10              90        10           12          0       14        14   \n",
      "\n",
      "    Players Used  Quartile  \n",
      "5             17         1  \n",
      "10            16         1  \n",
      "\n",
      "[2 rows x 37 columns]\n"
     ]
    }
   ],
   "source": [
    "def sliced_view(input_df, columns_to_keep, column_to_filter, rows_to_keep):\n",
    "    selected_columns = input_df[columns_to_keep]\n",
    "    filtered_rows = input_df[input_df[column_to_filter].isin(rows_to_keep)]\n",
    "    \n",
    "    return selected_columns.join(filtered_rows, how='inner', lsuffix='_left')\n",
    "\n",
    "columns_to_keep = ['Team', 'Shooting Accuracy']\n",
    "column_to_filter = 'Team'\n",
    "rows_to_keep = ['England', 'Italy', 'Russia']\n",
    "sliced_df = sliced_view(euro12, columns_to_keep, column_to_filter, rows_to_keep)\n",
    "print(sliced_df)\n",
    "\n",
    "\n"
   ]
  },
  {
   "cell_type": "code",
   "execution_count": null,
   "id": "6e731f8b0d4c77ee",
   "metadata": {
    "collapsed": false
   },
   "outputs": [],
   "source": []
  },
  {
   "cell_type": "code",
   "execution_count": null,
   "id": "47d70863b98e7ae3",
   "metadata": {
    "collapsed": false
   },
   "outputs": [],
   "source": [
    "\"\"\"\n",
    "11. Készíts egy függvényt, ami a bemeneti adatokat kiegészíti egy 'Quartile' oszloppal. A kvartilis oszlop értékeit a lőtt gólok alapján határozza meg:\n",
    "\n",
    "6 - 12: 1\n",
    "5 - 5: 2\n",
    "3 - 4: 3\n",
    "0 - 2: 4\n",
    "\n",
    "fv. név: generate_quartile\n",
    "bemenet: input_df\n",
    "return type: pandas.core.frame.DataFrame\n",
    "\n",
    "\"\"\""
   ]
  },
  {
   "cell_type": "code",
   "execution_count": 23,
   "id": "21d385ae84f4114d",
   "metadata": {
    "collapsed": false,
    "ExecuteTime": {
     "end_time": "2023-10-11T17:45:57.475763Z",
     "start_time": "2023-10-11T17:45:57.328775Z"
    }
   },
   "outputs": [
    {
     "name": "stdout",
     "output_type": "stream",
     "text": [
      "                   Team  Goals  Shots on target  Shots off target  \\\n",
      "0               Croatia      4               13                12   \n",
      "1        Czech Republic      4               13                18   \n",
      "2               Denmark      4               10                10   \n",
      "3               England      5               11                18   \n",
      "4                France      3               22                24   \n",
      "5               Germany     10               32                32   \n",
      "6                Greece      5                8                18   \n",
      "7                 Italy      6               34                45   \n",
      "8           Netherlands      2               12                36   \n",
      "9                Poland      2               15                23   \n",
      "10             Portugal      6               22                42   \n",
      "11  Republic of Ireland      1                7                12   \n",
      "12               Russia      5                9                31   \n",
      "13                Spain     12               42                33   \n",
      "14               Sweden      5               17                19   \n",
      "15              Ukraine      2                7                26   \n",
      "\n",
      "   Shooting Accuracy % Goals-to-shots  Total shots (inc. Blocked)  \\\n",
      "0              51.9%            16.0%                          32   \n",
      "1              41.9%            12.9%                          39   \n",
      "2              50.0%            20.0%                          27   \n",
      "3              50.0%            17.2%                          40   \n",
      "4              37.9%             6.5%                          65   \n",
      "5              47.8%            15.6%                          80   \n",
      "6              30.7%            19.2%                          32   \n",
      "7              43.0%             7.5%                         110   \n",
      "8              25.0%             4.1%                          60   \n",
      "9              39.4%             5.2%                          48   \n",
      "10             34.3%             9.3%                          82   \n",
      "11             36.8%             5.2%                          28   \n",
      "12             22.5%            12.5%                          59   \n",
      "13             55.9%            16.0%                         100   \n",
      "14             47.2%            13.8%                          39   \n",
      "15             21.2%             6.0%                          38   \n",
      "\n",
      "    Hit Woodwork  Penalty goals  Penalties not scored  ...  \\\n",
      "0              0              0                     0  ...   \n",
      "1              0              0                     0  ...   \n",
      "2              1              0                     0  ...   \n",
      "3              0              0                     0  ...   \n",
      "4              1              0                     0  ...   \n",
      "5              2              1                     0  ...   \n",
      "6              1              1                     1  ...   \n",
      "7              2              0                     0  ...   \n",
      "8              2              0                     0  ...   \n",
      "9              0              0                     0  ...   \n",
      "10             6              0                     0  ...   \n",
      "11             0              0                     0  ...   \n",
      "12             2              0                     0  ...   \n",
      "13             0              1                     0  ...   \n",
      "14             3              0                     0  ...   \n",
      "15             0              0                     0  ...   \n",
      "\n",
      "    Saves-to-shots ratio  Fouls Won  Fouls Conceded Offsides  Yellow Cards  \\\n",
      "0                  81.3%         41              62        2             9   \n",
      "1                  60.1%         53              73        8             7   \n",
      "2                  66.7%         25              38        8             4   \n",
      "3                  88.1%         43              45        6             5   \n",
      "4                  54.6%         36              51        5             6   \n",
      "5                  62.6%         63              49       12             4   \n",
      "6                  65.1%         67              48       12             9   \n",
      "7                  74.1%        101              89       16            16   \n",
      "8                  70.6%         35              30        3             5   \n",
      "9                  66.7%         48              56        3             7   \n",
      "10                 71.5%         73              90       10            12   \n",
      "11                 65.4%         43              51       11             6   \n",
      "12                 77.0%         34              43        4             6   \n",
      "13                 93.8%        102              83       19            11   \n",
      "14                 61.6%         35              51        7             7   \n",
      "15                 76.5%         48              31        4             5   \n",
      "\n",
      "    Red Cards  Subs on  Subs off  Players Used  Quartile  \n",
      "0           0        9         9            16         3  \n",
      "1           0       11        11            19         3  \n",
      "2           0        7         7            15         3  \n",
      "3           0       11        11            16         2  \n",
      "4           0       11        11            19         3  \n",
      "5           0       15        15            17         1  \n",
      "6           1       12        12            20         2  \n",
      "7           0       18        18            19         1  \n",
      "8           0        7         7            15         4  \n",
      "9           1        7         7            17         4  \n",
      "10          0       14        14            16         1  \n",
      "11          1       10        10            17         4  \n",
      "12          0        7         7            16         2  \n",
      "13          0       17        17            18         1  \n",
      "14          0        9         9            18         2  \n",
      "15          0        9         9            18         4  \n",
      "\n",
      "[16 rows x 36 columns]\n"
     ]
    }
   ],
   "source": [
    "def generate_quartile(input_df):\n",
    "    input_df['Quartile'] = pd.cut(input_df['Goals'], [-1, 2, 4, 5, 12], labels=[4, 3, 2, 1])\n",
    "    return pd.DataFrame(input_df)\n"
   ]
  },
  {
   "cell_type": "code",
   "execution_count": null,
   "id": "3ad4b27111f25648",
   "metadata": {
    "collapsed": false
   },
   "outputs": [],
   "source": []
  },
  {
   "cell_type": "code",
   "execution_count": null,
   "id": "bb70c884473a7679",
   "metadata": {
    "collapsed": false
   },
   "outputs": [],
   "source": [
    "\"\"\"\n",
    "12., Készíts egy függvényt, ami minden kvartilis értékhez kiszámítja, hogy átlagosan hány passzot adtak.\n",
    "\n",
    "fn név: average_yellow_in_quartiles\n",
    "bemenet: input_df\n",
    "return type: pandas.core.frame.DataFrame\n",
    "\n",
    "\"\"\""
   ]
  },
  {
   "cell_type": "code",
   "execution_count": 37,
   "id": "dad25f20c5ac3ec6",
   "metadata": {
    "collapsed": false,
    "ExecuteTime": {
     "end_time": "2023-10-11T18:08:39.610512Z",
     "start_time": "2023-10-11T18:08:39.373698Z"
    }
   },
   "outputs": [
    {
     "name": "stdout",
     "output_type": "stream",
     "text": [
      "  Quartile   Passes\n",
      "0        4  1185.50\n",
      "1        3  1501.25\n",
      "2        2  1367.25\n",
      "3        1  2999.50\n"
     ]
    },
    {
     "name": "stderr",
     "output_type": "stream",
     "text": [
      "/var/folders/qm/g7dv5bfd3590rc667_yty_mr0000gn/T/ipykernel_535/1881053848.py:2: FutureWarning: The default of observed=False is deprecated and will be changed to True in a future version of pandas. Pass observed=False to retain current behavior or observed=True to adopt the future default and silence this warning.\n",
      "  average_yellow_df = input_df.groupby('Quartile')['Passes'].mean().reset_index()\n"
     ]
    }
   ],
   "source": [
    "def average_yellow_in_quartiles(input_df):\n",
    "    average_yellow_df = input_df.groupby('Quartile')['Passes'].mean().reset_index()\n",
    "    average_yellow_df.rename(columns={'Yellow Cards': 'Passes Completed'}, inplace=True)\n",
    "    \n",
    "    return average_yellow_df\n",
    "\n",
    "average_yellow_in_quartiles_df = average_yellow_in_quartiles(euro12_with_quartile)\n",
    "print(average_yellow_in_quartiles_df)\n",
    "\n"
   ]
  },
  {
   "cell_type": "code",
   "execution_count": 23,
   "id": "8a8aa5257e5e9f81",
   "metadata": {
    "collapsed": false,
    "ExecuteTime": {
     "end_time": "2023-10-11T17:47:52.555187Z",
     "start_time": "2023-10-11T17:47:52.496263Z"
    }
   },
   "outputs": [],
   "source": []
  },
  {
   "cell_type": "code",
   "execution_count": null,
   "id": "1fa60ba13b667576",
   "metadata": {
    "collapsed": false
   },
   "outputs": [],
   "source": [
    "\"\"\"\n",
    "13., Készíts egy függvényt ami minden kvartilis esetén visszadja a blokkok (Blocks) minimális és maximális értékét.\n",
    "\n",
    "fv. név: minmax_block_in_quartile\n",
    "bemenet: input_df\n",
    "return type: pandas.core.frame.DataFrame\n",
    "\"\"\""
   ]
  },
  {
   "cell_type": "code",
   "execution_count": 26,
   "id": "a4166f92696d8f3c",
   "metadata": {
    "collapsed": false,
    "ExecuteTime": {
     "end_time": "2023-10-11T17:51:11.226511Z",
     "start_time": "2023-10-11T17:51:11.143079Z"
    }
   },
   "outputs": [
    {
     "name": "stdout",
     "output_type": "stream",
     "text": [
      "  Quartile  Minimum Blocks  Maximum Blocks\n",
      "0        4               4              23\n",
      "1        3               7              10\n",
      "2        2               8              29\n",
      "3        1               8              18\n"
     ]
    },
    {
     "name": "stderr",
     "output_type": "stream",
     "text": [
      "/var/folders/qm/g7dv5bfd3590rc667_yty_mr0000gn/T/ipykernel_535/576619761.py:3: FutureWarning: The default of observed=False is deprecated and will be changed to True in a future version of pandas. Pass observed=False to retain current behavior or observed=True to adopt the future default and silence this warning.\n",
      "  minmax_block_df = input_df.groupby('Quartile')['Blocks'].agg(['min', 'max']).reset_index()\n"
     ]
    }
   ],
   "source": [
    "def minmax_block_in_quartile(input_df):\n",
    "\n",
    "    minmax_block_df = input_df.groupby('Quartile')['Blocks'].agg(['min', 'max']).reset_index()\n",
    "    minmax_block_df.rename(columns={'min': 'Minimum Blocks', 'max': 'Maximum Blocks'}, inplace=True)\n",
    "    \n",
    "    return minmax_block_df\n",
    "\n",
    "minmax_block_in_quartile_df = minmax_block_in_quartile(euro12_with_quartile)\n",
    "print(minmax_block_in_quartile_df)\n"
   ]
  },
  {
   "cell_type": "code",
   "execution_count": null,
   "id": "accb935cb089b427",
   "metadata": {
    "collapsed": false
   },
   "outputs": [],
   "source": []
  },
  {
   "cell_type": "code",
   "execution_count": null,
   "id": "31b60fe10110736b",
   "metadata": {
    "collapsed": false
   },
   "outputs": [],
   "source": [
    "\"\"\"\n",
    "14., Készíts egy függvényt, ami scatter_plot-on ábrázolja a gólok és a kaput ért találatok kapcsolatát.\n",
    "\n",
    "fv név: scatter_goals_shots\n",
    "bemenet: input_df\n",
    "X tengelyen: Goals\n",
    "y tengelyen: Shots on target\n",
    "title: 'Goals and Shot on target'\n",
    "Tengely feliratok egyezenek meg az oszlop nevekkel\n",
    "\n",
    "return type: matplotlib.figure.Figure\n",
    "\"\"\""
   ]
  },
  {
   "cell_type": "code",
   "execution_count": 29,
   "id": "baecdf0d2d7f6fc3",
   "metadata": {
    "collapsed": false,
    "ExecuteTime": {
     "end_time": "2023-10-11T17:52:37.213677Z",
     "start_time": "2023-10-11T17:52:36.297862Z"
    }
   },
   "outputs": [
    {
     "data": {
      "text/plain": "<Figure size 640x480 with 1 Axes>",
      "image/png": "[encoded data removed]"
     },
     "metadata": {},
     "output_type": "display_data"
    }
   ],
   "source": [
    "import matplotlib.pyplot as plt\n",
    "\n",
    "def scatter_goals_shots(input_df):\n",
    "    fig, ax = plt.subplots()\n",
    "    ax.scatter(input_df['Goals'], input_df['Shots on target'])\n",
    "    \n",
    "    ax.set_xlabel('Goals')\n",
    "    ax.set_ylabel('Shots on target')\n",
    "\n",
    "    ax.set_title('Goals and Shot on target')\n",
    "    \n",
    "    plt.show()\n",
    "    \n",
    "    return fig\n",
    "\n",
    "\n",
    "scatter_plot = scatter_goals_shots(euro12)\n"
   ]
  },
  {
   "cell_type": "code",
   "execution_count": null,
   "id": "d202e423c6fac93d",
   "metadata": {
    "collapsed": false
   },
   "outputs": [],
   "source": []
  },
  {
   "cell_type": "code",
   "execution_count": null,
   "id": "aab2d1aee5e62a78",
   "metadata": {
    "collapsed": false
   },
   "outputs": [],
   "source": [
    "\"\"\"\n",
    "15., Készíts egy függvényt, ami scatter_plot-on ábrázolja a gólok és a kaput ért találatok kapcsolatát. A különböző kvartiliseket különböző színek jelöljék. A színek mellett jelenjen meg jelmagyarázat.\n",
    "\n",
    "fv név: scatter_goals_shots_by_quartile\n",
    "bemenet: input_df\n",
    "X tengelyen: Goals\n",
    "y tengelyen: Shots on target\n",
    "title: 'Goals and Shot on target'\n",
    "Tengely feliratok egyezenek meg az oszlop nevekkel\n",
    "Jelmagyarázat címe: Quartiles\n",
    "\n",
    "return type: matplotlib.figure.Figure\n",
    "\"\"\""
   ]
  },
  {
   "cell_type": "code",
   "execution_count": 30,
   "id": "82b34fb7ec646847",
   "metadata": {
    "collapsed": false,
    "ExecuteTime": {
     "end_time": "2023-10-11T17:53:58.334811Z",
     "start_time": "2023-10-11T17:53:58.129942Z"
    }
   },
   "outputs": [
    {
     "data": {
      "text/plain": "<Figure size 640x480 with 1 Axes>",
      "image/png": "[encoded data removed]"
     },
     "metadata": {},
     "output_type": "display_data"
    }
   ],
   "source": [
    "def scatter_goals_shots_by_quartile(input_df):\n",
    "\n",
    "    quartiles = input_df['Quartile'].unique()\n",
    "\n",
    "    colors = ['b', 'g', 'r', 'c']\n",
    "\n",
    "    fig, ax = plt.subplots()\n",
    "    for i, quartile in enumerate(quartiles):\n",
    "        subset = input_df[input_df['Quartile'] == quartile]\n",
    "        ax.scatter(subset['Goals'], subset['Shots on target'], label=f'Quartile {quartile}', color=colors[i])\n",
    "\n",
    "    ax.set_xlabel('Goals')\n",
    "    ax.set_ylabel('Shots on target')\n",
    "    \n",
    "    ax.set_title('Goals and Shot on target')\n",
    "    \n",
    "    ax.legend(title='Quartiles')\n",
    "    \n",
    "    plt.show()\n",
    "    \n",
    "    return fig\n",
    "\n",
    "scatter_plot_by_quartile = scatter_goals_shots_by_quartile(euro12_with_quartile)\n"
   ]
  },
  {
   "cell_type": "code",
   "execution_count": null,
   "id": "dac4a005197f4a91",
   "metadata": {
    "collapsed": false
   },
   "outputs": [],
   "source": []
  },
  {
   "cell_type": "code",
   "execution_count": null,
   "id": "10b9f08f28204e28",
   "metadata": {
    "collapsed": false
   },
   "outputs": [],
   "source": [
    "\"\"\"\n",
    "16. Készíts egy függvényt, ami létrehoz egy listát, benne number_of_trajectories db listával. A belső listák létrehozásának logikája a következő:\n",
    "    A bemeneti paraméterként kapott pareto_distribution osztály felhasználásával (ParetoDistribution 1,1 paraméterekkel) generálj length_of_trajectory véletlen számot\n",
    "    A belső lista tartalmazza a generált számok kumulatív átlagát.\n",
    "    Ismételd meg number_of_trajectories alkalommal (mindegyik belső listába egyszer)\n",
    "    A seed értéke legyen 42.\n",
    "\n",
    "függvény bemenete: pareto_distribution, number_of_trajectories, length_of_trajectory\n",
    "kimeneti típus: List    \n",
    "függvény neve: gen_pareto_mean_trajectories\n",
    "\"\"\""
   ]
  },
  {
   "cell_type": "code",
   "execution_count": 31,
   "id": "bededb488887a09d",
   "metadata": {
    "collapsed": false,
    "ExecuteTime": {
     "end_time": "2023-10-11T17:55:09.941195Z",
     "start_time": "2023-10-11T17:55:09.837611Z"
    }
   },
   "outputs": [
    {
     "name": "stdout",
     "output_type": "stream",
     "text": [
      "[[0.25212381430535236, 0.3453649360880369, 0.47076185656016345, 0.587793714972372, 0.9327620668004338, 1.2139527465937865, 2.0571054679650986, 2.156670638577807, 2.313931531662539, 2.407632655520829], [0.11634695311208752, 0.3001335957722592, 0.3935208068842792, 0.5069923036252405, 0.7666468312118866, 0.9664213372020133, 1.0830373301326208, 1.3043704093039883, 1.7814093386328038, 1.8729130904344948], [0.46816737378525813, 0.7693298620322597, 0.9071232111521308, 1.0147690183158764, 3.139462133662636, 3.2764961152787877, 3.376698567089855, 3.4773414754494705, 4.073444640505082, 4.302854337091182], [0.471344828256858, 0.807711024625284, 1.0037321488763042, 4.385233889871755, 4.531515659248996, 4.734456142818924, 5.267349322524083, 5.505655477226733, 6.163020820207583, 6.378114993498298], [0.3077197845471061, 0.4029947940441881, 0.5207371692290196, 0.6486678631276355, 0.7474597543406355, 0.8659529907907314, 0.9670756108738771, 1.0929838758634636, 1.3425178018182138, 1.4856438984168783]]\n"
     ]
    }
   ],
   "source": []
  },
  {
   "cell_type": "code",
   "execution_count": null,
   "id": "d47adf97603987b3",
   "metadata": {
    "collapsed": false
   },
   "outputs": [],
   "source": []
  }
 ],
 "metadata": {
  "kernelspec": {
   "display_name": "Python 3 (ipykernel)",
   "language": "python",
   "name": "python3"
  },
  "language_info": {
   "codemirror_mode": {
    "name": "ipython",
    "version": 3
   },
   "file_extension": ".py",
   "mimetype": "text/x-python",
   "name": "python",
   "nbconvert_exporter": "python",
   "pygments_lexer": "ipython3",
   "version": "3.10.4"
  }
 },
 "nbformat": 4,
 "nbformat_minor": 5
}
