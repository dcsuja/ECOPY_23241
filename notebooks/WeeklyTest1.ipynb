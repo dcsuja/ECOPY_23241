{
 "cells": [
  {
   "cell_type": "markdown",
   "source": [
    "##### A feladatok megoldását mentse src/weekly modul-ba a weekly_test_1.py nevű fájlba\n",
    "###### A fájlba kommentként írd be a Neptun kódodat"
   ],
   "metadata": {
    "collapsed": false
   },
   "id": "a8cbfcd702b3de5"
  },
  {
   "cell_type": "code",
   "execution_count": null,
   "outputs": [],
   "source": [],
   "metadata": {
    "collapsed": false
   },
   "id": "7570820639b84ca8"
  },
  {
   "cell_type": "code",
   "execution_count": null,
   "outputs": [],
   "source": [
    "# 1., Írjon egy függvényt ami vissza adja a bemeneti lista páros elemeit\n",
    "# függvény név: evens_from_list\n",
    "# bemeneti paraméterek: input_list \n",
    "# kimeneti típus: List "
   ],
   "metadata": {
    "collapsed": false
   },
   "id": "7675f2ea543b3407"
  },
  {
   "cell_type": "code",
   "execution_count": 41,
   "outputs": [
    {
     "name": "stdout",
     "output_type": "stream",
     "text": [
      "[2, 4, 6]\n"
     ]
    }
   ],
   "source": [
    "def evens_from_list(input_list):\n",
    "    return [number for number in input_list if number % 2 == 0]\n",
    "\n",
    "my_list = [1, 2, 3, 4, 5, 6]\n",
    "result = evens_from_list(my_list)\n",
    "print(result) \n"
   ],
   "metadata": {
    "collapsed": false,
    "ExecuteTime": {
     "end_time": "2023-09-20T17:53:41.582789Z",
     "start_time": "2023-09-20T17:53:41.513116Z"
    }
   },
   "id": "249bcda88ef6bb9a"
  },
  {
   "cell_type": "code",
   "execution_count": null,
   "outputs": [],
   "source": [],
   "metadata": {
    "collapsed": false
   },
   "id": "d7595a49d9eb729f"
  },
  {
   "cell_type": "code",
   "execution_count": null,
   "outputs": [],
   "source": [
    "# 2., Írjon egy függvényt ami megvizsgálja, hogy a listában minden elem páratlan-e\n",
    "# függvény név: every_element_is_odd\n",
    "# bemeneti paraméterek: input_list \n",
    "# kimeneti típus: bool "
   ],
   "metadata": {
    "collapsed": false
   },
   "id": "initial_id"
  },
  {
   "cell_type": "code",
   "execution_count": 22,
   "outputs": [
    {
     "name": "stdout",
     "output_type": "stream",
     "text": [
      "False\n"
     ]
    }
   ],
   "source": [
    "def every_element_is_odd(input_list):\n",
    "    for number in input_list:\n",
    "        if number % 2 == 0:\n",
    "            return False  \n",
    "    return True  \n",
    "\n",
    "my_list = [1, 3, 5, 7, 8]\n",
    "result = every_element_is_odd(my_list)\n",
    "print(result)"
   ],
   "metadata": {
    "collapsed": false,
    "ExecuteTime": {
     "end_time": "2023-09-20T17:44:13.385169Z",
     "start_time": "2023-09-20T17:44:13.341812Z"
    }
   },
   "id": "f403d1a38951a2e5"
  },
  {
   "cell_type": "code",
   "execution_count": null,
   "outputs": [],
   "source": [],
   "metadata": {
    "collapsed": false
   },
   "id": "32de36b5b20054fd"
  },
  {
   "cell_type": "code",
   "execution_count": null,
   "outputs": [],
   "source": [
    "# 3., Írjon egy függvényt ami visszaadja a k. legnagyobb elemet listában \n",
    "# függvény név: kth_largest_in_list\n",
    "# bemeneti paraméterek: input_list, kth_largest\n",
    "# kimeneti típus: int "
   ],
   "metadata": {
    "collapsed": false
   },
   "id": "884e2710a259cb85"
  },
  {
   "cell_type": "code",
   "execution_count": 44,
   "outputs": [
    {
     "name": "stdout",
     "output_type": "stream",
     "text": [
      "6\n"
     ]
    }
   ],
   "source": [
    "def kth_largest_in_list(input_list, kth_largest):\n",
    "    sorted_list = sorted(input_list, reverse=True)\n",
    "  \n",
    "    if 1 <= kth_largest <= len(sorted_list):\n",
    "        return sorted_list[kth_largest - 1]\n",
    "    else:\n",
    "        raise ValueError(\"Not valid k value\")\n",
    "\n",
    "my_list = [5, 4, 9, 3, 1, 6]\n",
    "k = 2\n",
    "result = kth_largest_in_list(my_list, k)\n",
    "print(result) \n"
   ],
   "metadata": {
    "collapsed": false,
    "ExecuteTime": {
     "end_time": "2023-09-20T17:55:44.925020Z",
     "start_time": "2023-09-20T17:55:44.767795Z"
    }
   },
   "id": "af9f705a9b8115f"
  },
  {
   "cell_type": "code",
   "execution_count": null,
   "outputs": [],
   "source": [],
   "metadata": {
    "collapsed": false
   },
   "id": "5a4c2a396921bf8d"
  },
  {
   "cell_type": "code",
   "execution_count": null,
   "outputs": [],
   "source": [
    "# 4., Írjon egy függvényt ami kiszámítja a lista elemek gördülő átlagát\n",
    "# függvény név: cumavg_list\n",
    "# bemeneti paraméterek: input_list \n",
    "# kimeneti típus: List "
   ],
   "metadata": {
    "collapsed": false
   },
   "id": "8021cc1853d79c8"
  },
  {
   "cell_type": "code",
   "execution_count": 11,
   "outputs": [
    {
     "name": "stdout",
     "output_type": "stream",
     "text": [
      "[3.0, 4.0, 5.0, 5.75, 6.8]\n"
     ]
    }
   ],
   "source": [
    "def cumavg_list(input_list):\n",
    "    cumulative_sum = 0\n",
    "    cumulative_average_list = []\n",
    "    \n",
    "    for i, num in enumerate(input_list, start=1):\n",
    "        cumulative_sum += num\n",
    "        cumulative_average = cumulative_sum / i\n",
    "        cumulative_average_list.append(cumulative_average)\n",
    "    \n",
    "    return cumulative_average_list\n",
    "\n",
    "my_list = [3, 5, 7, 8, 11]\n",
    "result = cumavg_list(my_list)\n",
    "print(result) \n"
   ],
   "metadata": {
    "collapsed": false,
    "ExecuteTime": {
     "end_time": "2023-09-20T17:25:16.217732Z",
     "start_time": "2023-09-20T17:25:16.136111Z"
    }
   },
   "id": "1b934675038ee3d3"
  },
  {
   "cell_type": "code",
   "execution_count": null,
   "outputs": [],
   "source": [],
   "metadata": {
    "collapsed": false
   },
   "id": "185383fff68901dc"
  },
  {
   "cell_type": "code",
   "execution_count": null,
   "outputs": [],
   "source": [
    "# 5., Írjon egy függvényt ami kiszámítja 2 lista elemenként vett szorzatát\n",
    "# függvény név: element_wise_multiplication\n",
    "# bemeneti paraméterek: input_list1, input_list2 \n",
    "# kimeneti típus: List "
   ],
   "metadata": {
    "collapsed": false
   },
   "id": "323feea145ed36b4"
  },
  {
   "cell_type": "code",
   "execution_count": 15,
   "outputs": [
    {
     "name": "stdout",
     "output_type": "stream",
     "text": [
      "[6, 14, 24, 36, 50]\n"
     ]
    }
   ],
   "source": [
    "def element_wise_multiplication(input_list1, input_list2):\n",
    "    if len(input_list1) != len(input_list2):\n",
    "        raise ValueError(\"Lengths of lists are different.\")\n",
    "    \n",
    "    result = []\n",
    "    \n",
    "    for i in range(len(input_list1)):\n",
    "        product = input_list1[i] * input_list2[i]\n",
    "        result.append(product)\n",
    "    \n",
    "    return result\n",
    "\n",
    "list1 = [1, 2, 3, 4, 5]\n",
    "list2 = [6, 7, 8, 9, 10]\n",
    "result = element_wise_multiplication(list1, list2)\n",
    "print(result) \n"
   ],
   "metadata": {
    "collapsed": false,
    "ExecuteTime": {
     "end_time": "2023-09-20T17:33:26.670219Z",
     "start_time": "2023-09-20T17:33:26.564713Z"
    }
   },
   "id": "ce2d7d79deff3706"
  },
  {
   "cell_type": "code",
   "execution_count": null,
   "outputs": [],
   "source": [],
   "metadata": {
    "collapsed": false
   },
   "id": "6674291fd3503469"
  },
  {
   "cell_type": "code",
   "execution_count": null,
   "outputs": [],
   "source": [
    "# 6., Írjon egy függvényt amely összekapcsol n listát 1 listába\n",
    "# függvény név: merge_lists\n",
    "# bemeneti paraméterek: *lists\n",
    "# kimeneti típus: List "
   ],
   "metadata": {
    "collapsed": false
   },
   "id": "d1dc000ed96cff44"
  },
  {
   "cell_type": "code",
   "execution_count": 45,
   "outputs": [
    {
     "name": "stdout",
     "output_type": "stream",
     "text": [
      "[1, 2, 3, 4, 5]\n"
     ]
    }
   ],
   "source": [
    "def merge_lists(*lists):\n",
    "    merged_list = []\n",
    "    for sublist in lists:\n",
    "        merged_list.extend(sublist)\n",
    "    return merged_list\n",
    "\n",
    "my_list1 = [1, 2, 3]\n",
    "my_list2 = [4, 5]\n",
    "\n",
    "result = merge_lists(my_list1, my_list2)\n",
    "print(result)  \n"
   ],
   "metadata": {
    "collapsed": false,
    "ExecuteTime": {
     "end_time": "2023-09-20T18:00:49.196367Z",
     "start_time": "2023-09-20T18:00:49.163230Z"
    }
   },
   "id": "c4af23267ba36eec"
  },
  {
   "cell_type": "code",
   "execution_count": null,
   "outputs": [],
   "source": [],
   "metadata": {
    "collapsed": false
   },
   "id": "f1480710f296f984"
  },
  {
   "cell_type": "code",
   "execution_count": null,
   "outputs": [],
   "source": [
    "# 7., Írjon egy függvényt amely visszaadja a lista páratlan elemeinek a négyzetét\n",
    "# függvény név: squared_odds\n",
    "# bemeneti paraméterek: input_list\n",
    "# kimeneti típus: List "
   ],
   "metadata": {
    "collapsed": false
   },
   "id": "2841a2374dec25f5"
  },
  {
   "cell_type": "code",
   "execution_count": 14,
   "outputs": [
    {
     "name": "stdout",
     "output_type": "stream",
     "text": [
      "[1, 9, 25, 49]\n"
     ]
    }
   ],
   "source": [
    "def squared_odds(input_list):\n",
    "    squared_odds_list = []\n",
    "    \n",
    "    for number in input_list:\n",
    "        if number % 2 != 0: \n",
    "            squared_odds_list.append(number ** 2)  \n",
    "    \n",
    "    return squared_odds_list\n",
    "\n",
    "my_list = [1, 2, 3, 4, 5, 6, 7]\n",
    "result = squared_odds(my_list)\n",
    "print(result) \n"
   ],
   "metadata": {
    "collapsed": false,
    "ExecuteTime": {
     "end_time": "2023-09-20T17:32:21.501677Z",
     "start_time": "2023-09-20T17:32:21.466303Z"
    }
   },
   "id": "96beb0cb1de4283d"
  },
  {
   "cell_type": "code",
   "execution_count": null,
   "outputs": [],
   "source": [],
   "metadata": {
    "collapsed": false
   },
   "id": "23caa98600146465"
  },
  {
   "cell_type": "code",
   "execution_count": null,
   "outputs": [],
   "source": [
    "# 8., Írjon egy függvényt amely a fordítottan sorba rendezi a kulcs-érték párokat a kulcs értéke szerint egy dictionary-ben\n",
    "# függvény név: reverse_sort_by_key\n",
    "# bemeneti paraméterek: input_dict\n",
    "# kimeneti típus: Dict "
   ],
   "metadata": {
    "collapsed": false
   },
   "id": "12e757ffc972f77a"
  },
  {
   "cell_type": "code",
   "execution_count": 48,
   "outputs": [
    {
     "name": "stdout",
     "output_type": "stream",
     "text": [
      "{'c': 8, 'b': 6, 'a': 4}\n"
     ]
    }
   ],
   "source": [
    "def reverse_sort_by_key(input_dict):\n",
    "    sorted_dict = dict(sorted(input_dict.items(), key=lambda item: item[0], reverse=True))\n",
    "    return sorted_dict\n",
    "\n",
    "my_dict = {'a': 4, 'b': 6, 'c': 8}\n",
    "result = reverse_sort_by_key(my_dict)\n",
    "print(result) \n"
   ],
   "metadata": {
    "collapsed": false,
    "ExecuteTime": {
     "end_time": "2023-09-20T18:03:01.140949Z",
     "start_time": "2023-09-20T18:03:01.028717Z"
    }
   },
   "id": "e9a710de823bd229"
  },
  {
   "cell_type": "code",
   "execution_count": null,
   "outputs": [],
   "source": [],
   "metadata": {
    "collapsed": false
   },
   "id": "e566b85e382d428d"
  },
  {
   "cell_type": "code",
   "execution_count": null,
   "outputs": [],
   "source": [
    "# 9., Írjon egy függvényt amely a bemeneti, pozitív egész számokat tartalmazó listát kiválogatja 2-vel, 5-el, 2-vel és 5-el, és egyikkel sem osztható számokat, és visszaad egy olyan dictionary-t, amelyben a kulcsok a 'by_two', 'by_five', 'by_two_and_five', és a 'by_none', az értékek, pedig a listák. (2 pont)\n",
    "# függvény név: sort_list_by_divisibility\n",
    "# bemeneti paraméterek: input_list\n",
    "# kimeneti típus: Dict "
   ],
   "metadata": {
    "collapsed": false
   },
   "id": "58dc0ff752928e36"
  },
  {
   "cell_type": "code",
   "execution_count": 17,
   "outputs": [
    {
     "name": "stdout",
     "output_type": "stream",
     "text": [
      "{'by_two': [4, 6, 8], 'by_five': [5, 15], 'by_two_and_five': [10], 'by_none': [3, 7]}\n"
     ]
    }
   ],
   "source": [
    "def sort_list_by_divisibility(input_list):\n",
    "    result_dict = {\n",
    "        'by_two': [],\n",
    "        'by_five': [],\n",
    "        'by_two_and_five': [],\n",
    "        'by_none': []\n",
    "    }\n",
    "    \n",
    "    for number in input_list:\n",
    "        if number % 2 == 0 and number % 5 == 0:\n",
    "            result_dict['by_two_and_five'].append(number)\n",
    "        elif number % 2 == 0:\n",
    "            result_dict['by_two'].append(number)\n",
    "        elif number % 5 == 0:\n",
    "            result_dict['by_five'].append(number)\n",
    "        else:\n",
    "            result_dict['by_none'].append(number)\n",
    "    \n",
    "    return result_dict\n",
    "\n",
    "my_list = [3, 4, 5, 6, 7, 8, 10, 15]\n",
    "result = sort_list_by_divisibility(my_list)\n",
    "print(result)\n"
   ],
   "metadata": {
    "collapsed": false,
    "ExecuteTime": {
     "end_time": "2023-09-20T17:37:03.569193Z",
     "start_time": "2023-09-20T17:37:03.538236Z"
    }
   },
   "id": "d62344d106bd25ab"
  },
  {
   "cell_type": "code",
   "execution_count": null,
   "outputs": [],
   "source": [],
   "metadata": {
    "collapsed": false
   },
   "id": "4dc12112d99a1b81"
  },
  {
   "cell_type": "code",
   "execution_count": null,
   "outputs": [],
   "source": [],
   "metadata": {
    "collapsed": false
   },
   "id": "157ca581056654f7"
  },
  {
   "cell_type": "markdown",
   "source": [],
   "metadata": {
    "collapsed": false
   },
   "id": "c0cd37813169932a"
  }
 ],
 "metadata": {
  "kernelspec": {
   "display_name": "Python 3",
   "language": "python",
   "name": "python3"
  },
  "language_info": {
   "codemirror_mode": {
    "name": "ipython",
    "version": 2
   },
   "file_extension": ".py",
   "mimetype": "text/x-python",
   "name": "python",
   "nbconvert_exporter": "python",
   "pygments_lexer": "ipython2",
   "version": "2.7.6"
  }
 },
 "nbformat": 4,
 "nbformat_minor": 5
}
