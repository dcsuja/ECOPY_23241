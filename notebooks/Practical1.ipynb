{
 "cells": [
  {
   "cell_type": "markdown",
   "id": "bfa98d17c32c9644",
   "metadata": {},
   "source": [
    "# Lista feladatok"
   ]
  },
  {
   "cell_type": "code",
   "execution_count": null,
   "id": "initial_id",
   "metadata": {
    "collapsed": false,
    "is_executing": true
   },
   "outputs": [],
   "source": [
    "# 1., Hozzon létre egy listát a következő elemekkel a Subscript operátor segítségével: 17, 18, 3.14, a, alma"
   ]
  },
  {
   "cell_type": "code",
   "execution_count": 12,
   "id": "9e6bb1295f6a1c41",
   "metadata": {
    "collapsed": false,
    "is_executing": true,
    "tags": []
   },
   "outputs": [
    {
     "name": "stdout",
     "output_type": "stream",
     "text": [
      "[17, 18, 3, 14, 'a', 'alma']\n"
     ]
    }
   ],
   "source": [
    "lista1 = [17, 18, 3, 14, 'a', 'alma']\n",
    "print(lista1)"
   ]
  },
  {
   "cell_type": "code",
   "execution_count": null,
   "id": "1a0427c3806a075e",
   "metadata": {
    "collapsed": false,
    "is_executing": true
   },
   "outputs": [],
   "source": [
    "# 2., Hozzon létre egy listát a list() függvény alkalmazásával: 1, 2, 3, 4, 5, 6, 7, 8, 9, 10"
   ]
  },
  {
   "cell_type": "code",
   "execution_count": null,
   "id": "af29f62bec3fe845",
   "metadata": {
    "collapsed": false,
    "is_executing": true,
    "tags": []
   },
   "outputs": [],
   "source": [
    "elemek = (1, 2, 3, 4, 5, 6, 7, 8, 9, 10)\n",
    "lista2 = list(elemek)\n",
    "print(lista2)"
   ]
  },
  {
   "cell_type": "code",
   "execution_count": null,
   "id": "87a48bdd04adc666",
   "metadata": {
    "collapsed": false,
    "is_executing": true
   },
   "outputs": [],
   "source": [
    "# 3., Adja vissza a lista 1. indexén lévő elemét"
   ]
  },
  {
   "cell_type": "code",
   "execution_count": 15,
   "id": "f7b55ce66eaa1477",
   "metadata": {
    "collapsed": false,
    "is_executing": true,
    "tags": []
   },
   "outputs": [
    {
     "data": {
      "text/plain": [
       "2"
      ]
     },
     "execution_count": 15,
     "metadata": {},
     "output_type": "execute_result"
    }
   ],
   "source": [
    "lista2[1]"
   ]
  },
  {
   "cell_type": "code",
   "execution_count": null,
   "id": "cb4dee7d4c8dae1c",
   "metadata": {
    "collapsed": false,
    "is_executing": true
   },
   "outputs": [],
   "source": [
    "# 4., Adja vissza a lista 1 elemét"
   ]
  },
  {
   "cell_type": "code",
   "execution_count": 22,
   "id": "b1682229162f49ec",
   "metadata": {
    "collapsed": false,
    "is_executing": true,
    "tags": []
   },
   "outputs": [
    {
     "name": "stdout",
     "output_type": "stream",
     "text": [
      "1\n"
     ]
    }
   ],
   "source": [
    "import random\n",
    "random_elem = random.choice(lista2)\n",
    "print(random_elem)"
   ]
  },
  {
   "cell_type": "code",
   "execution_count": null,
   "id": "c988bd6fd6137bd1",
   "metadata": {
    "collapsed": false,
    "is_executing": true
   },
   "outputs": [],
   "source": [
    "# 5., Adja vissza a lista legnagyobb elemét"
   ]
  },
  {
   "cell_type": "code",
   "execution_count": 23,
   "id": "2c94a4cc8ec5936d",
   "metadata": {
    "collapsed": false,
    "is_executing": true,
    "tags": []
   },
   "outputs": [
    {
     "data": {
      "text/plain": [
       "10"
      ]
     },
     "execution_count": 23,
     "metadata": {},
     "output_type": "execute_result"
    }
   ],
   "source": [
    "max(lista2)"
   ]
  },
  {
   "cell_type": "code",
   "execution_count": null,
   "id": "f2d0f6303be357d0",
   "metadata": {
    "collapsed": false,
    "is_executing": true
   },
   "outputs": [],
   "source": [
    "# 6. Adja vissza a lista legnagyobb elemének az indexét"
   ]
  },
  {
   "cell_type": "code",
   "execution_count": 28,
   "id": "d3c2f3d961fd0a72",
   "metadata": {
    "collapsed": false,
    "is_executing": true,
    "tags": []
   },
   "outputs": [
    {
     "data": {
      "text/plain": [
       "9"
      ]
     },
     "execution_count": 28,
     "metadata": {},
     "output_type": "execute_result"
    }
   ],
   "source": [
    "lista2.index(max(lista2))"
   ]
  },
  {
   "cell_type": "code",
   "execution_count": null,
   "id": "75d189cb06cb410",
   "metadata": {
    "collapsed": false,
    "is_executing": true
   },
   "outputs": [],
   "source": [
    "# 7., Írjon egy függvényt ami megvizsgálja, hogy a listában létezik-e egy adott elem\n",
    "# függvény név: contains_value\n",
    "# bemeneti paraméterek: input_list, element \n",
    "# kimeneti típus: bool "
   ]
  },
  {
   "cell_type": "code",
   "execution_count": 46,
   "id": "2874f3f5f7334f7a",
   "metadata": {
    "collapsed": false,
    "is_executing": true,
    "tags": []
   },
   "outputs": [
    {
     "name": "stdout",
     "output_type": "stream",
     "text": [
      "The element is in the list.\n"
     ]
    }
   ],
   "source": [
    "def contains_value(input_list, element):\n",
    "    return element in input_list\n",
    "\n",
    "result = contains_value(lista2, 3)\n",
    "\n",
    "if result:\n",
    "    print(\"The element is in the list.\")\n",
    "else:\n",
    "    print(\"The element is not in the list.\")\n"
   ]
  },
  {
   "cell_type": "code",
   "execution_count": null,
   "id": "4ff7a5a8e77c3570",
   "metadata": {
    "collapsed": false,
    "is_executing": true
   },
   "outputs": [],
   "source": [
    "# 8., Írjon egy függvényt ami megvizsgálja, hogy hány elem található a listában.\n",
    "# függvény név: number_of_elements_in_list\n",
    "# bemeneti paraméterek: input_list \n",
    "# kimeneti típus: int "
   ]
  },
  {
   "cell_type": "code",
   "execution_count": 84,
   "id": "bed569e50734a02c",
   "metadata": {
    "collapsed": false,
    "is_executing": true,
    "tags": []
   },
   "outputs": [
    {
     "name": "stdout",
     "output_type": "stream",
     "text": [
      "The number of elements in the list is: 10\n"
     ]
    }
   ],
   "source": [
    "def number_of_elements_in_list(input_list):\n",
    "    return len(input_list)\n",
    "\n",
    "count = number_of_elements_in_list(lista2)\n",
    "\n",
    "print(f\"The number of elements in the list is: {count}\")\n"
   ]
  },
  {
   "cell_type": "code",
   "execution_count": null,
   "id": "e00fdbc3454b3e0",
   "metadata": {
    "collapsed": false,
    "is_executing": true
   },
   "outputs": [],
   "source": [
    "# 9., Írjon egy függvényt ami törli az összes elemet a listából\n",
    "# függvény név: remove_every_element_from_list\n",
    "# bemeneti paraméterek: input_list \n",
    "# kimeneti típus: None "
   ]
  },
  {
   "cell_type": "code",
   "execution_count": 121,
   "id": "86ea2864ab680a75",
   "metadata": {
    "collapsed": false,
    "tags": []
   },
   "outputs": [
    {
     "name": "stdout",
     "output_type": "stream",
     "text": [
      "<built-in method clear of list object at 0x1058a0580>\n"
     ]
    }
   ],
   "source": [
    "def remove_every_element_from_list(input_list):\n",
    "    input_list.clear\n",
    "    \n",
    "result = remove_every_element_from_list(lista2)\n",
    "    \n",
    "print(result)\n",
    "    "
   ]
  },
  {
   "cell_type": "code",
   "execution_count": null,
   "id": "fd4fb9107a1c62e6",
   "metadata": {
    "collapsed": false
   },
   "outputs": [],
   "source": []
  },
  {
   "cell_type": "code",
   "execution_count": null,
   "id": "4b93b2aa868093d7",
   "metadata": {
    "collapsed": false
   },
   "outputs": [],
   "source": [
    "# 10., Írjon egy függvényt ami fordított sorrendben adja vissza a lista összes elemét\n",
    "# függvény név: reverse_list\n",
    "# bemeneti paraméterek: input_list \n",
    "# kimeneti típus: List "
   ]
  },
  {
   "cell_type": "code",
   "execution_count": 90,
   "id": "b3573ccabce315f6",
   "metadata": {
    "collapsed": false,
    "tags": []
   },
   "outputs": [
    {
     "name": "stdout",
     "output_type": "stream",
     "text": [
      "[10, 9, 8, 7, 6, 5, 4, 3, 2, 1]\n"
     ]
    }
   ],
   "source": [
    "def reverse_list(input_list) :\n",
    "    return input_list[::-1]\n",
    "\n",
    "reversed_list = reverse_list(lista2)\n",
    "\n",
    "print(reversed_list)\n",
    "    \n",
    "\n",
    "    "
   ]
  },
  {
   "cell_type": "code",
   "execution_count": null,
   "id": "793b21ca395bae46",
   "metadata": {
    "collapsed": false
   },
   "outputs": [],
   "source": []
  },
  {
   "cell_type": "code",
   "execution_count": null,
   "id": "fd4a515bb1e95737",
   "metadata": {
    "collapsed": false
   },
   "outputs": [],
   "source": [
    "# 11., Írjon egy függvényt ami vissza adja a bemeneti lista páratlan elemeit\n",
    "# függvény név: odds_from_list\n",
    "# bemeneti paraméterek: input_list \n",
    "# kimeneti típus: List "
   ]
  },
  {
   "cell_type": "code",
   "execution_count": 97,
   "id": "57a11fda6b893fe3",
   "metadata": {
    "collapsed": false,
    "tags": []
   },
   "outputs": [
    {
     "name": "stdout",
     "output_type": "stream",
     "text": [
      "[1, 3, 5, 7, 9]\n"
     ]
    }
   ],
   "source": [
    "def odds_from_list(input_list) :\n",
    "    return [x for x in input_list if x % 2 !=0]\n",
    "\n",
    "odds_list = odds_from_list(lista2)\n",
    "\n",
    "print(odds_list)"
   ]
  },
  {
   "cell_type": "code",
   "execution_count": null,
   "id": "9f20b2394c40484b",
   "metadata": {
    "collapsed": false
   },
   "outputs": [],
   "source": []
  },
  {
   "cell_type": "code",
   "execution_count": null,
   "id": "28290ea181d27115",
   "metadata": {
    "collapsed": false
   },
   "outputs": [],
   "source": [
    "# 12., Írjon egy függvényt ami megszámolja a bemeneti lista páratlan elemeit\n",
    "# függvény név: number_of_odds_in_list\n",
    "# bemeneti paraméterek: input_list \n",
    "# kimeneti típus: int "
   ]
  },
  {
   "cell_type": "code",
   "execution_count": 102,
   "id": "279b237c1175983",
   "metadata": {
    "collapsed": false,
    "tags": []
   },
   "outputs": [
    {
     "name": "stdout",
     "output_type": "stream",
     "text": [
      "5\n"
     ]
    }
   ],
   "source": [
    "def number_of_odds_in_list(input_list) :\n",
    "    return len([x for x in input_list if x % 2 !=0])\n",
    "\n",
    "count = number_of_odds_in_list(lista2)\n",
    "\n",
    "print(count)"
   ]
  },
  {
   "cell_type": "code",
   "execution_count": null,
   "id": "9cf78a5e1fa0aa59",
   "metadata": {
    "collapsed": false
   },
   "outputs": [],
   "source": []
  },
  {
   "cell_type": "code",
   "execution_count": null,
   "id": "337fe85c1df2c4d4",
   "metadata": {
    "collapsed": false
   },
   "outputs": [],
   "source": [
    "# 13., Írjon egy függvényt ami visszaadja, hogy a bemeneti listának van-e páratlan eleme\n",
    "# függvény név: contains_odd\n",
    "# bemeneti paraméterek: input_list \n",
    "# kimeneti típus: bool "
   ]
  },
  {
   "cell_type": "code",
   "execution_count": 105,
   "id": "a0fc68adef56fd06",
   "metadata": {
    "collapsed": false,
    "tags": []
   },
   "outputs": [
    {
     "name": "stdout",
     "output_type": "stream",
     "text": [
      "There is an odd integer in the list.\n"
     ]
    }
   ],
   "source": [
    "def contains_odd(input_list) :\n",
    "    return [x for x in input_list if x % 2 != 0]\n",
    "\n",
    "result = contains_odd(lista2)\n",
    "\n",
    "if result :\n",
    "    print(\"There is an odd integer in the list.\")\n",
    "    \n",
    "else:\n",
    "    print(\"There are no odd integers in the list.\")"
   ]
  },
  {
   "cell_type": "code",
   "execution_count": null,
   "id": "aef3c724f03cb646",
   "metadata": {
    "collapsed": false
   },
   "outputs": [],
   "source": []
  },
  {
   "cell_type": "code",
   "execution_count": null,
   "id": "fb1703151c29792",
   "metadata": {
    "collapsed": false
   },
   "outputs": [],
   "source": [
    "# 14., Írjon egy függvényt ami visszaadja a 2. legnagyobb elemet listában \n",
    "# függvény név: second_largest_in_list\n",
    "# bemeneti paraméterek: input_list \n",
    "# kimeneti típus: int "
   ]
  },
  {
   "cell_type": "code",
   "execution_count": 114,
   "id": "15ed7bf088bf47cf",
   "metadata": {
    "collapsed": false,
    "tags": []
   },
   "outputs": [
    {
     "name": "stdout",
     "output_type": "stream",
     "text": [
      "9\n"
     ]
    }
   ],
   "source": [
    "def second_largest_in_list(input_list) :\n",
    "    return sorted_elements[-2]\n",
    "\n",
    "elements = set(lista2)\n",
    "\n",
    "sorted_elements = sorted(elements)\n",
    "\n",
    "second_largest = second_largest_in_list(lista2)\n",
    "\n",
    "print(second_largest)"
   ]
  },
  {
   "cell_type": "code",
   "execution_count": null,
   "id": "496288a1070b52d6",
   "metadata": {
    "collapsed": false
   },
   "outputs": [],
   "source": []
  },
  {
   "cell_type": "code",
   "execution_count": null,
   "id": "63ccbb5d3bb44ccd",
   "metadata": {
    "collapsed": false
   },
   "outputs": [],
   "source": [
    "# 15., Írjon egy függvényt ami kiszámítja a lista elemek összegét \n",
    "# függvény név: sum_of_elements_in_list\n",
    "# bemeneti paraméterek: input_list \n",
    "# kimeneti típus: float "
   ]
  },
  {
   "cell_type": "code",
   "execution_count": 128,
   "id": "24c9f32b0be09452",
   "metadata": {
    "collapsed": false,
    "tags": []
   },
   "outputs": [
    {
     "ename": "TypeError",
     "evalue": "'int' object is not callable",
     "output_type": "error",
     "traceback": [
      "\u001B[0;31m---------------------------------------------------------------------------\u001B[0m",
      "\u001B[0;31mTypeError\u001B[0m                                 Traceback (most recent call last)",
      "Cell \u001B[0;32mIn[128], line 4\u001B[0m\n\u001B[1;32m      1\u001B[0m \u001B[38;5;28;01mdef\u001B[39;00m \u001B[38;5;21msum_of_elements_in_list\u001B[39m(input_list):\n\u001B[1;32m      2\u001B[0m     \u001B[38;5;28;01mreturn\u001B[39;00m \u001B[38;5;28msum\u001B[39m(input_list)\n\u001B[0;32m----> 4\u001B[0m total \u001B[38;5;241m=\u001B[39m sum_of_elements_in_list(lista2)\n\u001B[1;32m      6\u001B[0m \u001B[38;5;28mprint\u001B[39m(total_sum)\n",
      "Cell \u001B[0;32mIn[128], line 2\u001B[0m, in \u001B[0;36msum_of_elements_in_list\u001B[0;34m(input_list)\u001B[0m\n\u001B[1;32m      1\u001B[0m \u001B[38;5;28;01mdef\u001B[39;00m \u001B[38;5;21msum_of_elements_in_list\u001B[39m(input_list):\n\u001B[0;32m----> 2\u001B[0m     \u001B[38;5;28;01mreturn\u001B[39;00m \u001B[38;5;28msum\u001B[39m(input_list)\n",
      "\u001B[0;31mTypeError\u001B[0m: 'int' object is not callable"
     ]
    }
   ],
   "source": [
    "def sum_of_elements_in_list(input_list):\n",
    "    return sum(input_list)\n",
    "\n",
    "total = sum_of_elements_in_list(lista2)\n",
    "\n",
    "print(total_sum)\n",
    "\n"
   ]
  },
  {
   "cell_type": "code",
   "execution_count": null,
   "id": "4f4d84e216c131b7",
   "metadata": {
    "collapsed": false
   },
   "outputs": [],
   "source": []
  },
  {
   "cell_type": "code",
   "execution_count": null,
   "id": "783928cacc8f343e",
   "metadata": {
    "collapsed": false
   },
   "outputs": [],
   "source": [
    "# 16., Írjon egy függvényt ami kiszámítja a lista elemek kumulált összegét\n",
    "# függvény név: cumsum_list\n",
    "# bemeneti paraméterek: input_list \n",
    "# kimeneti típus: List "
   ]
  },
  {
   "cell_type": "code",
   "execution_count": 129,
   "id": "82eb965beced99b4",
   "metadata": {
    "collapsed": false,
    "tags": []
   },
   "outputs": [
    {
     "name": "stdout",
     "output_type": "stream",
     "text": [
      "[1, 3, 6, 10, 15, 21, 28, 36, 45, 55]\n"
     ]
    }
   ],
   "source": [
    "def cumsum_list(input_list):\n",
    "    cum_sum = 0\n",
    "    cumulative_list = []\n",
    "    for item in input_list:\n",
    "        cum_sum += item\n",
    "        cumulative_list.append(cum_sum)\n",
    "    return cumulative_list\n",
    "\n",
    "cumulative_result = cumsum_list(lista2)\n",
    "print(cumulative_result) \n"
   ]
  },
  {
   "cell_type": "code",
   "execution_count": null,
   "id": "3e40d3bc6c266a25",
   "metadata": {
    "collapsed": false
   },
   "outputs": [],
   "source": []
  },
  {
   "cell_type": "code",
   "execution_count": null,
   "id": "1520ae4325fd9565",
   "metadata": {
    "collapsed": false
   },
   "outputs": [],
   "source": [
    "# 17., Írjon egy függvényt ami kiszámítja 2 lista elemenként vett összegét\n",
    "# függvény név: element_wise_sum\n",
    "# bemeneti paraméterek: input_list1, input_list2 \n",
    "# kimeneti típus: List "
   ]
  },
  {
   "cell_type": "code",
   "execution_count": 134,
   "id": "68f45914d66fee0f",
   "metadata": {
    "collapsed": false,
    "tags": []
   },
   "outputs": [
    {
     "ename": "ValueError",
     "evalue": "Length of list is different",
     "output_type": "error",
     "traceback": [
      "\u001B[0;31m---------------------------------------------------------------------------\u001B[0m",
      "\u001B[0;31mValueError\u001B[0m                                Traceback (most recent call last)",
      "Cell \u001B[0;32mIn[134], line 11\u001B[0m\n\u001B[1;32m      7\u001B[0m         result_list\u001B[38;5;241m.\u001B[39mappend(input_list1[i] \u001B[38;5;241m+\u001B[39m input_list2[i])\n\u001B[1;32m      9\u001B[0m     \u001B[38;5;28;01mreturn\u001B[39;00m result_list\n\u001B[0;32m---> 11\u001B[0m result \u001B[38;5;241m=\u001B[39m element_wise_sum(lista1, lista2)\n\u001B[1;32m     12\u001B[0m \u001B[38;5;28mprint\u001B[39m(result)\n",
      "Cell \u001B[0;32mIn[134], line 3\u001B[0m, in \u001B[0;36melement_wise_sum\u001B[0;34m(input_list1, input_list2)\u001B[0m\n\u001B[1;32m      1\u001B[0m \u001B[38;5;28;01mdef\u001B[39;00m \u001B[38;5;21melement_wise_sum\u001B[39m(input_list1, input_list2):\n\u001B[1;32m      2\u001B[0m     \u001B[38;5;28;01mif\u001B[39;00m \u001B[38;5;28mlen\u001B[39m(input_list1) \u001B[38;5;241m!=\u001B[39m \u001B[38;5;28mlen\u001B[39m(input_list2):\n\u001B[0;32m----> 3\u001B[0m         \u001B[38;5;28;01mraise\u001B[39;00m \u001B[38;5;167;01mValueError\u001B[39;00m(\u001B[38;5;124m\"\u001B[39m\u001B[38;5;124mLength of list is different\u001B[39m\u001B[38;5;124m\"\u001B[39m)\n\u001B[1;32m      5\u001B[0m     result_list \u001B[38;5;241m=\u001B[39m []\n\u001B[1;32m      6\u001B[0m     \u001B[38;5;28;01mfor\u001B[39;00m i \u001B[38;5;129;01min\u001B[39;00m \u001B[38;5;28mrange\u001B[39m(\u001B[38;5;28mlen\u001B[39m(input_list1)):\n",
      "\u001B[0;31mValueError\u001B[0m: Length of list is different"
     ]
    }
   ],
   "source": [
    "def element_wise_sum(input_list1, input_list2):\n",
    "    if len(input_list1) != len(input_list2):\n",
    "        raise ValueError(\"Length of list is different\")\n",
    "    \n",
    "    result_list = []\n",
    "    for i in range(len(input_list1)):\n",
    "        result_list.append(input_list1[i] + input_list2[i])\n",
    "    \n",
    "    return result_list\n",
    "\n",
    "result = element_wise_sum(lista1, lista2)\n",
    "print(result) "
   ]
  },
  {
   "cell_type": "code",
   "execution_count": null,
   "id": "8587e0ed68288c5b",
   "metadata": {
    "collapsed": false
   },
   "outputs": [],
   "source": []
  },
  {
   "cell_type": "code",
   "execution_count": null,
   "id": "950494bcdf89e3d9",
   "metadata": {
    "collapsed": false
   },
   "outputs": [],
   "source": [
    "# 18., Írjon egy függvényt ami visszaadja egy lista, 2 tetszőleges index között vett rész listáját\n",
    "# függvény név: subset_of_list\n",
    "# bemeneti paraméterek: input_list, start_index, end_index\n",
    "# kimeneti típus: List "
   ]
  },
  {
   "cell_type": "code",
   "execution_count": 136,
   "id": "720d5fe404eacb35",
   "metadata": {
    "collapsed": false,
    "tags": []
   },
   "outputs": [
    {
     "name": "stdout",
     "output_type": "stream",
     "text": [
      "[3, 4, 5, 6]\n"
     ]
    }
   ],
   "source": [
    "def subset_of_list(input_list, start_index, end_index):\n",
    "    if start_index < 0 or end_index >= len(input_list):\n",
    "        raise ValueError(\"Invalid indexes\")\n",
    "\n",
    "    subset = input_list[start_index:end_index + 1]\n",
    "    return subset\n",
    "\n",
    "subset = subset_of_list(lista2, 2, 5)\n",
    "print(subset) "
   ]
  },
  {
   "cell_type": "code",
   "execution_count": null,
   "id": "2e1456a04608edeb",
   "metadata": {
    "collapsed": false
   },
   "outputs": [],
   "source": []
  },
  {
   "cell_type": "code",
   "execution_count": null,
   "id": "b9ce22f42af9fa7c",
   "metadata": {
    "collapsed": false
   },
   "outputs": [],
   "source": [
    "# 19., Írjon egy függvényt ami visszaadja egy lista minden n-edik elemét listaként\n",
    "# függvény név: every_nth\n",
    "# bemeneti paraméterek: input_list, step_size\n",
    "# kimeneti típus: List "
   ]
  },
  {
   "cell_type": "code",
   "execution_count": 137,
   "id": "975736f2becc9bac",
   "metadata": {
    "collapsed": false,
    "tags": []
   },
   "outputs": [
    {
     "name": "stdout",
     "output_type": "stream",
     "text": [
      "[1, 4, 7, 10]\n"
     ]
    }
   ],
   "source": [
    "def every_nth(input_list, step_size):\n",
    "    if step_size <= 0:\n",
    "        raise ValueError(\"Step-size must be positive.\")\n",
    "\n",
    "    result = input_list[::step_size]\n",
    "    return result\n",
    "\n",
    "result = every_nth(lista2, 3)\n",
    "print(result)\n"
   ]
  },
  {
   "cell_type": "code",
   "execution_count": null,
   "id": "357370587272fc81",
   "metadata": {
    "collapsed": false
   },
   "outputs": [],
   "source": []
  },
  {
   "cell_type": "code",
   "execution_count": null,
   "id": "5816b89192f934a1",
   "metadata": {
    "collapsed": false
   },
   "outputs": [],
   "source": [
    "# 20., Írjon egy függvényt ami eldönti, hogy a lista minden eleme egyedi-e\n",
    "# függvény név: only_unique_in_list\n",
    "# bemeneti paraméterek: input_list\n",
    "# kimeneti típus: bool "
   ]
  },
  {
   "cell_type": "code",
   "execution_count": 138,
   "id": "4e2768e426b188ac",
   "metadata": {
    "collapsed": false,
    "tags": []
   },
   "outputs": [
    {
     "name": "stdout",
     "output_type": "stream",
     "text": [
      "True\n",
      "True\n"
     ]
    }
   ],
   "source": [
    "def only_unique_in_list(input_list):\n",
    "    unique_elements = set()\n",
    "    \n",
    "    for item in input_list:\n",
    "        if item in unique_elements:\n",
    "            return False\n",
    "        unique_elements.add(item)\n",
    "    \n",
    "    return True\n",
    "\n",
    "result1 = only_unique_in_list(lista1)  \n",
    "result2 = only_unique_in_list(lista2)  \n",
    "\n",
    "print(result1)\n",
    "print(result2)"
   ]
  },
  {
   "cell_type": "code",
   "execution_count": null,
   "id": "7bca392945d6a984",
   "metadata": {
    "collapsed": false
   },
   "outputs": [],
   "source": []
  },
  {
   "cell_type": "code",
   "execution_count": null,
   "id": "d080dd3e1679efbf",
   "metadata": {
    "collapsed": false
   },
   "outputs": [],
   "source": [
    "# 21., Írjon egy függvényt amely eltávolítja a duplikált lista elemeket\n",
    "# függvény név: keep_unique\n",
    "# bemeneti paraméterek: input_list\n",
    "# kimeneti típus: List "
   ]
  },
  {
   "cell_type": "code",
   "execution_count": 140,
   "id": "8a5037c82a3caa8b",
   "metadata": {
    "collapsed": false,
    "tags": []
   },
   "outputs": [
    {
     "name": "stdout",
     "output_type": "stream",
     "text": [
      "[1, 2, 3, 4, 5, 6, 7, 8, 9, 10]\n"
     ]
    }
   ],
   "source": [
    "def keep_unique(input_list):\n",
    "    unique_elements = []\n",
    "    \n",
    "    for item in input_list:\n",
    "        if item not in unique_elements:\n",
    "            unique_elements.append(item)\n",
    "    \n",
    "    return unique_elements\n",
    "\n",
    "unique_elements = keep_unique(lista2)\n",
    "print(unique_elements)"
   ]
  },
  {
   "cell_type": "code",
   "execution_count": null,
   "id": "db73e363987f797d",
   "metadata": {
    "collapsed": false
   },
   "outputs": [],
   "source": []
  },
  {
   "cell_type": "code",
   "execution_count": null,
   "id": "1d09675d10a71250",
   "metadata": {
    "collapsed": false
   },
   "outputs": [],
   "source": [
    "# 22., Írjon egy függvényt amely kicserél 2 tetszőleges elemet a listában\n",
    "# függvény név: swap\n",
    "# bemeneti paraméterek: input_list, first_index, second_index\n",
    "# kimeneti típus: List "
   ]
  },
  {
   "cell_type": "code",
   "execution_count": 142,
   "id": "f1974f9bba783dfa",
   "metadata": {
    "collapsed": false,
    "tags": []
   },
   "outputs": [
    {
     "name": "stdout",
     "output_type": "stream",
     "text": [
      "<function swap at 0x10689c2c0>\n"
     ]
    }
   ],
   "source": [
    "def swap(input_list, first_index, second_index):\n",
    "    if (\n",
    "        first_index < 0\n",
    "        or second_index < 0\n",
    "        or first_index >= len(input_list)\n",
    "        or second_index >= len(input_list)\n",
    "    ):\n",
    "        raise ValueError(\"Invalid indexes\")\n",
    "\n",
    "    input_list[first_index], input_list[second_index] = input_list[second_index], input_list[first_index]\n",
    "    return input_list\n",
    "\n",
    "swap(lista2, 1, 3)\n",
    "print(lista2)\n"
   ]
  },
  {
   "cell_type": "code",
   "execution_count": null,
   "id": "3888481f29688d3",
   "metadata": {
    "collapsed": false
   },
   "outputs": [],
   "source": []
  },
  {
   "cell_type": "code",
   "execution_count": null,
   "id": "3b05357ab0198b4c",
   "metadata": {
    "collapsed": false
   },
   "outputs": [],
   "source": [
    "# 23., Írjon egy függvényt amely töröl egy megadott elemet a listából\n",
    "# függvény név: remove_element_by_value\n",
    "# bemeneti paraméterek: input_list, value_to_remove\n",
    "# kimeneti típus: List "
   ]
  },
  {
   "cell_type": "code",
   "execution_count": 143,
   "id": "314e2102c6069b73",
   "metadata": {
    "collapsed": false,
    "tags": []
   },
   "outputs": [
    {
     "name": "stdout",
     "output_type": "stream",
     "text": [
      "[1, 3, 4, 5, 6, 7, 8, 9, 10]\n"
     ]
    }
   ],
   "source": [
    "def remove_element_by_value(input_list, value_to_remove):\n",
    "    input_list = [item for item in input_list if item != value_to_remove]\n",
    "    return input_list\n",
    "\n",
    "value_to_remove = 2\n",
    "new_list = remove_element_by_value(lista2, value_to_remove)\n",
    "print(new_list)"
   ]
  },
  {
   "cell_type": "code",
   "execution_count": null,
   "id": "1fba323e1abf8ad1",
   "metadata": {
    "collapsed": false
   },
   "outputs": [],
   "source": []
  },
  {
   "cell_type": "code",
   "execution_count": null,
   "id": "cfaf6d5695fb31df",
   "metadata": {
    "collapsed": false
   },
   "outputs": [],
   "source": [
    "# 24., Írjon egy függvényt amely töröl egy megadott indexű elemet a listából\n",
    "# függvény név: remove_element_by_index\n",
    "# bemeneti paraméterek: input_list, index\n",
    "# kimeneti típus: List "
   ]
  },
  {
   "cell_type": "code",
   "execution_count": 144,
   "id": "8f166f1039503820",
   "metadata": {
    "collapsed": false,
    "tags": []
   },
   "outputs": [
    {
     "name": "stdout",
     "output_type": "stream",
     "text": [
      "[1, 2, 4, 5, 6, 7, 8, 9, 10]\n"
     ]
    }
   ],
   "source": [
    "def remove_element_by_index(input_list, index):\n",
    "    if index < 0 or index >= len(input_list):\n",
    "        raise ValueError(\"Érvénytelen index\")\n",
    "\n",
    "    del input_list[index]\n",
    "    return input_list\n",
    "\n",
    "index_to_remove = 2\n",
    "new_list = remove_element_by_index(lista2, index_to_remove)\n",
    "print(new_list)"
   ]
  },
  {
   "cell_type": "code",
   "execution_count": null,
   "id": "2ead7a0b538aef49",
   "metadata": {
    "collapsed": false
   },
   "outputs": [],
   "source": []
  },
  {
   "cell_type": "code",
   "execution_count": null,
   "id": "f752e1dbb5e38b88",
   "metadata": {
    "collapsed": false
   },
   "outputs": [],
   "source": [
    "# 25., Írjon egy függvényt amely egy tetszőleges számmal megszorozza a lista összes elemét\n",
    "# függvény név: multiply_every_element\n",
    "# bemeneti paraméterek: input_list, multiplier\n",
    "# kimeneti típus: List "
   ]
  },
  {
   "cell_type": "code",
   "execution_count": 145,
   "id": "eff0e4599ddbb8fb",
   "metadata": {
    "collapsed": false,
    "tags": []
   },
   "outputs": [
    {
     "name": "stdout",
     "output_type": "stream",
     "text": [
      "[2, 4, 8, 10, 12, 14, 16, 18, 20]\n"
     ]
    }
   ],
   "source": [
    "def multiply_every_element(input_list, multiplier):\n",
    "    result_list = [item * multiplier for item in input_list]\n",
    "    return result_list\n",
    "\n",
    "multiplier = 2\n",
    "new_list = multiply_every_element(lista2, multiplier)\n",
    "print(new_list)"
   ]
  },
  {
   "cell_type": "code",
   "execution_count": null,
   "id": "670a1f660c7ae800",
   "metadata": {
    "collapsed": false
   },
   "outputs": [],
   "source": []
  },
  {
   "cell_type": "markdown",
   "id": "c7bfcf6fbed3ecf",
   "metadata": {},
   "source": [
    "# Dictionary feladatok"
   ]
  },
  {
   "cell_type": "code",
   "execution_count": null,
   "id": "ea486b7b2097d8c0",
   "metadata": {
    "collapsed": false
   },
   "outputs": [],
   "source": [
    "# 1. Hozz létre egy dictionary-t (dict.) amelyhez a két kulcs 'a' és 'b' és a hozzájuk tartozó értékek rendre 9 és [12, 'c']"
   ]
  },
  {
   "cell_type": "code",
   "execution_count": 65,
   "id": "fa44cb21eee22ee3",
   "metadata": {
    "collapsed": false,
    "tags": []
   },
   "outputs": [
    {
     "name": "stdout",
     "output_type": "stream",
     "text": [
      "{'a': 9, 'b': [12, 'c']}\n"
     ]
    }
   ],
   "source": [
    "my_dict = {'a': 9, 'b': [12, 'c']}\n",
    "print(my_dict)"
   ]
  },
  {
   "cell_type": "code",
   "execution_count": null,
   "id": "8f38c2ba17f46ab3",
   "metadata": {
    "collapsed": false
   },
   "outputs": [],
   "source": [
    "# 2. Kérd le az előző dictionary 'a' kulcsán lévő értéket"
   ]
  },
  {
   "cell_type": "code",
   "execution_count": 67,
   "id": "ae105a95dca05249",
   "metadata": {
    "collapsed": false,
    "tags": []
   },
   "outputs": [
    {
     "data": {
      "text/plain": [
       "9"
      ]
     },
     "execution_count": 67,
     "metadata": {},
     "output_type": "execute_result"
    }
   ],
   "source": [
    "my_dict['a']"
   ]
  },
  {
   "cell_type": "code",
   "execution_count": null,
   "id": "d64af3034dbf0bc2",
   "metadata": {
    "collapsed": false
   },
   "outputs": [],
   "source": [
    "# 3. Kérd le az előző dictionary 'd' kulcsán lévő értéket olyan módon, hogy ne hibát kapj, hanem Null legyen a visszatérési érték"
   ]
  },
  {
   "cell_type": "code",
   "execution_count": 74,
   "id": "9153fd4f597d5633",
   "metadata": {
    "collapsed": false,
    "tags": []
   },
   "outputs": [
    {
     "ename": "NameError",
     "evalue": "name 'Null' is not defined",
     "output_type": "error",
     "traceback": [
      "\u001B[0;31m---------------------------------------------------------------------------\u001B[0m",
      "\u001B[0;31mNameError\u001B[0m                                 Traceback (most recent call last)",
      "Cell \u001B[0;32mIn[74], line 1\u001B[0m\n\u001B[0;32m----> 1\u001B[0m d_value \u001B[38;5;241m=\u001B[39m my_dict\u001B[38;5;241m.\u001B[39mget(\u001B[38;5;124m'\u001B[39m\u001B[38;5;124md\u001B[39m\u001B[38;5;124m'\u001B[39m, Null)  \n\u001B[1;32m      2\u001B[0m \u001B[38;5;28mprint\u001B[39m(d_value)\n",
      "\u001B[0;31mNameError\u001B[0m: name 'Null' is not defined"
     ]
    }
   ],
   "source": [
    "d_value = my_dict.get('d', Null)  \n",
    "print(d_value) "
   ]
  },
  {
   "cell_type": "code",
   "execution_count": null,
   "id": "8d0730f02cbd74ae",
   "metadata": {
    "collapsed": false
   },
   "outputs": [],
   "source": [
    "# 4., Írjon egy függvényt amely töröl egy megadott kulcsú elemet a dict.-ből\n",
    "# függvény név: remove_key\n",
    "# bemeneti paraméterek: input_dict, key\n",
    "# kimeneti típus: Dict "
   ]
  },
  {
   "cell_type": "code",
   "execution_count": 146,
   "id": "16025be7289f3fe1",
   "metadata": {
    "collapsed": false,
    "tags": []
   },
   "outputs": [
    {
     "name": "stdout",
     "output_type": "stream",
     "text": [
      "{'b': [12, 'c']}\n"
     ]
    }
   ],
   "source": [
    "def remove_key(input_dict, key):\n",
    "    if key in input_dict:\n",
    "        del input_dict[key]\n",
    "    return input_dict\n",
    "\n",
    "key_to_remove = 'a'\n",
    "new_dict = remove_key(my_dict, key_to_remove)\n",
    "print(new_dict)"
   ]
  },
  {
   "cell_type": "code",
   "execution_count": null,
   "id": "1adaa6cfaf92ce4b",
   "metadata": {
    "collapsed": false
   },
   "outputs": [],
   "source": []
  },
  {
   "cell_type": "code",
   "execution_count": null,
   "id": "4289ee61b660cf03",
   "metadata": {
    "collapsed": false
   },
   "outputs": [],
   "source": [
    "# 5., Írjon egy függvényt amely a sorba rendezi a kulcs-érték párokat a kulcs értéke szerint egy dictionary-ben\n",
    "# függvény név: sort_by_key\n",
    "# bemeneti paraméterek: input_dict\n",
    "# kimeneti típus: Dict "
   ]
  },
  {
   "cell_type": "code",
   "execution_count": 147,
   "id": "4144b46e7390123b",
   "metadata": {
    "collapsed": false,
    "tags": []
   },
   "outputs": [
    {
     "name": "stdout",
     "output_type": "stream",
     "text": [
      "{'b': [12, 'c']}\n"
     ]
    }
   ],
   "source": [
    "def sort_by_key(input_dict):\n",
    "    sorted_dict = dict(sorted(input_dict.items(), key=lambda x: x[0]))\n",
    "    return sorted_dict\n",
    "\n",
    "sorted_dict = sort_by_key(my_dict)\n",
    "print(sorted_dict)"
   ]
  },
  {
   "cell_type": "code",
   "execution_count": null,
   "id": "f03264405968e0fa",
   "metadata": {
    "collapsed": false
   },
   "outputs": [],
   "source": []
  },
  {
   "cell_type": "code",
   "execution_count": null,
   "id": "7f38190f627e8631",
   "metadata": {
    "collapsed": false
   },
   "outputs": [],
   "source": [
    "# 6., Írjon egy függvényt amely összeadja a dict.-ben található összes értéket\n",
    "# függvény név: sum_in_dict\n",
    "# bemeneti paraméterek: input_dict\n",
    "# kimeneti típus: float "
   ]
  },
  {
   "cell_type": "code",
   "execution_count": 150,
   "id": "15175be34ef8a9d9",
   "metadata": {
    "collapsed": false,
    "tags": []
   },
   "outputs": [
    {
     "ename": "TypeError",
     "evalue": "'int' object is not callable",
     "output_type": "error",
     "traceback": [
      "\u001B[0;31m---------------------------------------------------------------------------\u001B[0m",
      "\u001B[0;31mTypeError\u001B[0m                                 Traceback (most recent call last)",
      "Cell \u001B[0;32mIn[150], line 5\u001B[0m\n\u001B[1;32m      2\u001B[0m     total_sum \u001B[38;5;241m=\u001B[39m \u001B[38;5;28msum\u001B[39m(input_dict\u001B[38;5;241m.\u001B[39mvalues())\n\u001B[1;32m      3\u001B[0m     \u001B[38;5;28;01mreturn\u001B[39;00m \u001B[38;5;28mfloat\u001B[39m(total_sum)\n\u001B[0;32m----> 5\u001B[0m total_ \u001B[38;5;241m=\u001B[39m sum_in_dict(my_dict)\n\u001B[1;32m      6\u001B[0m \u001B[38;5;28mprint\u001B[39m(total_)\n",
      "Cell \u001B[0;32mIn[150], line 2\u001B[0m, in \u001B[0;36msum_in_dict\u001B[0;34m(input_dict)\u001B[0m\n\u001B[1;32m      1\u001B[0m \u001B[38;5;28;01mdef\u001B[39;00m \u001B[38;5;21msum_in_dict\u001B[39m(input_dict):\n\u001B[0;32m----> 2\u001B[0m     total_sum \u001B[38;5;241m=\u001B[39m \u001B[38;5;28msum\u001B[39m(input_dict\u001B[38;5;241m.\u001B[39mvalues())\n\u001B[1;32m      3\u001B[0m     \u001B[38;5;28;01mreturn\u001B[39;00m \u001B[38;5;28mfloat\u001B[39m(total_sum)\n",
      "\u001B[0;31mTypeError\u001B[0m: 'int' object is not callable"
     ]
    }
   ],
   "source": [
    "def sum_in_dict(input_dict):\n",
    "    total_sum = sum(input_dict.values())\n",
    "    return float(total_sum)\n",
    "\n",
    "total = sum_in_dict(my_dict)\n",
    "print(total)"
   ]
  },
  {
   "cell_type": "code",
   "execution_count": null,
   "id": "b55c7574f7c47365",
   "metadata": {
    "collapsed": false
   },
   "outputs": [],
   "source": []
  },
  {
   "cell_type": "code",
   "execution_count": null,
   "id": "129ac5fb35728b79",
   "metadata": {
    "collapsed": false
   },
   "outputs": [],
   "source": [
    "# 7., Írjon egy függvényt amely összekapcsol 2 dictionary-t 1 dict.-ben\n",
    "# függvény név: merge_two_dicts\n",
    "# bemeneti paraméterek: input_dict1, input_dict2\n",
    "# kimeneti típus: Dict "
   ]
  },
  {
   "cell_type": "code",
   "execution_count": 151,
   "id": "1d1cb11d826ad1ad",
   "metadata": {
    "collapsed": false,
    "tags": []
   },
   "outputs": [
    {
     "name": "stdout",
     "output_type": "stream",
     "text": [
      "{'a': 1, 'b': 3, 'c': 4}\n"
     ]
    }
   ],
   "source": [
    "def merge_two_dicts(input_dict1, input_dict2):\n",
    "    merged_dict = {**input_dict1, **input_dict2}\n",
    "    return merged_dict\n"
   ]
  },
  {
   "cell_type": "code",
   "execution_count": null,
   "id": "6f6c6cc073780800",
   "metadata": {
    "collapsed": false
   },
   "outputs": [],
   "source": []
  },
  {
   "cell_type": "code",
   "execution_count": null,
   "id": "2d6e28936e1fc7f6",
   "metadata": {
    "collapsed": false
   },
   "outputs": [],
   "source": [
    "# 8., Írjon egy függvényt amely összekapcsol n dictionary-t 1 dict.-ben\n",
    "# függvény név: merge_dicts\n",
    "# bemeneti paraméterek: *dicts\n",
    "# kimeneti típus: Dict "
   ]
  },
  {
   "cell_type": "code",
   "execution_count": null,
   "id": "3d4f59def68ff61b",
   "metadata": {
    "collapsed": false
   },
   "outputs": [],
   "source": [
    "def merge_dicts(*dicts):\n",
    "    merged_dict = {}\n",
    "    for d in dicts:\n",
    "        merged_dict.update(d)\n",
    "    return merged_dict\n"
   ]
  },
  {
   "cell_type": "code",
   "execution_count": null,
   "id": "e1dd09df21776128",
   "metadata": {
    "collapsed": false
   },
   "outputs": [],
   "source": []
  },
  {
   "cell_type": "code",
   "execution_count": null,
   "id": "31c2ef51ea259d5d",
   "metadata": {
    "collapsed": false
   },
   "outputs": [],
   "source": [
    "# 9., Írjon egy függvényt amely a bemeneti, pozitív egész számokat tartalmazó listát kiválogatja páros és páratlan számokra, és visszaad egy olyan dictionary-t, amelyben a kulcs az 'even' és 'odd', az értékek, pedig a listák.\n",
    "# függvény név: sort_list_by_parity\n",
    "# bemeneti paraméterek: input_list\n",
    "# kimeneti típus: Dict "
   ]
  },
  {
   "cell_type": "code",
   "execution_count": null,
   "id": "85abb76721ac4860",
   "metadata": {
    "collapsed": false
   },
   "outputs": [],
   "source": []
  },
  {
   "cell_type": "code",
   "execution_count": null,
   "id": "eafbeb79effb4e1e",
   "metadata": {
    "collapsed": false
   },
   "outputs": [],
   "source": []
  },
  {
   "cell_type": "code",
   "execution_count": null,
   "id": "b7d17d821c18b94e",
   "metadata": {
    "collapsed": false
   },
   "outputs": [],
   "source": [
    "# 10., Írjon egy függvényt amely a bemenetként kapott dictionary értékeinél található listák átlagait adja vissza egy új dictionary-be. {\"some_key\":[1,2,3,4],\"another_key\":[1,2,3,4],....} -> {\"some_key\":mean_of_values,\"another_key\":mean_of_values,....}\n",
    "# függvény név: mean_by_key_value\n",
    "# bemeneti paraméterek: input_dict\n",
    "# kimeneti típus: Dict "
   ]
  },
  {
   "cell_type": "code",
   "execution_count": null,
   "id": "3f297655c29e1e6",
   "metadata": {
    "collapsed": false
   },
   "outputs": [],
   "source": []
  },
  {
   "cell_type": "code",
   "execution_count": null,
   "id": "f2728aad103eea86",
   "metadata": {
    "collapsed": false
   },
   "outputs": [],
   "source": []
  },
  {
   "cell_type": "code",
   "execution_count": null,
   "id": "4408607c342665b",
   "metadata": {
    "collapsed": false
   },
   "outputs": [],
   "source": [
    "# 11., Írjon egy függvényt amely a bemeneti lista értékeinek előállítja a gyakoriságát\n",
    "# függvény név: count_frequency\n",
    "# bemeneti paraméterek: input_list\n",
    "# kimeneti típus: Dict "
   ]
  },
  {
   "cell_type": "code",
   "execution_count": null,
   "id": "c190bbd919048c7c",
   "metadata": {
    "collapsed": false
   },
   "outputs": [],
   "source": []
  },
  {
   "cell_type": "code",
   "execution_count": null,
   "id": "3cf3e1d2e4b6bd48",
   "metadata": {
    "collapsed": false
   },
   "outputs": [],
   "source": []
  },
  {
   "cell_type": "markdown",
   "id": "4642e9fa7740d8ec",
   "metadata": {},
   "source": [
    "### A heti feladatok függvény definícióit helyezze el a src/utils module-on belül a builtin_wrappers.py nevű fájlba."
   ]
  }
 ],
 "metadata": {
  "kernelspec": {
   "display_name": "Python 3 (ipykernel)",
   "language": "python",
   "name": "python3"
  },
  "language_info": {
   "codemirror_mode": {
    "name": "ipython",
    "version": 3
   },
   "file_extension": ".py",
   "mimetype": "text/x-python",
   "name": "python",
   "nbconvert_exporter": "python",
   "pygments_lexer": "ipython3",
   "version": "3.11.4"
  }
 },
 "nbformat": 4,
 "nbformat_minor": 5
}
