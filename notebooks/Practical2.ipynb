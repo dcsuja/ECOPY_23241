{
 "cells": [
  {
   "cell_type": "markdown",
   "source": [
    "## A feladatok megoldása során csak a random, typing, math és pyerf modulok importálása elfogadott"
   ],
   "metadata": {
    "collapsed": false
   },
   "id": "d505d83ecd86220f"
  },
  {
   "cell_type": "markdown",
   "source": [
    "### A véletlenszám generálással kapcsolatos feladatok megoldását mentse src/utils modul-ba a **rand_wrappers.py** nevű fájlba"
   ],
   "metadata": {
    "collapsed": false
   },
   "id": "ea5dd5c989562edd"
  },
  {
   "cell_type": "markdown",
   "source": [
    "#### I. Véletlenszám generálás"
   ],
   "metadata": {
    "collapsed": false
   },
   "id": "2b075b97100da4f5"
  },
  {
   "cell_type": "code",
   "execution_count": null,
   "outputs": [],
   "source": [
    "import math\n",
    "\n",
    "\"\"\"\n",
    "0. Importáld a random modult\n",
    "\"\"\""
   ],
   "metadata": {
    "collapsed": false
   },
   "id": "cbd02be6fcc0366a"
  },
  {
   "cell_type": "code",
   "execution_count": 47,
   "outputs": [],
   "source": [
    "import random "
   ],
   "metadata": {
    "collapsed": false,
    "ExecuteTime": {
     "end_time": "2023-09-23T17:30:01.308664Z",
     "start_time": "2023-09-23T17:30:01.286667Z"
    }
   },
   "id": "293149d5d3d7699c"
  },
  {
   "cell_type": "code",
   "execution_count": null,
   "outputs": [],
   "source": [
    "\"\"\"\n",
    " 1., Hívd meg a random szám generátort, és generálj egy 0 és 1 közötti véletlen számot\n",
    "\"\"\""
   ],
   "metadata": {
    "collapsed": false
   },
   "id": "eb4ecd4b7ce19422"
  },
  {
   "cell_type": "code",
   "execution_count": 24,
   "outputs": [
    {
     "name": "stdout",
     "output_type": "stream",
     "text": [
      "0.14741945284867852\n"
     ]
    }
   ],
   "source": [
    "print(random.random())"
   ],
   "metadata": {
    "collapsed": false,
    "ExecuteTime": {
     "end_time": "2023-09-23T17:19:50.541574Z",
     "start_time": "2023-09-23T17:19:49.992279Z"
    }
   },
   "id": "43b12980ba15149a"
  },
  {
   "cell_type": "code",
   "execution_count": null,
   "outputs": [],
   "source": [
    "\"\"\"\n",
    "2., Generálj 1 és 100 közötti egész véletlen számokat\n",
    "\"\"\""
   ],
   "metadata": {
    "collapsed": false
   },
   "id": "2256690fb4b1ec52"
  },
  {
   "cell_type": "code",
   "execution_count": 25,
   "outputs": [
    {
     "name": "stdout",
     "output_type": "stream",
     "text": [
      "30\n"
     ]
    }
   ],
   "source": [
    "print(random.randint(0,100))"
   ],
   "metadata": {
    "collapsed": false,
    "ExecuteTime": {
     "end_time": "2023-09-23T17:19:54.267621Z",
     "start_time": "2023-09-23T17:19:54.026694Z"
    }
   },
   "id": "a06c7bcdb2f0479c"
  },
  {
   "cell_type": "code",
   "execution_count": null,
   "outputs": [],
   "source": [
    "\"\"\"\n",
    "3. Generálj 1 és 100 közötti véletlen egész számot, olyan módon, hogy a random seed értéke 42 legyen\n",
    "\"\"\""
   ],
   "metadata": {
    "collapsed": false
   },
   "id": "2619e1f9970a541"
  },
  {
   "cell_type": "code",
   "execution_count": 49,
   "outputs": [
    {
     "name": "stdout",
     "output_type": "stream",
     "text": [
      "81\n"
     ]
    }
   ],
   "source": [
    "random.seed(42)\n",
    "print(random.randint(0,100))"
   ],
   "metadata": {
    "collapsed": false,
    "ExecuteTime": {
     "end_time": "2023-09-23T17:30:13.953420Z",
     "start_time": "2023-09-23T17:30:13.913105Z"
    }
   },
   "id": "32dc9cba11559ce6"
  },
  {
   "cell_type": "code",
   "execution_count": null,
   "outputs": [],
   "source": [
    "\"\"\"\n",
    "4., Készíts egy függvényt, ami visszaad egy véletlenül kiválasztott elemet egy egész számokat tartalmazó listából.\n",
    "        függvény neve: random_from_list\n",
    "        bemenet: input_list\n",
    "        kimenetí típus: int\n",
    "\"\"\""
   ],
   "metadata": {
    "collapsed": false
   },
   "id": "c51741266de0cdad"
  },
  {
   "cell_type": "code",
   "execution_count": 106,
   "outputs": [
    {
     "name": "stdout",
     "output_type": "stream",
     "text": [
      "3423\n"
     ]
    }
   ],
   "source": [
    "def random_from_list(input_list) :\n",
    "    if len(input_list) == 0:\n",
    "        raise ValueError(\"Input list is empty\")\n",
    "    \n",
    "    random_index = random.randint(0, len(input_list) -1)\n",
    "    \n",
    "    return input_list[random_index]\n",
    "    "
   ],
   "metadata": {
    "collapsed": false,
    "ExecuteTime": {
     "end_time": "2023-09-23T17:54:40.041515Z",
     "start_time": "2023-09-23T17:54:40.000735Z"
    }
   },
   "id": "72b0c99ffa3612ba"
  },
  {
   "cell_type": "code",
   "execution_count": null,
   "outputs": [],
   "source": [],
   "metadata": {
    "collapsed": false
   },
   "id": "cdde72ad03063a33"
  },
  {
   "cell_type": "code",
   "execution_count": null,
   "outputs": [],
   "source": [
    "\"\"\"\n",
    "5., Készíts egy függvényt, ami visszaad egy n darab véletlen számot tartalmazó listát egy egész számokat tartalmazó bemenenti listából.\n",
    "    függvény neve: random_sublist_from_list\n",
    "    bemenet: input_list, number_of_elements\n",
    "    kimenetí típus: List\n",
    "\"\"\""
   ],
   "metadata": {
    "collapsed": false
   },
   "id": "3c3b117c6945d95e"
  },
  {
   "cell_type": "code",
   "execution_count": 120,
   "outputs": [
    {
     "name": "stdout",
     "output_type": "stream",
     "text": [
      "[101, 38, 302]\n"
     ]
    }
   ],
   "source": [
    "def random_sublist_from_list(input_list, number_of_elements):\n",
    "    return random.sample(input_list, number_of_elements)\n",
    "\n",
    "my_list = [38, 74, 101, 302]\n",
    "\n",
    "result = random_sublist_from_list(my_list, 3)\n",
    "\n",
    "print(result)"
   ],
   "metadata": {
    "collapsed": false,
    "ExecuteTime": {
     "end_time": "2023-09-23T18:11:42.675085Z",
     "start_time": "2023-09-23T18:11:42.473851Z"
    }
   },
   "id": "ceac8cab2318777a"
  },
  {
   "cell_type": "code",
   "execution_count": null,
   "outputs": [],
   "source": [],
   "metadata": {
    "collapsed": false
   },
   "id": "fe7a3b2e5edeb6da"
  },
  {
   "cell_type": "code",
   "execution_count": null,
   "outputs": [],
   "source": [
    "\"\"\"\n",
    "6., Készíts egy függvényt, ami visszaad egy véletlenül kiválasztott elemet egy string-ből.\n",
    "    függvény neve: random_from_string\n",
    "    bemenet: input_string\n",
    "    kimeneti típus: string\n",
    "\"\"\""
   ],
   "metadata": {
    "collapsed": false
   },
   "id": "ed010e62624fc66b"
  },
  {
   "cell_type": "code",
   "execution_count": 124,
   "outputs": [
    {
     "name": "stdout",
     "output_type": "stream",
     "text": [
      "b\n"
     ]
    }
   ],
   "source": [
    "def random_from_string(input_string):\n",
    "    return random.choice(input_string)\n",
    "\n",
    "my_string = \"hjvfbwouhbrf\"\n",
    "\n",
    "result = random_from_string(my_string)\n",
    "\n",
    "print(result)\n",
    "    \n",
    "    "
   ],
   "metadata": {
    "collapsed": false,
    "ExecuteTime": {
     "end_time": "2023-09-23T18:16:22.169158Z",
     "start_time": "2023-09-23T18:16:22.138605Z"
    }
   },
   "id": "b80d5b96ab74845f"
  },
  {
   "cell_type": "code",
   "execution_count": null,
   "outputs": [],
   "source": [],
   "metadata": {
    "collapsed": false
   },
   "id": "83a9b80d30f40573"
  },
  {
   "cell_type": "code",
   "execution_count": null,
   "outputs": [],
   "source": [
    "'''\n",
    "7., Készíts egy függvényt, amely visszaad egy 100 elemű, 0 és 1 közötti véletlen számokat tartalmazó listát\n",
    "    függvény név: hundred_small_random\n",
    "    bemenet: None\n",
    "    kimeneti típus: List\n",
    "'''"
   ],
   "metadata": {
    "collapsed": false
   },
   "id": "a18853a36629971e"
  },
  {
   "cell_type": "code",
   "execution_count": 139,
   "outputs": [
    {
     "name": "stdout",
     "output_type": "stream",
     "text": [
      "[0.2511212520698941, 0.9081590462185719, 0.05079889366253065, 0.6342844473091942, 0.8293480893722193, 0.04408676179905002, 0.33355653860508816, 0.13081966070170226, 0.9797979538288359, 0.16158197627388615, 0.44183551186085057, 0.7056674467599907, 0.5609068647747464, 0.111873880589335, 0.9450509390466391, 0.6910196237558764, 0.1490542854785195, 0.036028138060830606, 0.36921598451219173, 0.5525250967449976, 0.42978671288077175, 0.04182885816885784, 0.36465151532725604, 0.9330880105206542, 0.9721962650172604, 0.03989487811121817, 0.35780923225042616, 0.6820666883105765, 0.666933410635543, 0.35367863461461835, 0.5598835191438697, 0.8747127235410912, 0.973837022637289, 0.7494776111435393, 0.9257638225695566, 0.23673733222935867, 0.16250176710043862, 0.7998870299068966, 0.17705237032038124, 0.4122944103537973, 0.179360663418207, 0.9244872952415456, 0.7823864961476317, 0.41171316655155366, 0.6699071292881967, 0.7350575388278761, 0.24816724111740074, 0.15919784298073125, 0.7012781881399126, 0.3825417225969343, 0.03872460766578645, 0.47069002108599034, 0.19957283002575188, 0.918451901229495, 0.34965842444591866, 0.820536380971562, 0.8713230358630082, 0.22292354720580898, 0.660033182748629, 0.3984659785647835, 0.2786030610230039, 0.06942075466281994, 0.773326637440361, 0.3511461290827522, 0.5094056755280374, 0.6795181183602637, 0.8436611632720807, 0.33114986821440706, 0.027600535119635894, 0.8770384115755603, 0.2612151963902102, 0.5805897337387078, 0.9835505728830871, 0.03825719735326272, 0.5965712549877447, 0.34568711167980026, 0.7864281782036819, 0.43639388387060796, 0.9842358493165899, 0.11564578402933046, 0.8995047329111996, 0.19007877450229604, 0.04438653371323109, 0.4360575154549723, 0.5199203485665854, 0.8065108697001039, 0.6868571469145267, 0.9402631203975533, 0.7370376934903003, 0.19703512910173437, 0.4312973996249869, 0.9488744859713143, 0.9207708562180402, 0.6231554099464092, 0.6633874762655443, 0.12462531566436774, 0.9000468350970914, 0.5071225040352692, 0.6668929041057297, 0.32618290485739987]\n"
     ]
    }
   ],
   "source": [
    "def hundred_small_random():\n",
    "  \n",
    "    random_list = [random.random() for _ in range(100)]\n",
    "    \n",
    "    return random_list\n",
    "\n",
    "result = hundred_small_random()\n",
    "print(result)\n"
   ],
   "metadata": {
    "collapsed": false,
    "ExecuteTime": {
     "end_time": "2023-09-23T18:28:44.958311Z",
     "start_time": "2023-09-23T18:28:44.852329Z"
    }
   },
   "id": "7dbab89507762f1c"
  },
  {
   "cell_type": "code",
   "execution_count": null,
   "outputs": [],
   "source": [],
   "metadata": {
    "collapsed": false
   },
   "id": "30d4ef80cc42dd81"
  },
  {
   "cell_type": "code",
   "execution_count": null,
   "outputs": [],
   "source": [
    "\"\"\"\n",
    "8., Készíts egy függvényt, amely visszaad egy 100 elemű, 10 és 1000 közötti véletlen számokat tartalmazó listát\n",
    "    függvény név: hundred_large_random\n",
    "    bemenet: None\n",
    "    kimeneti típus: List\n",
    "\"\"\""
   ],
   "metadata": {
    "collapsed": false
   },
   "id": "bc12cbcfce92f383"
  },
  {
   "cell_type": "code",
   "execution_count": 140,
   "outputs": [
    {
     "name": "stdout",
     "output_type": "stream",
     "text": [
      "[723, 312, 577, 140, 206, 440, 690, 972, 398, 703, 776, 934, 188, 640, 592, 318, 425, 571, 863, 10, 321, 303, 225, 450, 814, 603, 631, 680, 339, 486, 462, 462, 701, 228, 533, 494, 822, 932, 992, 825, 763, 183, 684, 96, 300, 537, 689, 658, 644, 353, 105, 848, 984, 779, 250, 698, 327, 240, 835, 213, 160, 35, 57, 260, 496, 635, 880, 796, 84, 476, 434, 917, 654, 599, 209, 745, 723, 403, 516, 419, 259, 161, 681, 714, 15, 924, 778, 891, 798, 916, 119, 807, 445, 234, 190, 833, 990, 722, 540, 485]\n"
     ]
    }
   ],
   "source": [
    "def hundred_large_random():\n",
    "    random_list = [random.randint(10, 1000) for _ in range(100)]\n",
    "    \n",
    "    return random_list\n",
    "\n",
    "result = hundred_large_random()\n",
    "print(result)"
   ],
   "metadata": {
    "collapsed": false,
    "ExecuteTime": {
     "end_time": "2023-09-23T18:42:26.409943Z",
     "start_time": "2023-09-23T18:42:26.345310Z"
    }
   },
   "id": "586792b8f8ecd642"
  },
  {
   "cell_type": "code",
   "execution_count": null,
   "outputs": [],
   "source": [],
   "metadata": {
    "collapsed": false
   },
   "id": "fd4a6333ae377e15"
  },
  {
   "cell_type": "code",
   "execution_count": null,
   "outputs": [],
   "source": [
    "\"\"\"\n",
    "9., Készíts egy függvényt, amely visszaad 5 elemű, 9 és 1000 közötti, 3-al osztható egész számokat tartalmazó listát\n",
    "    függvény név: five_random_number_div_three\n",
    "    bemenet: None\n",
    "    kimeneti típus: List\n",
    "\n",
    "\"\"\""
   ],
   "metadata": {
    "collapsed": false
   },
   "id": "ce1496d7f237ab67"
  },
  {
   "cell_type": "code",
   "execution_count": 220,
   "outputs": [
    {
     "name": "stdout",
     "output_type": "stream",
     "text": [
      "[48, 612, 918, 873, 48]\n"
     ]
    }
   ],
   "source": [
    "def five_random_number_div_three():\n",
    "    a = random.randrange(9, 1000, 3)\n",
    "    b = random.randrange(9, 1000, 3)\n",
    "    c = random.randrange(9, 1000, 3)\n",
    "    d = random.randrange(9, 1000, 3)\n",
    "    e = random.randrange(9, 1000, 3)\n",
    "    random_5_elements = [a, b, c, d, e]\n",
    "    return random_5_elements\n",
    "    \n",
    "print(five_random_number_div_three())"
   ],
   "metadata": {
    "collapsed": false,
    "ExecuteTime": {
     "end_time": "2023-09-26T05:52:42.695182Z",
     "start_time": "2023-09-26T05:52:42.547788Z"
    }
   },
   "id": "c9e3d1b8fe71de27"
  },
  {
   "cell_type": "code",
   "execution_count": 158,
   "outputs": [
    {
     "ename": "IndentationError",
     "evalue": "unindent does not match any outer indentation level (<tokenize>, line 6)",
     "output_type": "error",
     "traceback": [
      "\u001B[0;36m  File \u001B[0;32m<tokenize>:6\u001B[0;36m\u001B[0m\n\u001B[0;31m    random_list = [num for _ in range(5)]\u001B[0m\n\u001B[0m    ^\u001B[0m\n\u001B[0;31mIndentationError\u001B[0m\u001B[0;31m:\u001B[0m unindent does not match any outer indentation level\n"
     ]
    }
   ],
   "source": [],
   "metadata": {
    "collapsed": false,
    "ExecuteTime": {
     "end_time": "2023-09-23T19:01:52.862243Z",
     "start_time": "2023-09-23T19:01:52.759235Z"
    }
   },
   "id": "7f9d89c8ddc6ce59"
  },
  {
   "cell_type": "code",
   "execution_count": null,
   "outputs": [],
   "source": [
    "\"\"\"\n",
    "10., Készíts egy függvényt amely a bemeneti lista elemeit véletlenszerűen összekeveri\n",
    "    függvény név: random_reorder\n",
    "    bemenet: input_list\n",
    "    kimeneti típus: List\n",
    "\"\"\""
   ],
   "metadata": {
    "collapsed": false
   },
   "id": "6ad21e9a5d93bbfb"
  },
  {
   "cell_type": "code",
   "execution_count": 165,
   "outputs": [
    {
     "name": "stdout",
     "output_type": "stream",
     "text": [
      "[12, 101, 56, 34, 3, 69]\n"
     ]
    }
   ],
   "source": [
    "def random_reorder(input_list):\n",
    "    shuffled_list = random.sample(input_list, len(input_list))\n",
    "    return shuffled_list\n",
    "\n",
    "my_list = [3, 12, 34, 56, 69, 101]\n",
    "result = random_reorder(my_list)\n",
    "print(result)"
   ],
   "metadata": {
    "collapsed": false,
    "ExecuteTime": {
     "end_time": "2023-09-23T19:34:18.583160Z",
     "start_time": "2023-09-23T19:34:18.477936Z"
    }
   },
   "id": "6f0329d3744fca49"
  },
  {
   "cell_type": "code",
   "execution_count": 165,
   "outputs": [],
   "source": [],
   "metadata": {
    "collapsed": false,
    "ExecuteTime": {
     "end_time": "2023-09-23T19:34:21.706683Z",
     "start_time": "2023-09-23T19:34:21.680276Z"
    }
   },
   "id": "af6e3bdb8199d9f2"
  },
  {
   "cell_type": "code",
   "execution_count": null,
   "outputs": [],
   "source": [
    "\"\"\"\n",
    "11., Készíts egy függvényt, amely 1 és 5 közötti egyenletes eloszlású valós véletlen számot ad vissza minden meghívás esetén.\n",
    "    függvény név: uniform_one_to_five\n",
    "    bemenet: None\n",
    "    kimeneti típus: float\n",
    "\"\"\""
   ],
   "metadata": {
    "collapsed": false
   },
   "id": "b346c5d2a2c56fb4"
  },
  {
   "cell_type": "code",
   "execution_count": 170,
   "outputs": [
    {
     "name": "stdout",
     "output_type": "stream",
     "text": [
      "3.1704445620156614\n"
     ]
    }
   ],
   "source": [
    "def uniform_one_to_five():\n",
    "    return random.uniform(1,5)\n",
    "  \n",
    "result = uniform_one_to_five()\n",
    "print(result)"
   ],
   "metadata": {
    "collapsed": false,
    "ExecuteTime": {
     "end_time": "2023-09-23T19:38:32.458805Z",
     "start_time": "2023-09-23T19:38:31.983479Z"
    }
   },
   "id": "67c7bbf849747c09"
  },
  {
   "cell_type": "code",
   "execution_count": null,
   "outputs": [],
   "source": [],
   "metadata": {
    "collapsed": false
   },
   "id": "fb8a56105b94f9ce"
  },
  {
   "cell_type": "markdown",
   "source": [
    "### Az eloszlásokkal kapcsolatos feladatok megoldását mentse src/utils modul-ba a distributions.py nevű fájlba"
   ],
   "metadata": {
    "collapsed": false
   },
   "id": "e1a6639d7cd229b"
  },
  {
   "cell_type": "markdown",
   "source": [
    "#### II. Eloszlások"
   ],
   "metadata": {
    "collapsed": false
   },
   "id": "5591376fe0ff73b3"
  },
  {
   "cell_type": "code",
   "execution_count": null,
   "outputs": [],
   "source": [
    "\"\"\"\n",
    "1., Hozz létre egy új osztályt, aminek a neve FirstClass\n",
    "    osztály név: FirstClass\n",
    "\"\"\""
   ],
   "metadata": {
    "collapsed": false
   },
   "id": "664df0ef9ac68a9f"
  },
  {
   "cell_type": "code",
   "execution_count": null,
   "outputs": [],
   "source": [
    "class FirstClass:\n",
    "    pass"
   ],
   "metadata": {
    "collapsed": false
   },
   "id": "6ba402a8cb789e1"
  },
  {
   "cell_type": "code",
   "execution_count": null,
   "outputs": [],
   "source": [
    "\"\"\"\n",
    "2., Hozz létre egy új osztályt, aminek a neve SecondClass, és definiáljon benne egy __init__ nevű függvényt, amely bead egy véletlenszám generátort a self.random adattagnak.\n",
    "    Osztály név: SecondClass\n",
    "    függvény név: __init__\n",
    "    bemenet: self, rand\n",
    "\"\"\""
   ],
   "metadata": {
    "collapsed": false
   },
   "id": "e34dccb1f71b37cd"
  },
  {
   "cell_type": "code",
   "execution_count": 187,
   "outputs": [],
   "source": [
    "class SecondClass:\n",
    "    def __init__(self, rand) :\n",
    "        self.random = rand\n",
    "            "
   ],
   "metadata": {
    "collapsed": false,
    "ExecuteTime": {
     "end_time": "2023-09-25T19:30:25.717049Z",
     "start_time": "2023-09-25T19:30:25.613625Z"
    }
   },
   "id": "3ee80f24a29d2303"
  },
  {
   "cell_type": "code",
   "execution_count": 172,
   "outputs": [],
   "source": [
    "\n"
   ],
   "metadata": {
    "collapsed": false,
    "ExecuteTime": {
     "end_time": "2023-09-24T06:13:37.170564Z",
     "start_time": "2023-09-24T06:13:37.047020Z"
    }
   },
   "id": "56451accf00c5828"
  },
  {
   "cell_type": "code",
   "execution_count": 224,
   "outputs": [],
   "source": [
    "\"\"\"\n",
    "3., Hozzan létre egy új osztályt aminek a neve UniformDistribution. Definiáljon benne a __init__ nevű függvényt, amelynek bemenetként kap egy véletlenszám generátort, és az eloszlás alsó (a) és felső határát (b), amely értékeket adattagokba ment le.\n",
    "    Osztály név: UniformDistribution\n",
    "    függvény név: __init__\n",
    "    bemenet: self, rand, a, b\n",
    "\"\"\"\n",
    "class UniformDistribution:\n",
    "    def __init__(self, rand, a, b):\n",
    "        self.random = rand\n",
    "        self.lower_bound = a\n",
    "        self.upper_bound = b\n",
    "\n",
    "\"\"\"\n",
    "4., Egészítse ki a UniformDistribution osztályt egy új függvénnyel, amely a és b pont közötti értékekhez a hozzájuk tartozó egyenletes eloszlás, eloszlás függvényében hozzárendelt értékét rendeli.\n",
    "    függvény név: pdf\n",
    "    bemenet: x\n",
    "    kimeneti típus: float\n",
    "    link: https://en.wikipedia.org/wiki/Continuous_uniform_distribution\n",
    "\"\"\"\n",
    "def pdf(self, x):\n",
    "    if self.lower_bound <= x <= self.upper_bound:\n",
    "        return 1/(self.upper_bound - self.lower_bound)\n",
    "    else:\n",
    "       return 0\n",
    "\n",
    "\"\"\"\n",
    "5., Egészítse ki a UniformDistribution osztályt egy új függvénnyel, amely megvalósítja az egyenletes eloszlás kumulatív eloszlás függvényét.\n",
    "    függvény név: cdf\n",
    "    bemenet: x\n",
    "    kimeneti típus: float\n",
    "    link: https://en.wikipedia.org/wiki/Continuous_uniform_distribution\n",
    "\"\"\"\n",
    "def cdf(self, x):\n",
    "    if x < self.lower_bound:\n",
    "        return 0\n",
    "    elif self.lower_bound <= x <= self.upper_bound:\n",
    "        return (x - self.lower_bound) / (self.upper_bound - self.lower_bound)\n",
    "    else:\n",
    "        return 1\n",
    "\n",
    "\"\"\"\n",
    "6., Egészítse ki a UniformDistribution osztályt egy új függvénnyel, amely implementálja az egyenletes eloszlás inverz kumulatív eloszlás függvényét. (percent-point function)\n",
    "    függvény név: ppf\n",
    "    bemenet: p\n",
    "    kimeneti típus: float\n",
    "    link: https://en.wikipedia.org/wiki/Continuous_uniform_distribution\n",
    "\"\"\"\n",
    "def ppf(self, p):\n",
    "    if 0 < p < 1:\n",
    "        return self.lower_bound + p * (self.upper_bound - self.lower_bound)\n",
    "\"\"\"\n",
    "7., Egészítse ki a UniformDistribution osztályt egy új függvénnyel, amely az osztály létrehozásánál megadott paraméterek mellett, egyenletes eloszlású véletlen számokat generál minden meghívásnál.\n",
    "    függvény név: gen_random\n",
    "    bemenet: None\n",
    "    kimeneti típus: float\n",
    "    link: https://en.wikipedia.org/wiki/Continuous_uniform_distribution\n",
    "\n",
    "\"\"\"\n",
    "def gen_random(self):\n",
    "    return self.lower_bound + (self.upper_bound - self.lower_bound) * self.random\n",
    "\"\"\"\n",
    "8., Egészítse ki a UniformDistribution osztályt egy új függvénnyel, amely visszaadja az eloszlás függvény átlagát.  Ha az eloszlásnak nincsen ilyen értéke, akkor return helyett hívja meg a raise Exception(\"Moment undefined\") parancsot.\n",
    "    függvény név: mean\n",
    "    bemenet: None\n",
    "    kimeneti típus: float\n",
    "    link: https://en.wikipedia.org/wiki/Continuous_uniform_distribution\n",
    "\"\"\"\n",
    "def mean(self):\n",
    "    if (self.lower_bound + self.upper_bound)/2 == 0:\n",
    "        raise Exception(\"Moment undefined\")\n",
    "    else:\n",
    "        return (self.lower_bound + self.upper_bound)/2\n",
    "    \n",
    "\"\"\"\n",
    "9., Egészítse ki a UniformDistribution osztályt egy új függvénnyel, amely visszaadja az eloszlás függvény mediánját.\n",
    "    függvény név: median\n",
    "    bemenet: None\n",
    "    kimeneti típus: float\n",
    "    link: https://en.wikipedia.org/wiki/Continuous_uniform_distribution\n",
    "\"\"\"\n",
    "def median(self):\n",
    "    return (self.lower_bound + self.upper_bound)/2\n",
    "\"\"\"\n",
    "10., Egészítse ki a UniformDistribution osztályt egy új függvénnyel, amely visszaadja az eloszlás függvény varianciáját.  Ha az eloszlásnak nincsen ilyen értéke, akkor return helyett hívja meg a raise Exception(\"Moment undefined\") parancsot.\n",
    "    függvény név: variance\n",
    "    bemenet: None\n",
    "    kimeneti típus: float\n",
    "    link: https://en.wikipedia.org/wiki/Continuous_uniform_distribution\n",
    "\"\"\"\n",
    "def variance(self):\n",
    "    if ((self.upper_bound - self.lower_bound) ** 2) / 12 == 0:\n",
    "        raise Exception(\"Moment undefined\")\n",
    "    else:\n",
    "        return ((self.upper_bound - self.lower_bound) ** 2) / 12\n",
    "\"\"\"\n",
    "11., Egészítse ki a UniformDistribution osztályt egy új függvénnyel, amely visszaadja az eloszlás függvény ferdeségét.  Ha az eloszlásnak nincsen ilyen értéke, akkor return helyett hívja meg a raise Exception(\"Moment undefined\") parancsot.\n",
    "    függvény név: skewness\n",
    "    bemenet: None\n",
    "    kimeneti típus: float\n",
    "    link: https://en.wikipedia.org/wiki/Continuous_uniform_distribution\n",
    "\"\"\"\n",
    "def skewness(self):\n",
    "    return 0\n",
    "\n",
    "\"\"\"\n",
    "12., Egészítse ki a UniformDistribution osztályt egy új függvénnyel, amely visszaadja az eloszlás függvény többlet csúcsosságát.  Ha az eloszlásnak nincsen ilyen értéke, akkor return helyett hívja meg a raise Exception(\"Moment undefined\") parancsot.\n",
    "    függvény név: ex_kurtosis\n",
    "    bemenet: None\n",
    "    kimeneti típus: float\n",
    "    link: https://en.wikipedia.org/wiki/Continuous_uniform_distribution\n",
    "\"\"\"\n",
    "def ex_kurtosis(self):\n",
    "    return -6/5\n",
    "\n",
    "\"\"\"\n",
    "13., Egészítse ki a UniformDistribution osztályt egy új függvénnyel, amely visszaadja az eloszlás függvény első 3 cetrális momentumát és a többlet csúcsosságot.  Ha az eloszlásnak nincsenek ilyen értékei, akkor return helyett hívja meg a raise Exception(\"Moments undefined\") parancsot.\n",
    "    függvény név: mvsk\n",
    "    bemenet: None\n",
    "    kimeneti típus: List\n",
    "    link: https://en.wikipedia.org/wiki/Continuous_uniform_distribution\n",
    "\"\"\"\n",
    "def mvsk(self):\n",
    "    mean = self.mean()\n",
    "    variance = self.variance()\n",
    "    skewness = 0\n",
    "    kurtosis = self.ex_kurtosis()\n",
    "    \n",
    "    return [mean, variance, skewness, kurtosis]\n",
    "    \n",
    "    \n"
   ],
   "metadata": {
    "collapsed": false,
    "ExecuteTime": {
     "end_time": "2023-09-26T05:56:59.829954Z",
     "start_time": "2023-09-26T05:56:59.718887Z"
    }
   },
   "id": "16a24cd8bbf27601"
  },
  {
   "cell_type": "code",
   "execution_count": null,
   "outputs": [],
   "source": [],
   "metadata": {
    "collapsed": false
   },
   "id": "bd08e6c93ec9bf3a"
  },
  {
   "cell_type": "code",
   "execution_count": null,
   "outputs": [],
   "source": [],
   "metadata": {
    "collapsed": false
   },
   "id": "316f42ca481d150b"
  },
  {
   "cell_type": "code",
   "execution_count": 222,
   "outputs": [],
   "source": [
    "\"\"\"\n",
    "14., Hozzan létre egy új osztályt aminek a neve NormalDistribution. Definiáljon benne a __init__ nevű függvényt, amelynek bemenetként kap egy véletlenszám generátort, és az eloszlás várható értékét (location) és varianciáját (scale), amely értékeket adattagokba ment le.\n",
    "    Osztály név: NormalDistribution\n",
    "    függvény név: __init__\n",
    "    bemenet: self, rand, loc, scale\n",
    "\"\"\"\n",
    "class NormalDistribution:\n",
    "    def __init__(self, rand, loc, scale) :\n",
    "        self.random = rand\n",
    "        self.location = loc\n",
    "        self.scale = scale \n",
    "        \n",
    "        \n",
    "\n",
    "\"\"\"\n",
    "15., Egészítse ki a NormalDistribution osztályt egy új függvénnyel, amely loc várható értékű és scale varianciájú normális eloszlás eloszlásfüggvényéből rendel valószínűségi értéket a bemeneti x valós számhoz.\n",
    "    függvény név: pdf\n",
    "    bemenet: x\n",
    "    kimeneti típus: float\n",
    "    link: https://en.wikipedia.org/wiki/Normal_distribution\n",
    "\"\"\"\n",
    "import math\n",
    "\n",
    "def pdf(self, x):\n",
    "    probability_density = (math.exp(-1/2 * (( x - self.mean / self.scale ** 1/2) ** 2))) / ((self.scale * 2 * math.pi) ** 1/2)\n",
    "    return probability_density\n",
    "\"\"\"\n",
    "16., Egészítse ki a NormalDistribution osztályt egy új függvénnyel, amely megvalósítja az eloszlás kumulatív eloszlás függvényét.\n",
    "    függvény név: cdf\n",
    "    bemenet: x\n",
    "    kimeneti típus: float\n",
    "    link: https://en.wikipedia.org/wiki/Normal_distribution\n",
    "\"\"\"\n",
    "def f(x):\n",
    "    return math.exp((-x ** 2) / 2)\n",
    "def cdf(x):\n",
    "    from scipy.integrate import quad\n",
    "    negative_inf = -math.inf\n",
    "    cumulative_distribution = quad(f, negative_inf, x) / ((2 * math.pi) ** 1/2)\n",
    "    return cumulative_distribution\n",
    "\n",
    "\"\"\"\n",
    "17., Egészítse ki a NormalDistribution osztályt egy új függvénnyel, amely implementálja az eloszlás inverz kumulatív eloszlás függvényét\n",
    "    függvény név: ppf\n",
    "    bemenet: p\n",
    "    kimeneti típus: float\n",
    "    link: https://en.wikipedia.org/wiki/Normal_distribution\n",
    "\"\"\"\n",
    "from scipy.stats import norm\n",
    "def ppf(p):\n",
    "    inverse_cdf = norm.ppf(p)\n",
    "    \n",
    "\n",
    "\"\"\"\n",
    "18., Egészítse ki a NormalDistribution osztályt egy új függvénnyel, amely az osztály létrehozásánál megadott paraméterek mellett, normális eloszlású véletlen számokat generál minden meghívásnál\n",
    "    függvény név: gen_random\n",
    "    bemenet: None\n",
    "    kimeneti típus: float\n",
    "    link: https://en.wikipedia.org/wiki/Normal_distribution\n",
    "\"\"\"\n",
    "import numpy as np\n",
    "rng = np.random.default_rng()\n",
    "def gen_random():\n",
    "    random_number = rng.normal()\n",
    "    return random_number\n",
    "\n",
    "\n",
    "    \n",
    "\"\"\"\n",
    "19., Egészítse ki a NormalDistribution osztályt egy új függvénnyel, amely visszaadja az eloszlás függvény átlagát.  Ha az eloszlásnak nincsen ilyen értéke, akkor return helyett hívja meg a raise Exception(\"Moment undefined\") parancsot.\n",
    "    függvény név: mean\n",
    "    bemenet: None\n",
    "    kimeneti típus: float\n",
    "    link: https://en.wikipedia.org/wiki/Normal_distribution\n",
    "\"\"\"\n",
    "def mean(self):\n",
    "    return self.mean\n",
    "\n",
    "\"\"\"\n",
    "20., Egészítse ki a NormalDistribution osztályt egy új függvénnyel, amely visszaadja az eloszlás függvény mediánját\n",
    "    függvény név: median\n",
    "    bemenet: None\n",
    "    kimeneti típus: float\n",
    "    link: https://en.wikipedia.org/wiki/Normal_distribution\n",
    "\"\"\"\n",
    "def median(self):\n",
    "    return self.median\n",
    "\"\"\"\n",
    "21., Egészítse ki a NormalDistribution osztályt egy új függvénnyel, amely visszaadja az eloszlás függvény varianciáját.  Ha az eloszlásnak nincsen ilyen értéke, akkor return helyett hívja meg a raise Exception(\"Moment undefined\") parancsot.\n",
    "    függvény név: variance\n",
    "    bemenet: None\n",
    "    kimeneti típus: float\n",
    "    link: https://en.wikipedia.org/wiki/Normal_distribution\n",
    "\"\"\"\n",
    "def variance(self):\n",
    "    return self.variance\n",
    "\"\"\"\n",
    "22., Egészítse ki a NormalDistribution osztályt egy új függvénnyel, amely visszaadja az eloszlás függvény ferdeségét.  Ha az eloszlásnak nincsen ilyen értéke, akkor return helyett hívja meg a raise Exception(\"Moment undefined\") parancsot.\n",
    "    függvény név: skewness\n",
    "    bemenet: None\n",
    "    kimeneti típus: float\n",
    "    link: https://en.wikipedia.org/wiki/Normal_distribution\n",
    "\"\"\"\n",
    "def skewness(self):\n",
    "    return 0\n",
    "\n",
    "\"\"\"\n",
    "23., Egészítse ki a NormalDistribution osztályt egy új függvénnyel, amely visszaadja az eloszlás függvény többlet csúcsosságát.  Ha az eloszlásnak nincsen ilyen értéke, akkor return helyett hívja meg a raise Exception(\"Moment undefined\") parancsot.\n",
    "    függvény név: ex_kurtosis\n",
    "    bemenet: None\n",
    "    kimeneti típus: float\n",
    "    link: https://en.wikipedia.org/wiki/Normal_distribution\n",
    "\"\"\"\n",
    "def ex_kurtosis(ex_kurtosis):\n",
    "    return 0\n",
    "\n",
    "\"\"\"\n",
    "24., Egészítse ki a NormalDistribution osztályt egy új függvénnyel, amely visszaadja az eloszlás függvény első 3 cetrális momentumát és a többlet csúcsosságot.  Ha az eloszlásnak nincsenek ilyen értékei, akkor return helyett hívja meg a raise Exception(\"Moment undefined\") parancsot.\n",
    "    függvény név: mvsk\n",
    "    bemenet: None\n",
    "    kimeneti típus: List\n",
    "    link: https://en.wikipedia.org/wiki/Normal_distribution\n",
    "\"\"\"\n",
    "import numpy as np\n",
    "def mvsk(self):\n",
    "    return [0, self.variance, 0, 0]\n",
    "    "
   ],
   "metadata": {
    "collapsed": false,
    "ExecuteTime": {
     "end_time": "2023-09-26T05:56:36.729515Z",
     "start_time": "2023-09-26T05:56:33.853535Z"
    }
   },
   "id": "982e36a2889ff566"
  },
  {
   "cell_type": "code",
   "execution_count": null,
   "outputs": [],
   "source": [],
   "metadata": {
    "collapsed": false
   },
   "id": "458acbe6ee93cd47"
  },
  {
   "cell_type": "code",
   "execution_count": null,
   "outputs": [],
   "source": [],
   "metadata": {
    "collapsed": false
   },
   "id": "33b2b698ad872fee"
  },
  {
   "cell_type": "code",
   "execution_count": 225,
   "outputs": [],
   "source": [
    "\"\"\"\n",
    "25., Hozzan létre egy új osztályt aminek a neve CauchyDistribution. Definiáljon benne a __init__ nevű függvényt, amelynek bemenetként kap egy véletlenszám generátort, az x0 (location) és gamma (scale) értékeket, amelyeket adattagokba ment le.\n",
    "    Osztály név: CauchyDistribution\n",
    "    függvény név: __init__\n",
    "    bemenet: self, rand, loc, scale\n",
    "\"\"\"\n",
    "class Cauchydistribution:\n",
    "    def __init__(self, rand, loc, scale):\n",
    "        self.random = rand\n",
    "        self.location = x0\n",
    "        self.scale = gamma\n",
    "    \n",
    "\n",
    "\"\"\"\n",
    "26., Egészítse ki a CauchyDistribution osztályt egy új függvénnyel, amely a bemeneti x értékhez hozzárendeli annak valószínűségi értékét\n",
    "    függvény név: pdf\n",
    "    bemenet: x\n",
    "    kimeneti típus: float\n",
    "    link: https://en.wikipedia.org/wiki/Cauchy_distribution\n",
    "\"\"\"\n",
    "import math \n",
    "def pdf(self, x):\n",
    "    probability_density = 1 / math.pi * ((self.scale / ((x - self.location) ** 2) + self.scale ** 2 ))\n",
    "    return probability_density\n",
    "\n",
    "\"\"\"\n",
    "27., Egészítse ki a CauchyDistribution osztályt egy új függvénnyel, amely megvalósítja az eloszlás kumulatív eloszlás függvényét.\n",
    "    függvény név: cdf\n",
    "    bemenet: x\n",
    "    kimeneti típus: float\n",
    "    link: https://en.wikipedia.org/wiki/Cauchy_distribution\n",
    "\"\"\"\n",
    "def cdf(self, x):\n",
    "    cumulative_distribution = (1 / math.pi) * math.atan((x - self.location) / self.scale) + 1/2\n",
    "    return cumulative_distribution\n",
    "\n",
    "\"\"\"\n",
    "28., Egészítse ki a CauchyDistribution osztályt egy új függvénnyel, amely implementálja az eloszlás inverz kumulatív eloszlás függvényét\n",
    "    függvény név: ppf\n",
    "    bemenet: p\n",
    "    kimeneti típus: float\n",
    "    link: https://en.wikipedia.org/wiki/Cauchy_distribution\n",
    "\"\"\"\n",
    "def ppf(p):\n",
    "    inverse_cumulative = self.location + self.scale * math.tan(math.pi * (p - 1/2))\n",
    "\n",
    "\"\"\"\n",
    "29., Egészítse ki a CauchyDistribution osztályt egy új függvénnyel, amely az osztály létrehozásánál megadott paraméterek mellett, cauchy eloszlású véletlen számokat generál minden meghívásnál\n",
    "    függvény név: gen_random\n",
    "    bemenet: None\n",
    "    kimeneti típus: float\n",
    "    link: https://en.wikipedia.org/wiki/Cauchy_distribution\n",
    "\"\"\"\n",
    "def gen_random(self):\n",
    "    random_number = math.tan(math.pi * (self.random.random() - 1/2)) \n",
    "    return random_number\n",
    "    \n",
    "\n",
    "\"\"\"\n",
    "30., Egészítse ki a CauchyDistribution osztályt egy új függvénnyel, amely visszaadja az eloszlás függvény átlagát. Ha az eloszlásnak nincsen ilyen értéke, akkor return helyett hívja meg a raise Exception(\"Moment undefined\") parancsot.\n",
    "    függvény név: mean\n",
    "    bemenet: None\n",
    "    kimeneti típus: float\n",
    "    link: https://en.wikipedia.org/wiki/Cauchy_distribution\n",
    "\"\"\"\n",
    "def mean(self):\n",
    "    raise Exception(\"Moment undefined\")\n",
    "\n",
    "\"\"\"\n",
    "31., Egészítse ki a CauchyDistribution osztályt egy új függvénnyel, amely visszaadja az eloszlás függvény mediánját.\n",
    "    függvény név: median\n",
    "    bemenet: None\n",
    "    kimeneti típus: float\n",
    "    link: https://en.wikipedia.org/wiki/Cauchy_distribution\n",
    "\"\"\"\n",
    "def median(self):\n",
    "    return self.median\n",
    "\n",
    "\"\"\"\n",
    "32., Egészítse ki a CauchyDistribution osztályt egy új függvénnyel, amely visszaadja az eloszlás függvény varianciáját.  Ha az eloszlásnak nincsen ilyen értéke, akkor return helyett hívja meg a raise Exception(\"Moment undefined\") parancsot.\n",
    "    függvény név: variance\n",
    "    bemenet: None\n",
    "    kimeneti típus: float\n",
    "    link: https://en.wikipedia.org/wiki/Cauchy_distribution\n",
    "\"\"\"\n",
    "def variance():\n",
    "    raise Exception(\"Moment undefined\")\n",
    "\n",
    "\"\"\"\n",
    "33., Egészítse ki a CauchyDistribution osztályt egy új függvénnyel, amely visszaadja az eloszlás függvény ferdeségét.  Ha az eloszlásnak nincsen ilyen értéke, akkor return helyett hívja meg a raise Exception(\"Moment undefined\") parancsot.\n",
    "    függvény név: skewness\n",
    "    bemenet: None\n",
    "    kimeneti típus: float\n",
    "    link: https://en.wikipedia.org/wiki/Cauchy_distribution\n",
    "\"\"\"\n",
    "def skeweness():\n",
    "    raise Exception(\"Moment undefined\")\n",
    "\n",
    "\"\"\"\n",
    "34., Egészítse ki a CauchyDistribution osztályt egy új függvénnyel, amely visszaadja az eloszlás függvény többlet csúcsosságát.  Ha az eloszlásnak nincsen ilyen értéke, akkor return helyett hívja meg a raise Exception(\"Moment undefined\") parancsot.\n",
    "    függvény név: ex_kurtosis\n",
    "    bemenet: None\n",
    "    kimeneti típus: float\n",
    "    link: https://en.wikipedia.org/wiki/Cauchy_distribution\n",
    "\"\"\"\n",
    "def ex_kurtosis():\n",
    "    raise Exception(\"Moment undefined\")\n",
    "\n",
    "\"\"\"\n",
    "35., Egészítse ki a CauchyDistribution osztályt egy új függvénnyel, amely visszaadja az eloszlás függvény első 3 cetrális momentumát és a többlet csúcsosságot.  Ha az eloszlásnak nincsenek ilyen értékei, akkor return helyett hívja meg a raise Exception(\"Moments undefined\") parancsot.\n",
    "    függvény név: mvsk\n",
    "    bemenet: None\n",
    "    kimeneti típus: List\n",
    "    link: https://en.wikipedia.org/wiki/Cauchy_distribution\n",
    "\"\"\"\n",
    "def mvsk():\n",
    "    raise Exception(\"Moments undefined\")"
   ],
   "metadata": {
    "collapsed": false,
    "ExecuteTime": {
     "end_time": "2023-09-26T06:20:32.575554Z",
     "start_time": "2023-09-26T06:20:32.478325Z"
    }
   },
   "id": "4cf53dd0ca6be7bf"
  },
  {
   "cell_type": "code",
   "execution_count": null,
   "outputs": [],
   "source": [],
   "metadata": {
    "collapsed": false
   },
   "id": "e945447dfe21a612"
  },
  {
   "cell_type": "code",
   "execution_count": null,
   "outputs": [],
   "source": [],
   "metadata": {
    "collapsed": false
   },
   "id": "435dfed4191c324"
  }
 ],
 "metadata": {
  "kernelspec": {
   "display_name": "Python 3",
   "language": "python",
   "name": "python3"
  },
  "language_info": {
   "codemirror_mode": {
    "name": "ipython",
    "version": 2
   },
   "file_extension": ".py",
   "mimetype": "text/x-python",
   "name": "python",
   "nbconvert_exporter": "python",
   "pygments_lexer": "ipython2",
   "version": "2.7.6"
  }
 },
 "nbformat": 4,
 "nbformat_minor": 5
}
