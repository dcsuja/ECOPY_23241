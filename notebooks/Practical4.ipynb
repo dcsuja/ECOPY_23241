{
 "cells": [
  {
   "cell_type": "markdown",
   "source": [
    "### A heti notebook mellett erősen ajánlott a DataCamp témához kapcsolódó kurzusainak elvégzése. A héten nem töltök fel unit testet"
   ],
   "metadata": {
    "collapsed": false
   },
   "id": "7bf65558189787a8"
  },
  {
   "cell_type": "markdown",
   "source": [
    "#### A feladatok megoldásához a pandas, a  matplotlib és a typing package-k használhatók. Az ábrák esetében a README-ben is linkelt Axes object alapú megközelítést használd."
   ],
   "metadata": {
    "collapsed": false
   },
   "id": "670eb978efbc6f7"
  },
  {
   "cell_type": "code",
   "execution_count": null,
   "outputs": [],
   "source": [
    "'''\n",
    "FONTOS: Az első feladatáltal visszaadott DataFrame-et kell használni a további feladatokhoz. A függvényeken belül mindig készíts egy másolatot a bemenő df-ről, (new_df = df.copy() és ezzel dolgozz tovább.)\n",
    "'''"
   ],
   "metadata": {
    "collapsed": false
   },
   "id": "initial_id"
  },
  {
   "cell_type": "code",
   "execution_count": null,
   "outputs": [],
   "source": [
    "'''\n",
    "1. Készíts egy függvényt ami a bemeneti dictionary-ből egy DataFrame-et ad vissza.\n",
    "\n",
    "függvény bemenete: test_dict\n",
    "Egy példa a kimenetre: test_df\n",
    "kimeneti típus: pandas.core.frame.DataFrame\n",
    "függvény neve: dict_to_dataframe\n",
    "'''"
   ],
   "metadata": {
    "collapsed": false
   },
   "id": "8bbcaf3fe36146ad"
  },
  {
   "cell_type": "code",
   "execution_count": null,
   "outputs": [],
   "source": [
    "stats = {\"country\": [\"Brazil\", \"Russia\", \"India\", \"China\", \"South Africa\"],\n",
    "       \"capital\": [\"Brasilia\", \"Moscow\", \"New Dehli\", \"Beijing\", \"Pretoria\"],\n",
    "       \"area\": [8.516, 17.10, 3.286, 9.597, 1.221],\n",
    "       \"population\": [200.4, 143.5, 1252, 1357, 52.98] }"
   ],
   "metadata": {
    "collapsed": false
   },
   "id": "2c9ff116df8241e"
  },
  {
   "cell_type": "code",
   "execution_count": 8,
   "outputs": [],
   "source": [
    "import pandas as pd\n",
    "\n",
    "def dict_to_dataframe(test_dict):\n",
    "    test_df = pd.DataFrame(test_dict)\n",
    "    \n",
    "    test_df = dict_to_dataframe(stats)\n",
    "    \n",
    "    print(test_df)\n",
    "\n"
   ],
   "metadata": {
    "collapsed": false,
    "ExecuteTime": {
     "end_time": "2023-10-08T15:38:59.482359Z",
     "start_time": "2023-10-08T15:38:59.424797Z"
    }
   },
   "id": "6b24ec77cdef3452"
  },
  {
   "cell_type": "code",
   "execution_count": 6,
   "outputs": [
    {
     "data": {
      "text/plain": "'\\n2. Készíts egy függvényt ami a bemeneti DataFrame-ből vissza adja csak azt az oszlopot amelynek a neve a bemeneti string-el megegyező.\\n\\nfüggvény bemenete: test_df, column_name\\nEgy példa a kimenetre: test_df\\nkimeneti típus: pandas.core.series.Series\\nfüggvény neve: get_column\\n'"
     },
     "execution_count": 6,
     "metadata": {},
     "output_type": "execute_result"
    }
   ],
   "source": [
    "'''\n",
    "2. Készíts egy függvényt ami a bemeneti DataFrame-ből vissza adja csak azt az oszlopot amelynek a neve a bemeneti string-el megegyező.\n",
    "\n",
    "függvény bemenete: test_df, column_name\n",
    "Egy példa a kimenetre: test_df\n",
    "kimeneti típus: pandas.core.series.Series\n",
    "függvény neve: get_column\n",
    "'''"
   ],
   "metadata": {
    "collapsed": false,
    "ExecuteTime": {
     "end_time": "2023-10-08T15:38:22.725815Z",
     "start_time": "2023-10-08T15:38:22.400558Z"
    }
   },
   "id": "55ac5822b428021d"
  },
  {
   "cell_type": "code",
   "execution_count": 11,
   "outputs": [
    {
     "name": "stdout",
     "output_type": "stream",
     "text": [
      "0          Brazil\n",
      "1          Russia\n",
      "2           India\n",
      "3           China\n",
      "4    South Africa\n",
      "Name: country, dtype: object\n"
     ]
    }
   ],
   "source": [
    "def get_column(test_df, column_name):\n",
    "    \n",
    "    if column_name in test_df.columns:\n",
    "        selected_column = test_df[column_name]\n",
    "        return selected_column\n",
    "    else:\n",
    "        raise ValueError(f\"Az '{column_name}' nevű oszlop nem található a DataFrame-ben.\")\n",
    "\n",
    "stats = {\"country\": [\"Brazil\", \"Russia\", \"India\", \"China\", \"South Africa\"],\n",
    "       \"capital\": [\"Brasilia\", \"Moscow\", \"New Dehli\", \"Beijing\", \"Pretoria\"],\n",
    "       \"area\": [8.516, 17.10, 3.286, 9.597, 1.221],\n",
    "       \"population\": [200.4, 143.5, 1252, 1357, 52.98] }\n",
    "\n",
    "test_df = pd.DataFrame(stats)\n",
    "column_name = \"country\"\n",
    "\n",
    "selected_column = get_column(test_df, column_name)\n",
    "\n",
    "print(selected_column)\n"
   ],
   "metadata": {
    "collapsed": false,
    "ExecuteTime": {
     "end_time": "2023-10-08T15:42:18.317338Z",
     "start_time": "2023-10-08T15:42:18.197433Z"
    }
   },
   "id": "f96be991c8af5bd"
  },
  {
   "cell_type": "code",
   "execution_count": null,
   "outputs": [],
   "source": [
    "'''\n",
    "3. Készíts egy függvényt ami a bemeneti DataFrame-ből kiszámolja az országok népsűrűségét és eltárolja az eredményt egy új oszlopba ('density').\n",
    "(density = population / area)\n",
    "\n",
    "függvény bemenete: test_df\n",
    "Egy példa a kimenetre: test_df\n",
    "kimeneti típus: pandas.core.frame.DataFrame\n",
    "függvény neve: population_density\n",
    "'''"
   ],
   "metadata": {
    "collapsed": false
   },
   "id": "1ad00850da164791"
  },
  {
   "cell_type": "code",
   "execution_count": 12,
   "outputs": [
    {
     "name": "stdout",
     "output_type": "stream",
     "text": [
      "        country    capital    area  population     density\n",
      "0        Brazil   Brasilia   8.516      200.40   23.532175\n",
      "1        Russia     Moscow  17.100      143.50    8.391813\n",
      "2         India  New Dehli   3.286     1252.00  381.010347\n",
      "3         China    Beijing   9.597     1357.00  141.398354\n",
      "4  South Africa   Pretoria   1.221       52.98   43.390663\n"
     ]
    }
   ],
   "source": [
    "def population_density(test_df):\n",
    "    \n",
    "    if 'area' not in test_df.columns or 'population' not in test_df.columns:\n",
    "        raise ValueError(\"Az 'area' és 'population' oszlopok szükségesek a számoláshoz.\")\n",
    "\n",
    "    test_df['density'] = test_df['population'] / test_df['area']\n",
    "\n",
    "    return test_df\n",
    "\n",
    "\n",
    "stats = {\"country\": [\"Brazil\", \"Russia\", \"India\", \"China\", \"South Africa\"],\n",
    "       \"capital\": [\"Brasilia\", \"Moscow\", \"New Dehli\", \"Beijing\", \"Pretoria\"],\n",
    "       \"area\": [8.516, 17.10, 3.286, 9.597, 1.221],\n",
    "       \"population\": [200.4, 143.5, 1252, 1357, 52.98] }\n",
    "\n",
    "test_df = pd.DataFrame(stats)\n",
    "\n",
    "\n",
    "result_df = population_density(test_df)\n",
    "\n",
    "print(result_df)\n"
   ],
   "metadata": {
    "collapsed": false,
    "ExecuteTime": {
     "end_time": "2023-10-08T15:44:20.511560Z",
     "start_time": "2023-10-08T15:44:20.435887Z"
    }
   },
   "id": "b2c10780de7f2b22"
  },
  {
   "cell_type": "code",
   "execution_count": null,
   "outputs": [],
   "source": [
    "'''\n",
    "4. Készíts egy függvényt, ami a bemeneti Dataframe adatai alapján elkészít egy olyan oszlopdiagramot (bar plot),\n",
    "ami vizualizálja az országok népességét.\n",
    "\n",
    "Az oszlopdiagram címe legyen: 'Population of Countries'\n",
    "Az x tengely címe legyen: 'Country'\n",
    "Az y tengely címe legyen: 'Population (millions)'\n",
    "\n",
    "függvény bemenete: test_df\n",
    "Egy példa a kimenetre: fig\n",
    "kimeneti típus: matplotlib.figure.Figure\n",
    "függvény neve: plot_population\n",
    "'''"
   ],
   "metadata": {
    "collapsed": false
   },
   "id": "55a9b572929dfe2a"
  },
  {
   "cell_type": "code",
   "execution_count": 13,
   "outputs": [
    {
     "data": {
      "text/plain": "<Figure size 1000x600 with 1 Axes>",
      "image/png": "[encoded data removed]"
     },
     "metadata": {},
     "output_type": "display_data"
    }
   ],
   "source": [
    "import matplotlib.pyplot as plt\n",
    "\n",
    "def plot_population(test_df):\n",
    "    \n",
    "    if 'country' not in test_df.columns or 'population' not in test_df.columns:\n",
    "        raise ValueError(\"Az 'country' és 'population' oszlopok szükségesek a diagram készítéséhez.\")\n",
    "\n",
    "    \n",
    "    fig, ax = plt.subplots(figsize=(10, 6))\n",
    "    ax.bar(test_df['country'], test_df['population'], color='skyblue')\n",
    "    ax.set_title('Population of Countries')\n",
    "    ax.set_xlabel('Country')\n",
    "    ax.set_ylabel('Population (millions)')\n",
    "    plt.xticks(rotation=45, ha=\"right\")\n",
    "\n",
    "    plt.tight_layout()\n",
    "    plt.show()\n",
    "\n",
    "    return fig\n",
    "\n",
    "stats = {\"country\": [\"Brazil\", \"Russia\", \"India\", \"China\", \"South Africa\"],\n",
    "       \"capital\": [\"Brasilia\", \"Moscow\", \"New Dehli\", \"Beijing\", \"Pretoria\"],\n",
    "       \"area\": [8.516, 17.10, 3.286, 9.597, 1.221],\n",
    "       \"population\": [200.4, 143.5, 1252, 1357, 52.98] }\n",
    "test_df = pd.DataFrame(stats)\n",
    "\n",
    "fig = plot_population(test_df)\n"
   ],
   "metadata": {
    "collapsed": false,
    "ExecuteTime": {
     "end_time": "2023-10-08T15:46:20.929075Z",
     "start_time": "2023-10-08T15:46:20.417683Z"
    }
   },
   "id": "2521a8aa5627a5c8"
  },
  {
   "cell_type": "code",
   "execution_count": null,
   "outputs": [],
   "source": [
    "'''\n",
    "5. Készíts egy függvényt, ami a bemeneti Dataframe adatai alapján elkészít egy olyan kördiagramot,\n",
    "ami vizualizálja az országok területét. Minden körcikknek legyen egy címe, ami az ország neve.\n",
    "\n",
    "Az kördiagram címe legyen: 'Area of Countries'\n",
    "\n",
    "függvény bemenete: test_df\n",
    "Egy példa a kimenetre: fig\n",
    "kimeneti típus: matplotlib.figure.Figure\n",
    "függvény neve: plot_area\n",
    "'''"
   ],
   "metadata": {
    "collapsed": false
   },
   "id": "51df14eeb5a59447"
  },
  {
   "cell_type": "code",
   "execution_count": 14,
   "outputs": [
    {
     "data": {
      "text/plain": "<Figure size 640x480 with 1 Axes>",
      "image/png": "[encoded data removed]"
     },
     "metadata": {},
     "output_type": "display_data"
    }
   ],
   "source": [
    "import matplotlib.pyplot as plt\n",
    "\n",
    "def plot_area(test_df):\n",
    "    if 'country' not in test_df.columns or 'area' not in test_df.columns:\n",
    "        raise ValueError(\"Az 'country' és 'area' oszlopok szükségesek a diagram készítéséhez.\")\n",
    "\n",
    "    \n",
    "    fig, ax = plt.subplots()\n",
    "    ax.pie(test_df['area'], labels=test_df['country'], autopct='%1.1f%%', startangle=90)\n",
    "    ax.set_title('Area of Countries')\n",
    "\n",
    "    \n",
    "    plt.axis('equal')  \n",
    "    plt.tight_layout()\n",
    "    plt.show()\n",
    "\n",
    "    return fig\n",
    "\n",
    "data = {\n",
    "    \"country\": [\"Brazil\", \"Russia\", \"India\", \"China\", \"South Africa\"],\n",
    "    \"area\": [8.516, 17.10, 3.286, 9.597, 1.221]\n",
    "}\n",
    "test_df = pd.DataFrame(data)\n",
    "\n",
    "fig = plot_area(test_df)\n"
   ],
   "metadata": {
    "collapsed": false,
    "ExecuteTime": {
     "end_time": "2023-10-08T15:48:43.031387Z",
     "start_time": "2023-10-08T15:48:42.851777Z"
    }
   },
   "id": "8b699e1cbddcf606"
  },
  {
   "cell_type": "markdown",
   "source": [
    "Az ezt követő feladatokhoz az adatot (StudentsPerformance) a data mappában találod"
   ],
   "metadata": {
    "collapsed": false
   },
   "id": "9bb68abad1319c47"
  },
  {
   "cell_type": "code",
   "execution_count": null,
   "outputs": [],
   "source": [
    "'''\n",
    "FONTOS: Az első feladatáltal visszaadott DataFrame-et kell használni a további feladatokhoz. A függvényeken belül mindig készíts egy másolatot a bemenő df-ről, (new_df = df.copy() és ezzel dolgozz tovább.)\n",
    "'''"
   ],
   "metadata": {
    "collapsed": false
   },
   "id": "8f14d78ec59ec2c"
  },
  {
   "cell_type": "code",
   "execution_count": null,
   "outputs": [],
   "source": [
    "'''\n",
    "1., Készíts egy függvényt, ami egy string útvonalat vár paraméterként, és egy DataFrame ad visszatérési értékként.\n",
    "\n",
    "függvény bemente: input_csv\n",
    "Egy példa a kimenetre: df_data\n",
    "kimeneti típus: pandas.core.frame.DataFrame\n",
    "függvény neve: csv_to_df\n",
    "'''"
   ],
   "metadata": {
    "collapsed": false
   },
   "id": "65cd23e63070e453"
  },
  {
   "cell_type": "code",
   "execution_count": 16,
   "outputs": [
    {
     "ename": "ValueError",
     "evalue": "Hiba történt a CSV beolvasása közben: [Errno 2] No such file or directory: 'data/StudentsPerformance.csv'",
     "output_type": "error",
     "traceback": [
      "\u001B[0;31m---------------------------------------------------------------------------\u001B[0m",
      "\u001B[0;31mFileNotFoundError\u001B[0m                         Traceback (most recent call last)",
      "Cell \u001B[0;32mIn[16], line 6\u001B[0m, in \u001B[0;36mcsv_to_df\u001B[0;34m(input_csv)\u001B[0m\n\u001B[1;32m      5\u001B[0m \u001B[38;5;28;01mtry\u001B[39;00m:\n\u001B[0;32m----> 6\u001B[0m     df_data \u001B[38;5;241m=\u001B[39m \u001B[43mpd\u001B[49m\u001B[38;5;241;43m.\u001B[39;49m\u001B[43mread_csv\u001B[49m\u001B[43m(\u001B[49m\u001B[43minput_csv\u001B[49m\u001B[43m)\u001B[49m\n\u001B[1;32m      7\u001B[0m     \u001B[38;5;28;01mreturn\u001B[39;00m df_data\n",
      "File \u001B[0;32m~/Documents/GitHub/ECOPY_23241/venv/lib/python3.10/site-packages/pandas/io/parsers/readers.py:948\u001B[0m, in \u001B[0;36mread_csv\u001B[0;34m(filepath_or_buffer, sep, delimiter, header, names, index_col, usecols, dtype, engine, converters, true_values, false_values, skipinitialspace, skiprows, skipfooter, nrows, na_values, keep_default_na, na_filter, verbose, skip_blank_lines, parse_dates, infer_datetime_format, keep_date_col, date_parser, date_format, dayfirst, cache_dates, iterator, chunksize, compression, thousands, decimal, lineterminator, quotechar, quoting, doublequote, escapechar, comment, encoding, encoding_errors, dialect, on_bad_lines, delim_whitespace, low_memory, memory_map, float_precision, storage_options, dtype_backend)\u001B[0m\n\u001B[1;32m    946\u001B[0m kwds\u001B[38;5;241m.\u001B[39mupdate(kwds_defaults)\n\u001B[0;32m--> 948\u001B[0m \u001B[38;5;28;01mreturn\u001B[39;00m \u001B[43m_read\u001B[49m\u001B[43m(\u001B[49m\u001B[43mfilepath_or_buffer\u001B[49m\u001B[43m,\u001B[49m\u001B[43m \u001B[49m\u001B[43mkwds\u001B[49m\u001B[43m)\u001B[49m\n",
      "File \u001B[0;32m~/Documents/GitHub/ECOPY_23241/venv/lib/python3.10/site-packages/pandas/io/parsers/readers.py:611\u001B[0m, in \u001B[0;36m_read\u001B[0;34m(filepath_or_buffer, kwds)\u001B[0m\n\u001B[1;32m    610\u001B[0m \u001B[38;5;66;03m# Create the parser.\u001B[39;00m\n\u001B[0;32m--> 611\u001B[0m parser \u001B[38;5;241m=\u001B[39m \u001B[43mTextFileReader\u001B[49m\u001B[43m(\u001B[49m\u001B[43mfilepath_or_buffer\u001B[49m\u001B[43m,\u001B[49m\u001B[43m \u001B[49m\u001B[38;5;241;43m*\u001B[39;49m\u001B[38;5;241;43m*\u001B[39;49m\u001B[43mkwds\u001B[49m\u001B[43m)\u001B[49m\n\u001B[1;32m    613\u001B[0m \u001B[38;5;28;01mif\u001B[39;00m chunksize \u001B[38;5;129;01mor\u001B[39;00m iterator:\n",
      "File \u001B[0;32m~/Documents/GitHub/ECOPY_23241/venv/lib/python3.10/site-packages/pandas/io/parsers/readers.py:1448\u001B[0m, in \u001B[0;36mTextFileReader.__init__\u001B[0;34m(self, f, engine, **kwds)\u001B[0m\n\u001B[1;32m   1447\u001B[0m \u001B[38;5;28mself\u001B[39m\u001B[38;5;241m.\u001B[39mhandles: IOHandles \u001B[38;5;241m|\u001B[39m \u001B[38;5;28;01mNone\u001B[39;00m \u001B[38;5;241m=\u001B[39m \u001B[38;5;28;01mNone\u001B[39;00m\n\u001B[0;32m-> 1448\u001B[0m \u001B[38;5;28mself\u001B[39m\u001B[38;5;241m.\u001B[39m_engine \u001B[38;5;241m=\u001B[39m \u001B[38;5;28;43mself\u001B[39;49m\u001B[38;5;241;43m.\u001B[39;49m\u001B[43m_make_engine\u001B[49m\u001B[43m(\u001B[49m\u001B[43mf\u001B[49m\u001B[43m,\u001B[49m\u001B[43m \u001B[49m\u001B[38;5;28;43mself\u001B[39;49m\u001B[38;5;241;43m.\u001B[39;49m\u001B[43mengine\u001B[49m\u001B[43m)\u001B[49m\n",
      "File \u001B[0;32m~/Documents/GitHub/ECOPY_23241/venv/lib/python3.10/site-packages/pandas/io/parsers/readers.py:1705\u001B[0m, in \u001B[0;36mTextFileReader._make_engine\u001B[0;34m(self, f, engine)\u001B[0m\n\u001B[1;32m   1704\u001B[0m         mode \u001B[38;5;241m+\u001B[39m\u001B[38;5;241m=\u001B[39m \u001B[38;5;124m\"\u001B[39m\u001B[38;5;124mb\u001B[39m\u001B[38;5;124m\"\u001B[39m\n\u001B[0;32m-> 1705\u001B[0m \u001B[38;5;28mself\u001B[39m\u001B[38;5;241m.\u001B[39mhandles \u001B[38;5;241m=\u001B[39m \u001B[43mget_handle\u001B[49m\u001B[43m(\u001B[49m\n\u001B[1;32m   1706\u001B[0m \u001B[43m    \u001B[49m\u001B[43mf\u001B[49m\u001B[43m,\u001B[49m\n\u001B[1;32m   1707\u001B[0m \u001B[43m    \u001B[49m\u001B[43mmode\u001B[49m\u001B[43m,\u001B[49m\n\u001B[1;32m   1708\u001B[0m \u001B[43m    \u001B[49m\u001B[43mencoding\u001B[49m\u001B[38;5;241;43m=\u001B[39;49m\u001B[38;5;28;43mself\u001B[39;49m\u001B[38;5;241;43m.\u001B[39;49m\u001B[43moptions\u001B[49m\u001B[38;5;241;43m.\u001B[39;49m\u001B[43mget\u001B[49m\u001B[43m(\u001B[49m\u001B[38;5;124;43m\"\u001B[39;49m\u001B[38;5;124;43mencoding\u001B[39;49m\u001B[38;5;124;43m\"\u001B[39;49m\u001B[43m,\u001B[49m\u001B[43m \u001B[49m\u001B[38;5;28;43;01mNone\u001B[39;49;00m\u001B[43m)\u001B[49m\u001B[43m,\u001B[49m\n\u001B[1;32m   1709\u001B[0m \u001B[43m    \u001B[49m\u001B[43mcompression\u001B[49m\u001B[38;5;241;43m=\u001B[39;49m\u001B[38;5;28;43mself\u001B[39;49m\u001B[38;5;241;43m.\u001B[39;49m\u001B[43moptions\u001B[49m\u001B[38;5;241;43m.\u001B[39;49m\u001B[43mget\u001B[49m\u001B[43m(\u001B[49m\u001B[38;5;124;43m\"\u001B[39;49m\u001B[38;5;124;43mcompression\u001B[39;49m\u001B[38;5;124;43m\"\u001B[39;49m\u001B[43m,\u001B[49m\u001B[43m \u001B[49m\u001B[38;5;28;43;01mNone\u001B[39;49;00m\u001B[43m)\u001B[49m\u001B[43m,\u001B[49m\n\u001B[1;32m   1710\u001B[0m \u001B[43m    \u001B[49m\u001B[43mmemory_map\u001B[49m\u001B[38;5;241;43m=\u001B[39;49m\u001B[38;5;28;43mself\u001B[39;49m\u001B[38;5;241;43m.\u001B[39;49m\u001B[43moptions\u001B[49m\u001B[38;5;241;43m.\u001B[39;49m\u001B[43mget\u001B[49m\u001B[43m(\u001B[49m\u001B[38;5;124;43m\"\u001B[39;49m\u001B[38;5;124;43mmemory_map\u001B[39;49m\u001B[38;5;124;43m\"\u001B[39;49m\u001B[43m,\u001B[49m\u001B[43m \u001B[49m\u001B[38;5;28;43;01mFalse\u001B[39;49;00m\u001B[43m)\u001B[49m\u001B[43m,\u001B[49m\n\u001B[1;32m   1711\u001B[0m \u001B[43m    \u001B[49m\u001B[43mis_text\u001B[49m\u001B[38;5;241;43m=\u001B[39;49m\u001B[43mis_text\u001B[49m\u001B[43m,\u001B[49m\n\u001B[1;32m   1712\u001B[0m \u001B[43m    \u001B[49m\u001B[43merrors\u001B[49m\u001B[38;5;241;43m=\u001B[39;49m\u001B[38;5;28;43mself\u001B[39;49m\u001B[38;5;241;43m.\u001B[39;49m\u001B[43moptions\u001B[49m\u001B[38;5;241;43m.\u001B[39;49m\u001B[43mget\u001B[49m\u001B[43m(\u001B[49m\u001B[38;5;124;43m\"\u001B[39;49m\u001B[38;5;124;43mencoding_errors\u001B[39;49m\u001B[38;5;124;43m\"\u001B[39;49m\u001B[43m,\u001B[49m\u001B[43m \u001B[49m\u001B[38;5;124;43m\"\u001B[39;49m\u001B[38;5;124;43mstrict\u001B[39;49m\u001B[38;5;124;43m\"\u001B[39;49m\u001B[43m)\u001B[49m\u001B[43m,\u001B[49m\n\u001B[1;32m   1713\u001B[0m \u001B[43m    \u001B[49m\u001B[43mstorage_options\u001B[49m\u001B[38;5;241;43m=\u001B[39;49m\u001B[38;5;28;43mself\u001B[39;49m\u001B[38;5;241;43m.\u001B[39;49m\u001B[43moptions\u001B[49m\u001B[38;5;241;43m.\u001B[39;49m\u001B[43mget\u001B[49m\u001B[43m(\u001B[49m\u001B[38;5;124;43m\"\u001B[39;49m\u001B[38;5;124;43mstorage_options\u001B[39;49m\u001B[38;5;124;43m\"\u001B[39;49m\u001B[43m,\u001B[49m\u001B[43m \u001B[49m\u001B[38;5;28;43;01mNone\u001B[39;49;00m\u001B[43m)\u001B[49m\u001B[43m,\u001B[49m\n\u001B[1;32m   1714\u001B[0m \u001B[43m\u001B[49m\u001B[43m)\u001B[49m\n\u001B[1;32m   1715\u001B[0m \u001B[38;5;28;01massert\u001B[39;00m \u001B[38;5;28mself\u001B[39m\u001B[38;5;241m.\u001B[39mhandles \u001B[38;5;129;01mis\u001B[39;00m \u001B[38;5;129;01mnot\u001B[39;00m \u001B[38;5;28;01mNone\u001B[39;00m\n",
      "File \u001B[0;32m~/Documents/GitHub/ECOPY_23241/venv/lib/python3.10/site-packages/pandas/io/common.py:863\u001B[0m, in \u001B[0;36mget_handle\u001B[0;34m(path_or_buf, mode, encoding, compression, memory_map, is_text, errors, storage_options)\u001B[0m\n\u001B[1;32m    861\u001B[0m \u001B[38;5;28;01mif\u001B[39;00m ioargs\u001B[38;5;241m.\u001B[39mencoding \u001B[38;5;129;01mand\u001B[39;00m \u001B[38;5;124m\"\u001B[39m\u001B[38;5;124mb\u001B[39m\u001B[38;5;124m\"\u001B[39m \u001B[38;5;129;01mnot\u001B[39;00m \u001B[38;5;129;01min\u001B[39;00m ioargs\u001B[38;5;241m.\u001B[39mmode:\n\u001B[1;32m    862\u001B[0m     \u001B[38;5;66;03m# Encoding\u001B[39;00m\n\u001B[0;32m--> 863\u001B[0m     handle \u001B[38;5;241m=\u001B[39m \u001B[38;5;28;43mopen\u001B[39;49m\u001B[43m(\u001B[49m\n\u001B[1;32m    864\u001B[0m \u001B[43m        \u001B[49m\u001B[43mhandle\u001B[49m\u001B[43m,\u001B[49m\n\u001B[1;32m    865\u001B[0m \u001B[43m        \u001B[49m\u001B[43mioargs\u001B[49m\u001B[38;5;241;43m.\u001B[39;49m\u001B[43mmode\u001B[49m\u001B[43m,\u001B[49m\n\u001B[1;32m    866\u001B[0m \u001B[43m        \u001B[49m\u001B[43mencoding\u001B[49m\u001B[38;5;241;43m=\u001B[39;49m\u001B[43mioargs\u001B[49m\u001B[38;5;241;43m.\u001B[39;49m\u001B[43mencoding\u001B[49m\u001B[43m,\u001B[49m\n\u001B[1;32m    867\u001B[0m \u001B[43m        \u001B[49m\u001B[43merrors\u001B[49m\u001B[38;5;241;43m=\u001B[39;49m\u001B[43merrors\u001B[49m\u001B[43m,\u001B[49m\n\u001B[1;32m    868\u001B[0m \u001B[43m        \u001B[49m\u001B[43mnewline\u001B[49m\u001B[38;5;241;43m=\u001B[39;49m\u001B[38;5;124;43m\"\u001B[39;49m\u001B[38;5;124;43m\"\u001B[39;49m\u001B[43m,\u001B[49m\n\u001B[1;32m    869\u001B[0m \u001B[43m    \u001B[49m\u001B[43m)\u001B[49m\n\u001B[1;32m    870\u001B[0m \u001B[38;5;28;01melse\u001B[39;00m:\n\u001B[1;32m    871\u001B[0m     \u001B[38;5;66;03m# Binary mode\u001B[39;00m\n",
      "\u001B[0;31mFileNotFoundError\u001B[0m: [Errno 2] No such file or directory: 'data/StudentsPerformance.csv'",
      "\nDuring handling of the above exception, another exception occurred:\n",
      "\u001B[0;31mValueError\u001B[0m                                Traceback (most recent call last)",
      "Cell \u001B[0;32mIn[16], line 13\u001B[0m\n\u001B[1;32m      9\u001B[0m         \u001B[38;5;28;01mraise\u001B[39;00m \u001B[38;5;167;01mValueError\u001B[39;00m(\u001B[38;5;124mf\u001B[39m\u001B[38;5;124m\"\u001B[39m\u001B[38;5;124mHiba történt a CSV beolvasása közben: \u001B[39m\u001B[38;5;132;01m{\u001B[39;00m\u001B[38;5;28mstr\u001B[39m(e)\u001B[38;5;132;01m}\u001B[39;00m\u001B[38;5;124m\"\u001B[39m)\n\u001B[1;32m     11\u001B[0m input_csv \u001B[38;5;241m=\u001B[39m \u001B[38;5;124m\"\u001B[39m\u001B[38;5;124mdata/StudentsPerformance.csv\u001B[39m\u001B[38;5;124m\"\u001B[39m\n\u001B[0;32m---> 13\u001B[0m df_data \u001B[38;5;241m=\u001B[39m \u001B[43mcsv_to_df\u001B[49m\u001B[43m(\u001B[49m\u001B[43minput_csv\u001B[49m\u001B[43m)\u001B[49m\n",
      "Cell \u001B[0;32mIn[16], line 9\u001B[0m, in \u001B[0;36mcsv_to_df\u001B[0;34m(input_csv)\u001B[0m\n\u001B[1;32m      7\u001B[0m     \u001B[38;5;28;01mreturn\u001B[39;00m df_data\n\u001B[1;32m      8\u001B[0m \u001B[38;5;28;01mexcept\u001B[39;00m \u001B[38;5;167;01mException\u001B[39;00m \u001B[38;5;28;01mas\u001B[39;00m e:\n\u001B[0;32m----> 9\u001B[0m     \u001B[38;5;28;01mraise\u001B[39;00m \u001B[38;5;167;01mValueError\u001B[39;00m(\u001B[38;5;124mf\u001B[39m\u001B[38;5;124m\"\u001B[39m\u001B[38;5;124mHiba történt a CSV beolvasása közben: \u001B[39m\u001B[38;5;132;01m{\u001B[39;00m\u001B[38;5;28mstr\u001B[39m(e)\u001B[38;5;132;01m}\u001B[39;00m\u001B[38;5;124m\"\u001B[39m)\n",
      "\u001B[0;31mValueError\u001B[0m: Hiba történt a CSV beolvasása közben: [Errno 2] No such file or directory: 'data/StudentsPerformance.csv'"
     ]
    }
   ],
   "source": [
    "import pandas as pd\n",
    "\n",
    "def csv_to_df(input_csv):\n",
    " \n",
    "    try:\n",
    "        df_data = pd.read_csv(input_csv)\n",
    "        return df_data\n",
    "    except Exception as e:\n",
    "        raise ValueError(f\"Hiba történt a CSV beolvasása közben: {str(e)}\")\n",
    "\n",
    "input_csv = \"data/StudentsPerformance.csv\"\n",
    "\n",
    "df_data = csv_to_df(input_csv)\n"
   ],
   "metadata": {
    "collapsed": false,
    "ExecuteTime": {
     "end_time": "2023-10-08T15:56:17.675144Z",
     "start_time": "2023-10-08T15:56:17.471576Z"
    }
   },
   "id": "1d04a181edfa53f4"
  },
  {
   "cell_type": "code",
   "execution_count": null,
   "outputs": [],
   "source": [
    "'''\n",
    "2., Készíts egy függvényt, ami egy DataFrame-et vár paraméterként,\n",
    "és átalakítja azoknak az oszlopoknak a nevét nagybetűsre amelyiknek neve nem tartalmaz 'e' betüt.\n",
    "\n",
    "függvény bemente: input_df\n",
    "Egy példa a kimenetre: df_data_capitalized\n",
    "kimeneti típus: pandas.core.frame.DataFrame\n",
    "függvény neve: capitalize_columns\n",
    "'''"
   ],
   "metadata": {
    "collapsed": false
   },
   "id": "50bad24fd8a4e367"
  },
  {
   "cell_type": "code",
   "execution_count": 18,
   "outputs": [
    {
     "ename": "AttributeError",
     "evalue": "'dict' object has no attribute 'columns'",
     "output_type": "error",
     "traceback": [
      "\u001B[0;31m---------------------------------------------------------------------------\u001B[0m",
      "\u001B[0;31mAttributeError\u001B[0m                            Traceback (most recent call last)",
      "Cell \u001B[0;32mIn[18], line 18\u001B[0m\n\u001B[1;32m     11\u001B[0m stats \u001B[38;5;241m=\u001B[39m {\u001B[38;5;124m\"\u001B[39m\u001B[38;5;124mcountry\u001B[39m\u001B[38;5;124m\"\u001B[39m: [\u001B[38;5;124m\"\u001B[39m\u001B[38;5;124mBrazil\u001B[39m\u001B[38;5;124m\"\u001B[39m, \u001B[38;5;124m\"\u001B[39m\u001B[38;5;124mRussia\u001B[39m\u001B[38;5;124m\"\u001B[39m, \u001B[38;5;124m\"\u001B[39m\u001B[38;5;124mIndia\u001B[39m\u001B[38;5;124m\"\u001B[39m, \u001B[38;5;124m\"\u001B[39m\u001B[38;5;124mChina\u001B[39m\u001B[38;5;124m\"\u001B[39m, \u001B[38;5;124m\"\u001B[39m\u001B[38;5;124mSouth Africa\u001B[39m\u001B[38;5;124m\"\u001B[39m],\n\u001B[1;32m     12\u001B[0m        \u001B[38;5;124m\"\u001B[39m\u001B[38;5;124mcapital\u001B[39m\u001B[38;5;124m\"\u001B[39m: [\u001B[38;5;124m\"\u001B[39m\u001B[38;5;124mBrasilia\u001B[39m\u001B[38;5;124m\"\u001B[39m, \u001B[38;5;124m\"\u001B[39m\u001B[38;5;124mMoscow\u001B[39m\u001B[38;5;124m\"\u001B[39m, \u001B[38;5;124m\"\u001B[39m\u001B[38;5;124mNew Dehli\u001B[39m\u001B[38;5;124m\"\u001B[39m, \u001B[38;5;124m\"\u001B[39m\u001B[38;5;124mBeijing\u001B[39m\u001B[38;5;124m\"\u001B[39m, \u001B[38;5;124m\"\u001B[39m\u001B[38;5;124mPretoria\u001B[39m\u001B[38;5;124m\"\u001B[39m],\n\u001B[1;32m     13\u001B[0m        \u001B[38;5;124m\"\u001B[39m\u001B[38;5;124marea\u001B[39m\u001B[38;5;124m\"\u001B[39m: [\u001B[38;5;241m8.516\u001B[39m, \u001B[38;5;241m17.10\u001B[39m, \u001B[38;5;241m3.286\u001B[39m, \u001B[38;5;241m9.597\u001B[39m, \u001B[38;5;241m1.221\u001B[39m],\n\u001B[1;32m     14\u001B[0m        \u001B[38;5;124m\"\u001B[39m\u001B[38;5;124mpopulation\u001B[39m\u001B[38;5;124m\"\u001B[39m: [\u001B[38;5;241m200.4\u001B[39m, \u001B[38;5;241m143.5\u001B[39m, \u001B[38;5;241m1252\u001B[39m, \u001B[38;5;241m1357\u001B[39m, \u001B[38;5;241m52.98\u001B[39m] }\n\u001B[1;32m     16\u001B[0m input_df \u001B[38;5;241m=\u001B[39m stats\n\u001B[0;32m---> 18\u001B[0m df_data_capitalized \u001B[38;5;241m=\u001B[39m \u001B[43mcapitalize_columns\u001B[49m\u001B[43m(\u001B[49m\u001B[43minput_df\u001B[49m\u001B[43m)\u001B[49m\n",
      "Cell \u001B[0;32mIn[18], line 4\u001B[0m, in \u001B[0;36mcapitalize_columns\u001B[0;34m(input_df)\u001B[0m\n\u001B[1;32m      3\u001B[0m \u001B[38;5;28;01mdef\u001B[39;00m \u001B[38;5;21mcapitalize_columns\u001B[39m(input_df):\n\u001B[0;32m----> 4\u001B[0m     transformed_columns \u001B[38;5;241m=\u001B[39m [col\u001B[38;5;241m.\u001B[39mupper() \u001B[38;5;28;01mif\u001B[39;00m \u001B[38;5;124m'\u001B[39m\u001B[38;5;124me\u001B[39m\u001B[38;5;124m'\u001B[39m \u001B[38;5;129;01mnot\u001B[39;00m \u001B[38;5;129;01min\u001B[39;00m col\u001B[38;5;241m.\u001B[39mlower() \u001B[38;5;28;01melse\u001B[39;00m col \u001B[38;5;28;01mfor\u001B[39;00m col \u001B[38;5;129;01min\u001B[39;00m \u001B[43minput_df\u001B[49m\u001B[38;5;241;43m.\u001B[39;49m\u001B[43mcolumns\u001B[49m]\n\u001B[1;32m      6\u001B[0m     df_data_capitalized \u001B[38;5;241m=\u001B[39m input_df\u001B[38;5;241m.\u001B[39mcopy()\n\u001B[1;32m      7\u001B[0m     df_data_capitalized\u001B[38;5;241m.\u001B[39mcolumns \u001B[38;5;241m=\u001B[39m transformed_columns\n",
      "\u001B[0;31mAttributeError\u001B[0m: 'dict' object has no attribute 'columns'"
     ]
    }
   ],
   "source": [
    "import pandas as pd\n",
    "\n",
    "def capitalize_columns(input_df):\n",
    "    transformed_columns = [col.upper() if 'e' not in col.lower() else col for col in input_df.columns]\n",
    "    \n",
    "    df_data_capitalized = input_df.copy()\n",
    "    df_data_capitalized.columns = transformed_columns\n",
    "    \n",
    "    return df_data_capitalized\n",
    "\n",
    "input_df = stats\n",
    "\n",
    "df_data_capitalized = capitalize_columns(input_df)\n"
   ],
   "metadata": {
    "collapsed": false,
    "ExecuteTime": {
     "end_time": "2023-10-08T15:58:34.276434Z",
     "start_time": "2023-10-08T15:58:34.144956Z"
    }
   },
   "id": "80755498f856534d"
  },
  {
   "cell_type": "code",
   "execution_count": null,
   "outputs": [],
   "source": [
    "'''\n",
    "3., Készíts egy függvényt, ahol egy szám formájában vissza adjuk, hogy hány darab diáknak sikerült teljesíteni a matek vizsgát.\n",
    "(legyen az átmenő ponthatár 50).\n",
    "\n",
    "függvény bemente: input_df\n",
    "Egy példa a kimenetre: 5\n",
    "kimeneti típus: int\n",
    "függvény neve: math_passed_count\n",
    "'''"
   ],
   "metadata": {
    "collapsed": false
   },
   "id": "2fb19f87d648ce3e"
  },
  {
   "cell_type": "code",
   "execution_count": 21,
   "outputs": [
    {
     "ename": "TypeError",
     "evalue": "string indices must be integers",
     "output_type": "error",
     "traceback": [
      "\u001B[0;31m---------------------------------------------------------------------------\u001B[0m",
      "\u001B[0;31mTypeError\u001B[0m                                 Traceback (most recent call last)",
      "Cell \u001B[0;32mIn[21], line 11\u001B[0m\n\u001B[1;32m      7\u001B[0m     \u001B[38;5;28;01mreturn\u001B[39;00m passed_count\n\u001B[1;32m      9\u001B[0m input_df \u001B[38;5;241m=\u001B[39m \u001B[38;5;124m\"\u001B[39m\u001B[38;5;124mdata/StudentsPerformance.csv\u001B[39m\u001B[38;5;124m\"\u001B[39m\n\u001B[0;32m---> 11\u001B[0m math_passed \u001B[38;5;241m=\u001B[39m \u001B[43mmath_passed_count\u001B[49m\u001B[43m(\u001B[49m\u001B[43minput_df\u001B[49m\u001B[43m)\u001B[49m\n\u001B[1;32m     13\u001B[0m \u001B[38;5;28mprint\u001B[39m(math_passed)\n",
      "Cell \u001B[0;32mIn[21], line 5\u001B[0m, in \u001B[0;36mmath_passed_count\u001B[0;34m(input_df)\u001B[0m\n\u001B[1;32m      3\u001B[0m \u001B[38;5;28;01mdef\u001B[39;00m \u001B[38;5;21mmath_passed_count\u001B[39m(input_df):\n\u001B[0;32m----> 5\u001B[0m     passed_count \u001B[38;5;241m=\u001B[39m \u001B[38;5;28mlen\u001B[39m(input_df[\u001B[43minput_df\u001B[49m\u001B[43m[\u001B[49m\u001B[38;5;124;43m'\u001B[39;49m\u001B[38;5;124;43mmath score\u001B[39;49m\u001B[38;5;124;43m'\u001B[39;49m\u001B[43m]\u001B[49m \u001B[38;5;241m>\u001B[39m\u001B[38;5;241m=\u001B[39m \u001B[38;5;241m50\u001B[39m])\n\u001B[1;32m      7\u001B[0m     \u001B[38;5;28;01mreturn\u001B[39;00m passed_count\n",
      "\u001B[0;31mTypeError\u001B[0m: string indices must be integers"
     ]
    }
   ],
   "source": [
    "import pandas as pd\n",
    "\n",
    "def math_passed_count(input_df):\n",
    "    \n",
    "    passed_count = len(input_df[input_df['math score'] >= 50])\n",
    "\n",
    "    return passed_count\n",
    "\n",
    "input_df = \"data/StudentsPerformance.csv\"\n",
    "\n",
    "math_passed = math_passed_count(input_df)\n",
    "\n",
    "print(math_passed)\n"
   ],
   "metadata": {
    "collapsed": false,
    "ExecuteTime": {
     "end_time": "2023-10-08T16:04:27.855961Z",
     "start_time": "2023-10-08T16:04:27.259911Z"
    }
   },
   "id": "6bc99c2dcf0133df"
  },
  {
   "cell_type": "code",
   "execution_count": null,
   "outputs": [],
   "source": [
    "'''\n",
    "4., Készíts egy függvényt, ahol Dataframe ként vissza adjuk azoknak a diákoknak az adatait (sorokat), akik végeztek előzetes gyakorló kurzust.\n",
    "\n",
    "függvény bemente: input_df\n",
    "Egy példa a kimenetre: df_did_pre_course\n",
    "kimeneti típus: pandas.core.frame.DataFrame\n",
    "függvény neve: did_pre_course\n",
    "'''"
   ],
   "metadata": {
    "collapsed": false
   },
   "id": "700e17cde1e8c093"
  },
  {
   "cell_type": "code",
   "execution_count": 23,
   "outputs": [
    {
     "ename": "FileNotFoundError",
     "evalue": "[Errno 2] No such file or directory: 'StudentsPerformance.csv'",
     "output_type": "error",
     "traceback": [
      "\u001B[0;31m---------------------------------------------------------------------------\u001B[0m",
      "\u001B[0;31mFileNotFoundError\u001B[0m                         Traceback (most recent call last)",
      "Cell \u001B[0;32mIn[23], line 9\u001B[0m\n\u001B[1;32m      5\u001B[0m     pre_course_students \u001B[38;5;241m=\u001B[39m input_df[input_df[\u001B[38;5;124m'\u001B[39m\u001B[38;5;124mtest preparation course\u001B[39m\u001B[38;5;124m'\u001B[39m] \u001B[38;5;241m==\u001B[39m \u001B[38;5;124m'\u001B[39m\u001B[38;5;124mcompleted\u001B[39m\u001B[38;5;124m'\u001B[39m]\n\u001B[1;32m      7\u001B[0m     \u001B[38;5;28;01mreturn\u001B[39;00m pre_course_students\n\u001B[0;32m----> 9\u001B[0m df \u001B[38;5;241m=\u001B[39m \u001B[43mpd\u001B[49m\u001B[38;5;241;43m.\u001B[39;49m\u001B[43mread_csv\u001B[49m\u001B[43m(\u001B[49m\u001B[38;5;124;43m\"\u001B[39;49m\u001B[38;5;124;43mStudentsPerformance.csv\u001B[39;49m\u001B[38;5;124;43m\"\u001B[39;49m\u001B[43m)\u001B[49m\n\u001B[1;32m     11\u001B[0m input_df \u001B[38;5;241m=\u001B[39m df_data\n\u001B[1;32m     13\u001B[0m df_did_pre_course \u001B[38;5;241m=\u001B[39m did_pre_course(input_df)\n",
      "File \u001B[0;32m~/Documents/GitHub/ECOPY_23241/venv/lib/python3.10/site-packages/pandas/io/parsers/readers.py:948\u001B[0m, in \u001B[0;36mread_csv\u001B[0;34m(filepath_or_buffer, sep, delimiter, header, names, index_col, usecols, dtype, engine, converters, true_values, false_values, skipinitialspace, skiprows, skipfooter, nrows, na_values, keep_default_na, na_filter, verbose, skip_blank_lines, parse_dates, infer_datetime_format, keep_date_col, date_parser, date_format, dayfirst, cache_dates, iterator, chunksize, compression, thousands, decimal, lineterminator, quotechar, quoting, doublequote, escapechar, comment, encoding, encoding_errors, dialect, on_bad_lines, delim_whitespace, low_memory, memory_map, float_precision, storage_options, dtype_backend)\u001B[0m\n\u001B[1;32m    935\u001B[0m kwds_defaults \u001B[38;5;241m=\u001B[39m _refine_defaults_read(\n\u001B[1;32m    936\u001B[0m     dialect,\n\u001B[1;32m    937\u001B[0m     delimiter,\n\u001B[0;32m   (...)\u001B[0m\n\u001B[1;32m    944\u001B[0m     dtype_backend\u001B[38;5;241m=\u001B[39mdtype_backend,\n\u001B[1;32m    945\u001B[0m )\n\u001B[1;32m    946\u001B[0m kwds\u001B[38;5;241m.\u001B[39mupdate(kwds_defaults)\n\u001B[0;32m--> 948\u001B[0m \u001B[38;5;28;01mreturn\u001B[39;00m \u001B[43m_read\u001B[49m\u001B[43m(\u001B[49m\u001B[43mfilepath_or_buffer\u001B[49m\u001B[43m,\u001B[49m\u001B[43m \u001B[49m\u001B[43mkwds\u001B[49m\u001B[43m)\u001B[49m\n",
      "File \u001B[0;32m~/Documents/GitHub/ECOPY_23241/venv/lib/python3.10/site-packages/pandas/io/parsers/readers.py:611\u001B[0m, in \u001B[0;36m_read\u001B[0;34m(filepath_or_buffer, kwds)\u001B[0m\n\u001B[1;32m    608\u001B[0m _validate_names(kwds\u001B[38;5;241m.\u001B[39mget(\u001B[38;5;124m\"\u001B[39m\u001B[38;5;124mnames\u001B[39m\u001B[38;5;124m\"\u001B[39m, \u001B[38;5;28;01mNone\u001B[39;00m))\n\u001B[1;32m    610\u001B[0m \u001B[38;5;66;03m# Create the parser.\u001B[39;00m\n\u001B[0;32m--> 611\u001B[0m parser \u001B[38;5;241m=\u001B[39m \u001B[43mTextFileReader\u001B[49m\u001B[43m(\u001B[49m\u001B[43mfilepath_or_buffer\u001B[49m\u001B[43m,\u001B[49m\u001B[43m \u001B[49m\u001B[38;5;241;43m*\u001B[39;49m\u001B[38;5;241;43m*\u001B[39;49m\u001B[43mkwds\u001B[49m\u001B[43m)\u001B[49m\n\u001B[1;32m    613\u001B[0m \u001B[38;5;28;01mif\u001B[39;00m chunksize \u001B[38;5;129;01mor\u001B[39;00m iterator:\n\u001B[1;32m    614\u001B[0m     \u001B[38;5;28;01mreturn\u001B[39;00m parser\n",
      "File \u001B[0;32m~/Documents/GitHub/ECOPY_23241/venv/lib/python3.10/site-packages/pandas/io/parsers/readers.py:1448\u001B[0m, in \u001B[0;36mTextFileReader.__init__\u001B[0;34m(self, f, engine, **kwds)\u001B[0m\n\u001B[1;32m   1445\u001B[0m     \u001B[38;5;28mself\u001B[39m\u001B[38;5;241m.\u001B[39moptions[\u001B[38;5;124m\"\u001B[39m\u001B[38;5;124mhas_index_names\u001B[39m\u001B[38;5;124m\"\u001B[39m] \u001B[38;5;241m=\u001B[39m kwds[\u001B[38;5;124m\"\u001B[39m\u001B[38;5;124mhas_index_names\u001B[39m\u001B[38;5;124m\"\u001B[39m]\n\u001B[1;32m   1447\u001B[0m \u001B[38;5;28mself\u001B[39m\u001B[38;5;241m.\u001B[39mhandles: IOHandles \u001B[38;5;241m|\u001B[39m \u001B[38;5;28;01mNone\u001B[39;00m \u001B[38;5;241m=\u001B[39m \u001B[38;5;28;01mNone\u001B[39;00m\n\u001B[0;32m-> 1448\u001B[0m \u001B[38;5;28mself\u001B[39m\u001B[38;5;241m.\u001B[39m_engine \u001B[38;5;241m=\u001B[39m \u001B[38;5;28;43mself\u001B[39;49m\u001B[38;5;241;43m.\u001B[39;49m\u001B[43m_make_engine\u001B[49m\u001B[43m(\u001B[49m\u001B[43mf\u001B[49m\u001B[43m,\u001B[49m\u001B[43m \u001B[49m\u001B[38;5;28;43mself\u001B[39;49m\u001B[38;5;241;43m.\u001B[39;49m\u001B[43mengine\u001B[49m\u001B[43m)\u001B[49m\n",
      "File \u001B[0;32m~/Documents/GitHub/ECOPY_23241/venv/lib/python3.10/site-packages/pandas/io/parsers/readers.py:1705\u001B[0m, in \u001B[0;36mTextFileReader._make_engine\u001B[0;34m(self, f, engine)\u001B[0m\n\u001B[1;32m   1703\u001B[0m     \u001B[38;5;28;01mif\u001B[39;00m \u001B[38;5;124m\"\u001B[39m\u001B[38;5;124mb\u001B[39m\u001B[38;5;124m\"\u001B[39m \u001B[38;5;129;01mnot\u001B[39;00m \u001B[38;5;129;01min\u001B[39;00m mode:\n\u001B[1;32m   1704\u001B[0m         mode \u001B[38;5;241m+\u001B[39m\u001B[38;5;241m=\u001B[39m \u001B[38;5;124m\"\u001B[39m\u001B[38;5;124mb\u001B[39m\u001B[38;5;124m\"\u001B[39m\n\u001B[0;32m-> 1705\u001B[0m \u001B[38;5;28mself\u001B[39m\u001B[38;5;241m.\u001B[39mhandles \u001B[38;5;241m=\u001B[39m \u001B[43mget_handle\u001B[49m\u001B[43m(\u001B[49m\n\u001B[1;32m   1706\u001B[0m \u001B[43m    \u001B[49m\u001B[43mf\u001B[49m\u001B[43m,\u001B[49m\n\u001B[1;32m   1707\u001B[0m \u001B[43m    \u001B[49m\u001B[43mmode\u001B[49m\u001B[43m,\u001B[49m\n\u001B[1;32m   1708\u001B[0m \u001B[43m    \u001B[49m\u001B[43mencoding\u001B[49m\u001B[38;5;241;43m=\u001B[39;49m\u001B[38;5;28;43mself\u001B[39;49m\u001B[38;5;241;43m.\u001B[39;49m\u001B[43moptions\u001B[49m\u001B[38;5;241;43m.\u001B[39;49m\u001B[43mget\u001B[49m\u001B[43m(\u001B[49m\u001B[38;5;124;43m\"\u001B[39;49m\u001B[38;5;124;43mencoding\u001B[39;49m\u001B[38;5;124;43m\"\u001B[39;49m\u001B[43m,\u001B[49m\u001B[43m \u001B[49m\u001B[38;5;28;43;01mNone\u001B[39;49;00m\u001B[43m)\u001B[49m\u001B[43m,\u001B[49m\n\u001B[1;32m   1709\u001B[0m \u001B[43m    \u001B[49m\u001B[43mcompression\u001B[49m\u001B[38;5;241;43m=\u001B[39;49m\u001B[38;5;28;43mself\u001B[39;49m\u001B[38;5;241;43m.\u001B[39;49m\u001B[43moptions\u001B[49m\u001B[38;5;241;43m.\u001B[39;49m\u001B[43mget\u001B[49m\u001B[43m(\u001B[49m\u001B[38;5;124;43m\"\u001B[39;49m\u001B[38;5;124;43mcompression\u001B[39;49m\u001B[38;5;124;43m\"\u001B[39;49m\u001B[43m,\u001B[49m\u001B[43m \u001B[49m\u001B[38;5;28;43;01mNone\u001B[39;49;00m\u001B[43m)\u001B[49m\u001B[43m,\u001B[49m\n\u001B[1;32m   1710\u001B[0m \u001B[43m    \u001B[49m\u001B[43mmemory_map\u001B[49m\u001B[38;5;241;43m=\u001B[39;49m\u001B[38;5;28;43mself\u001B[39;49m\u001B[38;5;241;43m.\u001B[39;49m\u001B[43moptions\u001B[49m\u001B[38;5;241;43m.\u001B[39;49m\u001B[43mget\u001B[49m\u001B[43m(\u001B[49m\u001B[38;5;124;43m\"\u001B[39;49m\u001B[38;5;124;43mmemory_map\u001B[39;49m\u001B[38;5;124;43m\"\u001B[39;49m\u001B[43m,\u001B[49m\u001B[43m \u001B[49m\u001B[38;5;28;43;01mFalse\u001B[39;49;00m\u001B[43m)\u001B[49m\u001B[43m,\u001B[49m\n\u001B[1;32m   1711\u001B[0m \u001B[43m    \u001B[49m\u001B[43mis_text\u001B[49m\u001B[38;5;241;43m=\u001B[39;49m\u001B[43mis_text\u001B[49m\u001B[43m,\u001B[49m\n\u001B[1;32m   1712\u001B[0m \u001B[43m    \u001B[49m\u001B[43merrors\u001B[49m\u001B[38;5;241;43m=\u001B[39;49m\u001B[38;5;28;43mself\u001B[39;49m\u001B[38;5;241;43m.\u001B[39;49m\u001B[43moptions\u001B[49m\u001B[38;5;241;43m.\u001B[39;49m\u001B[43mget\u001B[49m\u001B[43m(\u001B[49m\u001B[38;5;124;43m\"\u001B[39;49m\u001B[38;5;124;43mencoding_errors\u001B[39;49m\u001B[38;5;124;43m\"\u001B[39;49m\u001B[43m,\u001B[49m\u001B[43m \u001B[49m\u001B[38;5;124;43m\"\u001B[39;49m\u001B[38;5;124;43mstrict\u001B[39;49m\u001B[38;5;124;43m\"\u001B[39;49m\u001B[43m)\u001B[49m\u001B[43m,\u001B[49m\n\u001B[1;32m   1713\u001B[0m \u001B[43m    \u001B[49m\u001B[43mstorage_options\u001B[49m\u001B[38;5;241;43m=\u001B[39;49m\u001B[38;5;28;43mself\u001B[39;49m\u001B[38;5;241;43m.\u001B[39;49m\u001B[43moptions\u001B[49m\u001B[38;5;241;43m.\u001B[39;49m\u001B[43mget\u001B[49m\u001B[43m(\u001B[49m\u001B[38;5;124;43m\"\u001B[39;49m\u001B[38;5;124;43mstorage_options\u001B[39;49m\u001B[38;5;124;43m\"\u001B[39;49m\u001B[43m,\u001B[49m\u001B[43m \u001B[49m\u001B[38;5;28;43;01mNone\u001B[39;49;00m\u001B[43m)\u001B[49m\u001B[43m,\u001B[49m\n\u001B[1;32m   1714\u001B[0m \u001B[43m\u001B[49m\u001B[43m)\u001B[49m\n\u001B[1;32m   1715\u001B[0m \u001B[38;5;28;01massert\u001B[39;00m \u001B[38;5;28mself\u001B[39m\u001B[38;5;241m.\u001B[39mhandles \u001B[38;5;129;01mis\u001B[39;00m \u001B[38;5;129;01mnot\u001B[39;00m \u001B[38;5;28;01mNone\u001B[39;00m\n\u001B[1;32m   1716\u001B[0m f \u001B[38;5;241m=\u001B[39m \u001B[38;5;28mself\u001B[39m\u001B[38;5;241m.\u001B[39mhandles\u001B[38;5;241m.\u001B[39mhandle\n",
      "File \u001B[0;32m~/Documents/GitHub/ECOPY_23241/venv/lib/python3.10/site-packages/pandas/io/common.py:863\u001B[0m, in \u001B[0;36mget_handle\u001B[0;34m(path_or_buf, mode, encoding, compression, memory_map, is_text, errors, storage_options)\u001B[0m\n\u001B[1;32m    858\u001B[0m \u001B[38;5;28;01melif\u001B[39;00m \u001B[38;5;28misinstance\u001B[39m(handle, \u001B[38;5;28mstr\u001B[39m):\n\u001B[1;32m    859\u001B[0m     \u001B[38;5;66;03m# Check whether the filename is to be opened in binary mode.\u001B[39;00m\n\u001B[1;32m    860\u001B[0m     \u001B[38;5;66;03m# Binary mode does not support 'encoding' and 'newline'.\u001B[39;00m\n\u001B[1;32m    861\u001B[0m     \u001B[38;5;28;01mif\u001B[39;00m ioargs\u001B[38;5;241m.\u001B[39mencoding \u001B[38;5;129;01mand\u001B[39;00m \u001B[38;5;124m\"\u001B[39m\u001B[38;5;124mb\u001B[39m\u001B[38;5;124m\"\u001B[39m \u001B[38;5;129;01mnot\u001B[39;00m \u001B[38;5;129;01min\u001B[39;00m ioargs\u001B[38;5;241m.\u001B[39mmode:\n\u001B[1;32m    862\u001B[0m         \u001B[38;5;66;03m# Encoding\u001B[39;00m\n\u001B[0;32m--> 863\u001B[0m         handle \u001B[38;5;241m=\u001B[39m \u001B[38;5;28;43mopen\u001B[39;49m\u001B[43m(\u001B[49m\n\u001B[1;32m    864\u001B[0m \u001B[43m            \u001B[49m\u001B[43mhandle\u001B[49m\u001B[43m,\u001B[49m\n\u001B[1;32m    865\u001B[0m \u001B[43m            \u001B[49m\u001B[43mioargs\u001B[49m\u001B[38;5;241;43m.\u001B[39;49m\u001B[43mmode\u001B[49m\u001B[43m,\u001B[49m\n\u001B[1;32m    866\u001B[0m \u001B[43m            \u001B[49m\u001B[43mencoding\u001B[49m\u001B[38;5;241;43m=\u001B[39;49m\u001B[43mioargs\u001B[49m\u001B[38;5;241;43m.\u001B[39;49m\u001B[43mencoding\u001B[49m\u001B[43m,\u001B[49m\n\u001B[1;32m    867\u001B[0m \u001B[43m            \u001B[49m\u001B[43merrors\u001B[49m\u001B[38;5;241;43m=\u001B[39;49m\u001B[43merrors\u001B[49m\u001B[43m,\u001B[49m\n\u001B[1;32m    868\u001B[0m \u001B[43m            \u001B[49m\u001B[43mnewline\u001B[49m\u001B[38;5;241;43m=\u001B[39;49m\u001B[38;5;124;43m\"\u001B[39;49m\u001B[38;5;124;43m\"\u001B[39;49m\u001B[43m,\u001B[49m\n\u001B[1;32m    869\u001B[0m \u001B[43m        \u001B[49m\u001B[43m)\u001B[49m\n\u001B[1;32m    870\u001B[0m     \u001B[38;5;28;01melse\u001B[39;00m:\n\u001B[1;32m    871\u001B[0m         \u001B[38;5;66;03m# Binary mode\u001B[39;00m\n\u001B[1;32m    872\u001B[0m         handle \u001B[38;5;241m=\u001B[39m \u001B[38;5;28mopen\u001B[39m(handle, ioargs\u001B[38;5;241m.\u001B[39mmode)\n",
      "\u001B[0;31mFileNotFoundError\u001B[0m: [Errno 2] No such file or directory: 'StudentsPerformance.csv'"
     ]
    }
   ],
   "source": [
    "import pandas as pd\n",
    "\n",
    "def did_pre_course(input_df):\n",
    " \n",
    "    pre_course_students = input_df[input_df['test preparation course'] == 'completed']\n",
    "\n",
    "    return pre_course_students\n",
    "\n",
    "input_df = df_data\n",
    "\n",
    "df_did_pre_course = did_pre_course(input_df)\n"
   ],
   "metadata": {
    "collapsed": false,
    "ExecuteTime": {
     "end_time": "2023-10-08T16:13:06.298865Z",
     "start_time": "2023-10-08T16:13:06.006572Z"
    }
   },
   "id": "eead7c083358de29"
  },
  {
   "cell_type": "code",
   "execution_count": null,
   "outputs": [],
   "source": [
    "'''\n",
    "5., Készíts egy függvényt, ahol a bemeneti Dataframet a diákok szülei végzettségi szintjei alapján csoportosításra kerül,\n",
    "majd aggregációként vegyük, hogy átlagosan milyen pontszámot értek el a diákok a vizsgákon.\n",
    "\n",
    "függvény bemente: input_df\n",
    "Egy példa a kimenetre: df_average_scores\n",
    "kimeneti típus: pandas.core.frame.DataFrame\n",
    "függvény neve: average_scores\n",
    "'''"
   ],
   "metadata": {
    "collapsed": false
   },
   "id": "eb06e00175bdff7a"
  },
  {
   "cell_type": "code",
   "execution_count": null,
   "outputs": [],
   "source": [],
   "metadata": {
    "collapsed": false
   },
   "id": "3bc525fde8e39ee3"
  },
  {
   "cell_type": "code",
   "execution_count": null,
   "outputs": [],
   "source": [
    "'''\n",
    "6., Készíts egy függvényt, ami a bementeti Dataframet kiegészíti egy 'age' oszloppal, töltsük fel random 18-66 év közötti értékekkel.\n",
    "A random.randint() függvényt használd, a random sorsolás legyen seedleve, ennek értéke legyen 42.\n",
    "\n",
    "függvény bemente: input_df\n",
    "Egy példa a kimenetre: df_data_with_age\n",
    "kimeneti típus: pandas.core.frame.DataFrame\n",
    "függvény neve: add_age\n",
    "'''"
   ],
   "metadata": {
    "collapsed": false
   },
   "id": "63cf6881d83388a5"
  },
  {
   "cell_type": "code",
   "execution_count": 24,
   "outputs": [
    {
     "ename": "NameError",
     "evalue": "name 'df_data' is not defined",
     "output_type": "error",
     "traceback": [
      "\u001B[0;31m---------------------------------------------------------------------------\u001B[0m",
      "\u001B[0;31mNameError\u001B[0m                                 Traceback (most recent call last)",
      "Cell \u001B[0;32mIn[24], line 10\u001B[0m\n\u001B[1;32m      6\u001B[0m     grouped_df\u001B[38;5;241m.\u001B[39mrename(columns\u001B[38;5;241m=\u001B[39m{\u001B[38;5;124m'\u001B[39m\u001B[38;5;124mmath score\u001B[39m\u001B[38;5;124m'\u001B[39m: \u001B[38;5;124m'\u001B[39m\u001B[38;5;124maverage math score\u001B[39m\u001B[38;5;124m'\u001B[39m, \u001B[38;5;124m'\u001B[39m\u001B[38;5;124mreading score\u001B[39m\u001B[38;5;124m'\u001B[39m: \u001B[38;5;124m'\u001B[39m\u001B[38;5;124maverage reading score\u001B[39m\u001B[38;5;124m'\u001B[39m, \u001B[38;5;124m'\u001B[39m\u001B[38;5;124mwriting score\u001B[39m\u001B[38;5;124m'\u001B[39m: \u001B[38;5;124m'\u001B[39m\u001B[38;5;124maverage writing score\u001B[39m\u001B[38;5;124m'\u001B[39m}, inplace\u001B[38;5;241m=\u001B[39m\u001B[38;5;28;01mTrue\u001B[39;00m)\n\u001B[1;32m      8\u001B[0m     \u001B[38;5;28;01mreturn\u001B[39;00m grouped_df\n\u001B[0;32m---> 10\u001B[0m input_df \u001B[38;5;241m=\u001B[39m \u001B[43mdf_data\u001B[49m\n\u001B[1;32m     12\u001B[0m df_average_scores \u001B[38;5;241m=\u001B[39m average_scores(input_df)\n",
      "\u001B[0;31mNameError\u001B[0m: name 'df_data' is not defined"
     ]
    }
   ],
   "source": [
    "import pandas as pd\n",
    "\n",
    "def average_scores(input_df):\n",
    "    grouped_df = input_df.groupby('parental level of education').agg({'math score': 'mean', 'reading score': 'mean', 'writing score': 'mean'})\n",
    "\n",
    "    grouped_df.rename(columns={'math score': 'average math score', 'reading score': 'average reading score', 'writing score': 'average writing score'}, inplace=True)\n",
    "\n",
    "    return grouped_df\n",
    "\n",
    "input_df = df_data\n",
    "\n",
    "df_average_scores = average_scores(input_df)\n"
   ],
   "metadata": {
    "collapsed": false,
    "ExecuteTime": {
     "end_time": "2023-10-08T16:14:21.288555Z",
     "start_time": "2023-10-08T16:14:21.196126Z"
    }
   },
   "id": "ca6c5548fce90040"
  },
  {
   "cell_type": "code",
   "execution_count": null,
   "outputs": [],
   "source": [
    "'''\n",
    "7., Készíts egy függvényt, ami vissza adja a legjobb teljesítményt elérő női diák pontszámait.\n",
    "\n",
    "függvény bemente: input_df\n",
    "Egy példa a kimenetre: (99,99,99) #math score, reading score, writing score\n",
    "kimeneti típus: tuple\n",
    "függvény neve: female_top_score\n",
    "'''"
   ],
   "metadata": {
    "collapsed": false
   },
   "id": "8abd8545dbbc5dc3"
  },
  {
   "cell_type": "code",
   "execution_count": 25,
   "outputs": [
    {
     "ename": "NameError",
     "evalue": "name 'df_data' is not defined",
     "output_type": "error",
     "traceback": [
      "\u001B[0;31m---------------------------------------------------------------------------\u001B[0m",
      "\u001B[0;31mNameError\u001B[0m                                 Traceback (most recent call last)",
      "Cell \u001B[0;32mIn[25], line 13\u001B[0m\n\u001B[1;32m      9\u001B[0m     writing_score \u001B[38;5;241m=\u001B[39m top_female_student[\u001B[38;5;124m'\u001B[39m\u001B[38;5;124mwriting score\u001B[39m\u001B[38;5;124m'\u001B[39m]\n\u001B[1;32m     11\u001B[0m     \u001B[38;5;28;01mreturn\u001B[39;00m (math_score, reading_score, writing_score)\n\u001B[0;32m---> 13\u001B[0m input_df \u001B[38;5;241m=\u001B[39m \u001B[43mdf_data\u001B[49m\n\u001B[1;32m     15\u001B[0m top_scores \u001B[38;5;241m=\u001B[39m female_top_score(input_df)\n\u001B[1;32m     17\u001B[0m \u001B[38;5;28mprint\u001B[39m(top_scores)\n",
      "\u001B[0;31mNameError\u001B[0m: name 'df_data' is not defined"
     ]
    }
   ],
   "source": [
    "import pandas as pd\n",
    "\n",
    "def female_top_score(input_df):\n",
    "    female_students = input_df[input_df['gender'] == 'female']\n",
    "\n",
    "    top_female_student = female_students.loc[female_students['math score'].idxmax()]\n",
    "    math_score = top_female_student['math score']\n",
    "    reading_score = top_female_student['reading score']\n",
    "    writing_score = top_female_student['writing score']\n",
    "\n",
    "    return (math_score, reading_score, writing_score)\n",
    "\n",
    "input_df = df_data\n",
    "\n",
    "top_scores = female_top_score(input_df)\n",
    "\n",
    "print(top_scores)\n"
   ],
   "metadata": {
    "collapsed": false,
    "ExecuteTime": {
     "end_time": "2023-10-08T16:15:19.035687Z",
     "start_time": "2023-10-08T16:15:18.954688Z"
    }
   },
   "id": "32366b29ea96040c"
  },
  {
   "cell_type": "code",
   "execution_count": null,
   "outputs": [],
   "source": [
    "'''\n",
    "8., Készíts egy függvényt, ami a bementeti Dataframet kiegészíti egy 'grade' oszloppal. Számoljuk ki hogy a diákok hány százalékot ((math+reading+writing)/300) értek el a vizsgán, és osztályozzuk őket az alábbi szempontok szerint:\n",
    "\n",
    "90-100%: 5\n",
    "80-90%: 4\n",
    "66-80%: 3\n",
    "50-65%: 2\n",
    "<50%: 1\n",
    "\n",
    "függvény bemente: input_df\n",
    "Egy példa a kimenetre: df_data_with_grade\n",
    "kimeneti típus: pandas.core.frame.DataFrame\n",
    "függvény neve: add_grade\n",
    "'''"
   ],
   "metadata": {
    "collapsed": false
   },
   "id": "3ced4ddf7eaf869b"
  },
  {
   "cell_type": "code",
   "execution_count": 26,
   "outputs": [
    {
     "ename": "NameError",
     "evalue": "name 'df_data' is not defined",
     "output_type": "error",
     "traceback": [
      "\u001B[0;31m---------------------------------------------------------------------------\u001B[0m",
      "\u001B[0;31mNameError\u001B[0m                                 Traceback (most recent call last)",
      "Cell \u001B[0;32mIn[26], line 34\u001B[0m\n\u001B[1;32m     30\u001B[0m     input_df\u001B[38;5;241m.\u001B[39mdrop(columns\u001B[38;5;241m=\u001B[39m[\u001B[38;5;124m'\u001B[39m\u001B[38;5;124mpercentage\u001B[39m\u001B[38;5;124m'\u001B[39m], inplace\u001B[38;5;241m=\u001B[39m\u001B[38;5;28;01mTrue\u001B[39;00m)\n\u001B[1;32m     32\u001B[0m     \u001B[38;5;28;01mreturn\u001B[39;00m input_df\n\u001B[0;32m---> 34\u001B[0m input_df \u001B[38;5;241m=\u001B[39m \u001B[43mdf_data\u001B[49m\n\u001B[1;32m     36\u001B[0m df_data_with_grade \u001B[38;5;241m=\u001B[39m add_grade(input_df)\n",
      "\u001B[0;31mNameError\u001B[0m: name 'df_data' is not defined"
     ]
    }
   ],
   "source": [
    "import pandas as pd\n",
    "\n",
    "def calculate_grade(percentage):\n",
    "    \n",
    "    if percentage >= 90:\n",
    "        return 5\n",
    "    elif percentage >= 80:\n",
    "        return 4\n",
    "    elif percentage >= 66:\n",
    "        return 3\n",
    "    elif percentage >= 50:\n",
    "        return 2\n",
    "    else:\n",
    "        return 1\n",
    "\n",
    "def add_grade(input_df):\n",
    "   \n",
    "    input_df['percentage'] = (input_df['math score'] + input_df['reading score'] + input_df['writing score']) / 300 * 100\n",
    "\n",
    "    input_df['grade'] = input_df['percentage'].apply(calculate_grade)\n",
    "\n",
    "    input_df.drop(columns=['percentage'], inplace=True)\n",
    "\n",
    "    return input_df\n",
    "\n",
    "input_df = df_data\n",
    "\n",
    "df_data_with_grade = add_grade(input_df)\n"
   ],
   "metadata": {
    "collapsed": false,
    "ExecuteTime": {
     "end_time": "2023-10-08T16:16:44.914373Z",
     "start_time": "2023-10-08T16:16:44.789867Z"
    }
   },
   "id": "ecbbcc0de7943fa2"
  },
  {
   "cell_type": "code",
   "execution_count": null,
   "outputs": [],
   "source": [
    "'''\n",
    "9., Készíts egy függvényt, ami a bemeneti Dataframe adatai alapján elkészít egy olyan oszlop diagrammot, ami vizualizálja a nemek által elért átlagos matek pontszámot.\n",
    "\n",
    "Oszlopdiagram címe legyen: 'Average Math Score by Gender'\n",
    "Az x tengely címe legyen: 'Gender'\n",
    "Az y tengely címe legyen: 'Math Score'\n",
    "\n",
    "függvény bemente: input_df\n",
    "Egy példa a kimenetre: fig\n",
    "kimeneti típus: matplotlib.figure.Figure\n",
    "függvény neve: math_bar_plot\n",
    "'''"
   ],
   "metadata": {
    "collapsed": false
   },
   "id": "6838c17f0aa93f0a"
  },
  {
   "cell_type": "code",
   "execution_count": 27,
   "outputs": [
    {
     "ename": "NameError",
     "evalue": "name 'df_data_with_grade' is not defined",
     "output_type": "error",
     "traceback": [
      "\u001B[0;31m---------------------------------------------------------------------------\u001B[0m",
      "\u001B[0;31mNameError\u001B[0m                                 Traceback (most recent call last)",
      "Cell \u001B[0;32mIn[27], line 16\u001B[0m\n\u001B[1;32m     12\u001B[0m     ax\u001B[38;5;241m.\u001B[39mset_ylabel(\u001B[38;5;124m'\u001B[39m\u001B[38;5;124mMath Score\u001B[39m\u001B[38;5;124m'\u001B[39m)\n\u001B[1;32m     14\u001B[0m     \u001B[38;5;28;01mreturn\u001B[39;00m fig\n\u001B[0;32m---> 16\u001B[0m input_df \u001B[38;5;241m=\u001B[39m \u001B[43mdf_data_with_grade\u001B[49m\n\u001B[1;32m     18\u001B[0m fig \u001B[38;5;241m=\u001B[39m math_bar_plot(input_df)\n\u001B[1;32m     20\u001B[0m plt\u001B[38;5;241m.\u001B[39mshow()\n",
      "\u001B[0;31mNameError\u001B[0m: name 'df_data_with_grade' is not defined"
     ]
    }
   ],
   "source": [
    "import pandas as pd\n",
    "import matplotlib.pyplot as plt\n",
    "\n",
    "def math_bar_plot(input_df):\n",
    "\n",
    "    average_math_scores = input_df.groupby('gender')['math score'].mean()\n",
    "\n",
    "    fig, ax = plt.subplots()\n",
    "    average_math_scores.plot(kind='bar', ax=ax)\n",
    "    ax.set_title('Average Math Score by Gender')\n",
    "    ax.set_xlabel('Gender')\n",
    "    ax.set_ylabel('Math Score')\n",
    "\n",
    "    return fig\n",
    "\n",
    "input_df = df_data_with_grade\n",
    "\n",
    "fig = math_bar_plot(input_df)\n",
    "\n",
    "plt.show()\n"
   ],
   "metadata": {
    "collapsed": false,
    "ExecuteTime": {
     "end_time": "2023-10-08T16:18:26.496749Z",
     "start_time": "2023-10-08T16:18:26.389341Z"
    }
   },
   "id": "1a6993c7c280a77f"
  },
  {
   "cell_type": "code",
   "execution_count": null,
   "outputs": [],
   "source": [
    "''' \n",
    "10., Készíts egy függvényt, ami a bemeneti Dataframe adatai alapján elkészít egy olyan histogramot, ami vizualizálja az elért írásbeli pontszámokat.\n",
    "\n",
    "A histogram címe legyen: 'Distribution of Writing Scores'\n",
    "Az x tengely címe legyen: 'Writing Score'\n",
    "Az y tengely címe legyen: 'Number of Students'\n",
    "\n",
    "függvény bemente: input_df\n",
    "Egy példa a kimenetre: fig\n",
    "kimeneti típus: matplotlib.figure.Figure\n",
    "függvény neve: writing_hist\n",
    "'''"
   ],
   "metadata": {
    "collapsed": false
   },
   "id": "f1d4c22ce458336b"
  },
  {
   "cell_type": "code",
   "execution_count": 28,
   "outputs": [
    {
     "ename": "NameError",
     "evalue": "name 'df_data_with_grade' is not defined",
     "output_type": "error",
     "traceback": [
      "\u001B[0;31m---------------------------------------------------------------------------\u001B[0m",
      "\u001B[0;31mNameError\u001B[0m                                 Traceback (most recent call last)",
      "Cell \u001B[0;32mIn[28], line 14\u001B[0m\n\u001B[1;32m     10\u001B[0m     ax\u001B[38;5;241m.\u001B[39mset_ylabel(\u001B[38;5;124m'\u001B[39m\u001B[38;5;124mNumber of Students\u001B[39m\u001B[38;5;124m'\u001B[39m)\n\u001B[1;32m     12\u001B[0m     \u001B[38;5;28;01mreturn\u001B[39;00m fig\n\u001B[0;32m---> 14\u001B[0m input_df \u001B[38;5;241m=\u001B[39m \u001B[43mdf_data_with_grade\u001B[49m\n\u001B[1;32m     16\u001B[0m fig \u001B[38;5;241m=\u001B[39m writing_hist(input_df)\n\u001B[1;32m     18\u001B[0m plt\u001B[38;5;241m.\u001B[39mshow()\n",
      "\u001B[0;31mNameError\u001B[0m: name 'df_data_with_grade' is not defined"
     ]
    }
   ],
   "source": [
    "import pandas as pd\n",
    "import matplotlib.pyplot as plt\n",
    "\n",
    "def writing_hist(input_df):\n",
    "   \n",
    "    fig, ax = plt.subplots()\n",
    "    input_df['writing score'].plot(kind='hist', bins=10, edgecolor='black', ax=ax)\n",
    "    ax.set_title('Distribution of Writing Scores')\n",
    "    ax.set_xlabel('Writing Score')\n",
    "    ax.set_ylabel('Number of Students')\n",
    "\n",
    "    return fig\n",
    "\n",
    "input_df = df_data_with_grade\n",
    "\n",
    "fig = writing_hist(input_df)\n",
    "\n",
    "plt.show()\n"
   ],
   "metadata": {
    "collapsed": false,
    "ExecuteTime": {
     "end_time": "2023-10-08T16:19:29.748259Z",
     "start_time": "2023-10-08T16:19:29.622287Z"
    }
   },
   "id": "fa61d08952457b03"
  },
  {
   "cell_type": "code",
   "execution_count": null,
   "outputs": [],
   "source": [
    "''' \n",
    "11., Készíts egy függvényt, ami a bemeneti Dataframe adatai alapján elkészít egy olyan kördiagramot, ami vizualizálja a diákok etnikum csoportok szerinti eloszlását százalékosan.\n",
    "\n",
    "Érdemes megszámolni a diákok számát, etnikum csoportonként,majd a százalékos kirajzolást az autopct='%1.1f%%' paraméterrel megadható.\n",
    "Mindegyik kör szelethez tartozzon egy címke, ami a csoport nevét tartalmazza.\n",
    "A diagram címe legyen: 'Proportion of Students by Race/Ethnicity'\n",
    "\n",
    "függvény bemente: input_df\n",
    "Egy példa a kimenetre: fig\n",
    "kimeneti típus: matplotlib.figure.Figure\n",
    "függvény neve: ethnicity_pie_chart\n",
    "'''"
   ],
   "metadata": {
    "collapsed": false
   },
   "id": "2e202c23683b5f7"
  },
  {
   "cell_type": "code",
   "execution_count": 29,
   "outputs": [
    {
     "ename": "NameError",
     "evalue": "name 'df_data_with_grade' is not defined",
     "output_type": "error",
     "traceback": [
      "\u001B[0;31m---------------------------------------------------------------------------\u001B[0m",
      "\u001B[0;31mNameError\u001B[0m                                 Traceback (most recent call last)",
      "Cell \u001B[0;32mIn[29], line 14\u001B[0m\n\u001B[1;32m     10\u001B[0m     ax\u001B[38;5;241m.\u001B[39mset_title(\u001B[38;5;124m'\u001B[39m\u001B[38;5;124mProportion of Students by Race/Ethnicity\u001B[39m\u001B[38;5;124m'\u001B[39m)\n\u001B[1;32m     12\u001B[0m     \u001B[38;5;28;01mreturn\u001B[39;00m fig\n\u001B[0;32m---> 14\u001B[0m input_df \u001B[38;5;241m=\u001B[39m \u001B[43mdf_data_with_grade\u001B[49m\n\u001B[1;32m     16\u001B[0m fig \u001B[38;5;241m=\u001B[39m ethnicity_pie_chart(input_df)\n\u001B[1;32m     18\u001B[0m plt\u001B[38;5;241m.\u001B[39mshow()\n",
      "\u001B[0;31mNameError\u001B[0m: name 'df_data_with_grade' is not defined"
     ]
    }
   ],
   "source": [
    "import pandas as pd\n",
    "import matplotlib.pyplot as plt\n",
    "\n",
    "def ethnicity_pie_chart(input_df):\n",
    "\n",
    "    ethnicity_counts = input_df['race/ethnicity'].value_counts()\n",
    "\n",
    "    fig, ax = plt.subplots()\n",
    "    ax.pie(ethnicity_counts, labels=ethnicity_counts.index, autopct='%1.1f%%', startangle=90)\n",
    "    ax.set_title('Proportion of Students by Race/Ethnicity')\n",
    "\n",
    "    return fig\n",
    "\n",
    "input_df = df_data_with_grade\n",
    "\n",
    "fig = ethnicity_pie_chart(input_df)\n",
    "\n",
    "plt.show()\n"
   ],
   "metadata": {
    "collapsed": false,
    "ExecuteTime": {
     "end_time": "2023-10-08T16:20:28.794793Z",
     "start_time": "2023-10-08T16:20:28.647873Z"
    }
   },
   "id": "23a9a1992cca1303"
  },
  {
   "cell_type": "markdown",
   "source": [
    "Szimulációs feladat"
   ],
   "metadata": {
    "collapsed": false
   },
   "id": "6861dbeedc835c61"
  },
  {
   "cell_type": "code",
   "execution_count": null,
   "outputs": [],
   "source": [
    "\"\"\"\n",
    "1. Készíts egy függvényt, ami létrehoz egy listát, benne number_of_trajectories db listával. A belső listák létrehozásának logikája a következő:\n",
    "    A bemeneti paraméterként kapott normal_distribution osztály felhasználásával (NormalDistribution 0,1 paraméterekkel) generálj length_of_trajectory véletlen számot\n",
    "    A belső lista tartalmazza a generált számok kumulatív átlagát.\n",
    "    Ismételd meg number_of_trajectories alkalommal (mindegyik belső listába egyszer)\n",
    "\n",
    "függvény bemenete: normal_distribution, number_of_trajectories, length_of_trajectory\n",
    "kimeneti típus: List    \n",
    "függvény neve: generate_mean_trajectories\n",
    "\"\"\""
   ],
   "metadata": {
    "collapsed": false
   },
   "id": "d36c0a7156750c9e"
  },
  {
   "cell_type": "code",
   "execution_count": 30,
   "outputs": [
    {
     "ename": "AttributeError",
     "evalue": "'rv_continuous_frozen' object has no attribute 'random'",
     "output_type": "error",
     "traceback": [
      "\u001B[0;31m---------------------------------------------------------------------------\u001B[0m",
      "\u001B[0;31mAttributeError\u001B[0m                            Traceback (most recent call last)",
      "Cell \u001B[0;32mIn[30], line 26\u001B[0m\n\u001B[1;32m     23\u001B[0m number_of_trajectories \u001B[38;5;241m=\u001B[39m \u001B[38;5;241m5\u001B[39m\n\u001B[1;32m     24\u001B[0m length_of_trajectory \u001B[38;5;241m=\u001B[39m \u001B[38;5;241m100\u001B[39m\n\u001B[0;32m---> 26\u001B[0m trajectories \u001B[38;5;241m=\u001B[39m \u001B[43mgenerate_mean_trajectories\u001B[49m\u001B[43m(\u001B[49m\u001B[43mnormal_distribution\u001B[49m\u001B[43m,\u001B[49m\u001B[43m \u001B[49m\u001B[43mnumber_of_trajectories\u001B[49m\u001B[43m,\u001B[49m\u001B[43m \u001B[49m\u001B[43mlength_of_trajectory\u001B[49m\u001B[43m)\u001B[49m\n\u001B[1;32m     28\u001B[0m \u001B[38;5;28;01mfor\u001B[39;00m i \u001B[38;5;129;01min\u001B[39;00m \u001B[38;5;28mrange\u001B[39m(number_of_trajectories):\n\u001B[1;32m     29\u001B[0m     \u001B[38;5;28mprint\u001B[39m(\u001B[38;5;124mf\u001B[39m\u001B[38;5;124m\"\u001B[39m\u001B[38;5;124mTrajectory \u001B[39m\u001B[38;5;132;01m{\u001B[39;00mi\u001B[38;5;250m \u001B[39m\u001B[38;5;241m+\u001B[39m\u001B[38;5;250m \u001B[39m\u001B[38;5;241m1\u001B[39m\u001B[38;5;132;01m}\u001B[39;00m\u001B[38;5;124m: \u001B[39m\u001B[38;5;132;01m{\u001B[39;00mtrajectories[i][:\u001B[38;5;241m5\u001B[39m]\u001B[38;5;132;01m}\u001B[39;00m\u001B[38;5;124m ...\u001B[39m\u001B[38;5;124m\"\u001B[39m)\n",
      "Cell \u001B[0;32mIn[30], line 11\u001B[0m, in \u001B[0;36mgenerate_mean_trajectories\u001B[0;34m(normal_distribution, number_of_trajectories, length_of_trajectory)\u001B[0m\n\u001B[1;32m      8\u001B[0m trajectory \u001B[38;5;241m=\u001B[39m []  \n\u001B[1;32m     10\u001B[0m \u001B[38;5;28;01mfor\u001B[39;00m _ \u001B[38;5;129;01min\u001B[39;00m \u001B[38;5;28mrange\u001B[39m(length_of_trajectory):\n\u001B[0;32m---> 11\u001B[0m     random_value \u001B[38;5;241m=\u001B[39m \u001B[43mnormal_distribution\u001B[49m\u001B[38;5;241;43m.\u001B[39;49m\u001B[43mrandom\u001B[49m() \n\u001B[1;32m     12\u001B[0m     trajectory\u001B[38;5;241m.\u001B[39mappend(random_value)  \n\u001B[1;32m     14\u001B[0m cumulative_means \u001B[38;5;241m=\u001B[39m [mean(trajectory[:i \u001B[38;5;241m+\u001B[39m \u001B[38;5;241m1\u001B[39m]) \u001B[38;5;28;01mfor\u001B[39;00m i \u001B[38;5;129;01min\u001B[39;00m \u001B[38;5;28mrange\u001B[39m(length_of_trajectory)]\n",
      "\u001B[0;31mAttributeError\u001B[0m: 'rv_continuous_frozen' object has no attribute 'random'"
     ]
    }
   ],
   "source": [
    "from statistics import mean\n",
    "from random import normalvariate\n",
    "\n",
    "def generate_mean_trajectories(normal_distribution, number_of_trajectories, length_of_trajectory):\n",
    "    trajectories = []  \n",
    "\n",
    "    for _ in range(number_of_trajectories):\n",
    "        trajectory = []  \n",
    "\n",
    "        for _ in range(length_of_trajectory):\n",
    "            random_value = normal_distribution.random() \n",
    "            trajectory.append(random_value)  \n",
    "\n",
    "        cumulative_means = [mean(trajectory[:i + 1]) for i in range(length_of_trajectory)]\n",
    "        trajectories.append(cumulative_means)\n",
    "\n",
    "    return trajectories\n",
    "\n",
    "\n",
    "from scipy.stats import norm  \n",
    "normal_distribution = norm(0, 1)  \n",
    "\n",
    "number_of_trajectories = 5\n",
    "length_of_trajectory = 100\n",
    "\n",
    "trajectories = generate_mean_trajectories(normal_distribution, number_of_trajectories, length_of_trajectory)\n",
    "\n",
    "for i in range(number_of_trajectories):\n",
    "    print(f\"Trajectory {i + 1}: {trajectories[i][:5]} ...\")\n"
   ],
   "metadata": {
    "collapsed": false,
    "ExecuteTime": {
     "end_time": "2023-10-08T16:22:27.797234Z",
     "start_time": "2023-10-08T16:22:21.095259Z"
    }
   },
   "id": "1d0eeb60b6bde96a"
  },
  {
   "cell_type": "markdown",
   "source": [
    "A 2. feladatban használhatsz numpy-t."
   ],
   "metadata": {
    "collapsed": false
   },
   "id": "a25908675ef61ba3"
  },
  {
   "cell_type": "code",
   "execution_count": null,
   "outputs": [],
   "source": [
    "\"\"\"\n",
    "2., Az előző feladatban létrehozott listák listáját ábrázold vonal ábrával. Minden vonal feleljen meg 1 belső listának (50 vonal legyen az ábrán)\n",
    "\n",
    "Az ábra címe: Mean trajectories\n",
    "\n",
    "függvény bemente: input_list\n",
    "függvény kimenete: fig\n",
    "kimeneti típus: matplotlib.figure.Figure\n",
    "\n",
    "\"\"\""
   ],
   "metadata": {
    "collapsed": false
   },
   "id": "d6d868238a5b5f73"
  },
  {
   "cell_type": "code",
   "execution_count": 32,
   "outputs": [
    {
     "ename": "AttributeError",
     "evalue": "'numpy.ndarray' object has no attribute 'rvs'",
     "output_type": "error",
     "traceback": [
      "\u001B[0;31m---------------------------------------------------------------------------\u001B[0m",
      "\u001B[0;31mAttributeError\u001B[0m                            Traceback (most recent call last)",
      "Cell \u001B[0;32mIn[32], line 27\u001B[0m\n\u001B[1;32m     23\u001B[0m     \u001B[38;5;28;01mreturn\u001B[39;00m fig\n\u001B[1;32m     25\u001B[0m number_of_trajectories \u001B[38;5;241m=\u001B[39m \u001B[38;5;241m50\u001B[39m  \n\u001B[0;32m---> 27\u001B[0m input_list \u001B[38;5;241m=\u001B[39m \u001B[43mgenerate_mean_trajectories\u001B[49m\u001B[43m(\u001B[49m\u001B[43mnp\u001B[49m\u001B[38;5;241;43m.\u001B[39;49m\u001B[43mrandom\u001B[49m\u001B[38;5;241;43m.\u001B[39;49m\u001B[43mnormal\u001B[49m\u001B[43m(\u001B[49m\u001B[38;5;241;43m0\u001B[39;49m\u001B[43m,\u001B[49m\u001B[43m \u001B[49m\u001B[38;5;241;43m1\u001B[39;49m\u001B[43m,\u001B[49m\u001B[43m \u001B[49m\u001B[43msize\u001B[49m\u001B[38;5;241;43m=\u001B[39;49m\u001B[43m(\u001B[49m\u001B[43mnumber_of_trajectories\u001B[49m\u001B[43m,\u001B[49m\u001B[43m \u001B[49m\u001B[38;5;241;43m100\u001B[39;49m\u001B[43m)\u001B[49m\u001B[43m)\u001B[49m\u001B[43m,\u001B[49m\u001B[43m \u001B[49m\u001B[43mnumber_of_trajectories\u001B[49m\u001B[43m,\u001B[49m\u001B[43m \u001B[49m\u001B[38;5;241;43m100\u001B[39;49m\u001B[43m)\u001B[49m\n\u001B[1;32m     29\u001B[0m fig \u001B[38;5;241m=\u001B[39m plot_mean_trajectories(input_list)\n\u001B[1;32m     31\u001B[0m plt\u001B[38;5;241m.\u001B[39mshow()\n",
      "Cell \u001B[0;32mIn[32], line 8\u001B[0m, in \u001B[0;36mgenerate_mean_trajectories\u001B[0;34m(normal_distribution, number_of_trajectories, length_of_trajectory)\u001B[0m\n\u001B[1;32m      5\u001B[0m trajectories \u001B[38;5;241m=\u001B[39m []  \n\u001B[1;32m      7\u001B[0m \u001B[38;5;28;01mfor\u001B[39;00m _ \u001B[38;5;129;01min\u001B[39;00m \u001B[38;5;28mrange\u001B[39m(number_of_trajectories):\n\u001B[0;32m----> 8\u001B[0m     trajectory \u001B[38;5;241m=\u001B[39m np\u001B[38;5;241m.\u001B[39mcumsum(\u001B[43mnormal_distribution\u001B[49m\u001B[38;5;241;43m.\u001B[39;49m\u001B[43mrvs\u001B[49m(size\u001B[38;5;241m=\u001B[39mlength_of_trajectory))  \u001B[38;5;66;03m# \u001B[39;00m\n\u001B[1;32m      9\u001B[0m     trajectories\u001B[38;5;241m.\u001B[39mappend(trajectory)\n\u001B[1;32m     11\u001B[0m \u001B[38;5;28;01mreturn\u001B[39;00m trajectories\n",
      "\u001B[0;31mAttributeError\u001B[0m: 'numpy.ndarray' object has no attribute 'rvs'"
     ]
    }
   ],
   "source": [
    "import numpy as np\n",
    "import matplotlib.pyplot as plt\n",
    "\n",
    "def generate_mean_trajectories(normal_distribution, number_of_trajectories, length_of_trajectory):\n",
    "    trajectories = []  \n",
    "\n",
    "    for _ in range(number_of_trajectories):\n",
    "        trajectory = np.cumsum(normal_distribution.rvs(size=length_of_trajectory))  # \n",
    "        trajectories.append(trajectory)\n",
    "\n",
    "    return trajectories\n",
    "\n",
    "def plot_mean_trajectories(input_list):\n",
    "    fig, ax = plt.subplots()\n",
    "    \n",
    "    for trajectory in input_list:\n",
    "        ax.plot(trajectory)\n",
    "\n",
    "    ax.set_title('Mean Trajectories')\n",
    "    ax.set_xlabel('Time Step')\n",
    "    ax.set_ylabel('Cumulative Mean')\n",
    "\n",
    "    return fig\n",
    "\n",
    "number_of_trajectories = 50  \n",
    "\n",
    "input_list = generate_mean_trajectories(np.random.normal(0, 1, size=(number_of_trajectories, 100)), number_of_trajectories, 100)\n",
    "\n",
    "fig = plot_mean_trajectories(input_list)\n",
    "\n",
    "plt.show()\n"
   ],
   "metadata": {
    "collapsed": false,
    "ExecuteTime": {
     "end_time": "2023-10-08T16:24:48.505214Z",
     "start_time": "2023-10-08T16:24:48.339493Z"
    }
   },
   "id": "77ce6db0ee09b724"
  },
  {
   "cell_type": "code",
   "execution_count": null,
   "outputs": [],
   "source": [],
   "metadata": {
    "collapsed": false
   },
   "id": "7dafd0522cead96b"
  }
 ],
 "metadata": {
  "kernelspec": {
   "display_name": "Python 3",
   "language": "python",
   "name": "python3"
  },
  "language_info": {
   "codemirror_mode": {
    "name": "ipython",
    "version": 2
   },
   "file_extension": ".py",
   "mimetype": "text/x-python",
   "name": "python",
   "nbconvert_exporter": "python",
   "pygments_lexer": "ipython2",
   "version": "2.7.6"
  }
 },
 "nbformat": 4,
 "nbformat_minor": 5
}
